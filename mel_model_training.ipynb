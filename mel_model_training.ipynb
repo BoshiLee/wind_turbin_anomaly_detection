{
 "cells": [
  {
   "cell_type": "code",
   "outputs": [],
   "source": [
    "import os\n",
    "import librosa\n",
    "from tqdm import tqdm\n",
    "import matplotlib.pyplot as plt\n",
    "import librosa.display\n",
    "import numpy as np"
   ],
   "metadata": {
    "collapsed": false,
    "ExecuteTime": {
     "end_time": "2024-06-19T02:40:00.024723Z",
     "start_time": "2024-06-19T02:39:53.509218Z"
    }
   },
   "id": "2903bf40e913349b",
   "execution_count": 1
  },
  {
   "cell_type": "code",
   "execution_count": 2,
   "id": "initial_id",
   "metadata": {
    "collapsed": true,
    "ExecuteTime": {
     "end_time": "2024-06-19T02:40:00.040294Z",
     "start_time": "2024-06-19T02:40:00.026723Z"
    }
   },
   "outputs": [],
   "source": [
    "target_sample_rate = 44100\n",
    "def load_segmented_files(directory):\n",
    "    wav_files = []\n",
    "    for file in tqdm(os.listdir(directory)):\n",
    "        if file.endswith(\".wav\"):\n",
    "            file_path = os.path.join(directory, file)\n",
    "            y, sr = librosa.load(file_path, sr=None)\n",
    "            wav_files.append(y)\n",
    "    return wav_files"
   ]
  },
  {
   "cell_type": "code",
   "outputs": [],
   "source": [
    "def normalize_audio(audio):\n",
    "    return audio / np.max(np.abs(audio))"
   ],
   "metadata": {
    "collapsed": false,
    "ExecuteTime": {
     "end_time": "2024-06-19T02:40:00.055989Z",
     "start_time": "2024-06-19T02:40:00.041188Z"
    }
   },
   "id": "e9b39111181e6a24",
   "execution_count": 3
  },
  {
   "cell_type": "code",
   "outputs": [
    {
     "name": "stderr",
     "output_type": "stream",
     "text": [
      "100%|██████████| 24538/24538 [01:24<00:00, 289.44it/s]\n",
      "100%|██████████| 192/192 [00:00<00:00, 328.51it/s]\n"
     ]
    }
   ],
   "source": [
    "# 指定 STFT 參數\n",
    "hop_length = 512\n",
    "n_mels = 256\n",
    "n_fft = 4096\n",
    "\n",
    "# 讀取分割後的音訊片段\n",
    "segmented_files_normal = load_segmented_files('segmented_audio')\n",
    "mel_spectrograms_normal = []\n"
   ],
   "metadata": {
    "collapsed": false,
    "ExecuteTime": {
     "end_time": "2024-06-19T02:41:25.460588Z",
     "start_time": "2024-06-19T02:40:00.057987Z"
    }
   },
   "id": "55da96041e4eb88e",
   "execution_count": 4
  },
  {
   "cell_type": "code",
   "outputs": [
    {
     "name": "stderr",
     "output_type": "stream",
     "text": [
      "100%|██████████| 24538/24538 [00:04<00:00, 4958.80it/s]\n",
      "100%|██████████| 192/192 [00:00<00:00, 3331.00it/s]\n"
     ]
    }
   ],
   "source": [
    "# 正規化音訊片段\n",
    "segmented_files_normal = [normalize_audio(audio) for audio in tqdm(segmented_files_normal)]\n"
   ],
   "metadata": {
    "collapsed": false,
    "ExecuteTime": {
     "end_time": "2024-06-19T02:41:32.160155Z",
     "start_time": "2024-06-19T02:41:25.462581Z"
    }
   },
   "id": "ccb67c02a57f0ad9",
   "execution_count": 5
  },
  {
   "cell_type": "code",
   "outputs": [
    {
     "name": "stderr",
     "output_type": "stream",
     "text": [
      " 22%|██▏       | 5383/24538 [01:16<04:33, 70.08it/s]\n",
      "\n",
      "KeyboardInterrupt\n",
      "\n"
     ]
    }
   ],
   "source": [
    "def convert_to_mel_spectrogram(audio, n_fft, hop_length, n_mels):\n",
    "    mel_spectrogram = librosa.feature.melspectrogram(y=audio, sr=target_sample_rate, n_fft=n_fft, hop_length=hop_length,\n",
    "                                                     n_mels=n_mels)\n",
    "    mel_spectrogram_db = librosa.power_to_db(mel_spectrogram, ref=np.max)\n",
    "    return mel_spectrogram_db\n",
    "\n",
    "for audio in tqdm(segmented_files_normal):\n",
    "    mel_spectrogram = convert_to_mel_spectrogram(audio, n_fft, hop_length, n_mels)\n",
    "    mel_spectrograms_normal.append(mel_spectrogram)\n",
    "    \n"
   ],
   "metadata": {
    "collapsed": false,
    "ExecuteTime": {
     "end_time": "2024-06-19T02:42:49.175114Z",
     "start_time": "2024-06-19T02:41:32.161127Z"
    }
   },
   "id": "db5f7b6487149f3e",
   "execution_count": 6
  },
  {
   "cell_type": "code",
   "outputs": [],
   "source": [
    "def plot_mel_spectrogram(mel_spectrogram, filename:str = None):\n",
    "    plt.figure(figsize=(10, 5))\n",
    "    librosa.display.specshow(mel_spectrogram, x_axis='time', y_axis='mel', sr=target_sample_rate, hop_length=hop_length)\n",
    "    plt.colorbar(format='%+2.0f dB')\n",
    "    plt.title(f'{filename} Mel spectrogram')\n",
    "    plt.savefig(f'{filename}_mel_spectrogram.png')\n",
    "    plt.show()"
   ],
   "metadata": {
    "collapsed": false,
    "ExecuteTime": {
     "start_time": "2024-06-19T02:42:49.177113Z"
    }
   },
   "id": "c013c9f2c385c9f4",
   "execution_count": null
  },
  {
   "cell_type": "markdown",
   "source": [
    "# Spilt Dataset to training and testing"
   ],
   "metadata": {
    "collapsed": false
   },
   "id": "25cd908d98a04189"
  },
  {
   "cell_type": "code",
   "outputs": [],
   "source": [
    "from sklearn.model_selection import train_test_split\n",
    "\n",
    "# 將梅爾頻譜圖轉換為numpy數組\n",
    "mel_spectrograms_array = np.array(mel_spectrograms_normal)\n",
    "\n",
    "# 對數據進行切分\n",
    "train_data, test_data = train_test_split(mel_spectrograms_array, test_size=0.2, random_state=42)\n",
    "train_data, val_data = train_test_split(train_data, test_size=0.2, random_state=42)\n",
    "\n",
    "print(\"訓練集數據形狀:\", train_data.shape)\n",
    "print(\"驗證集數據形狀:\", val_data.shape)\n",
    "print(\"測試集數據形狀:\", test_data.shape)"
   ],
   "metadata": {
    "collapsed": false,
    "ExecuteTime": {
     "start_time": "2024-06-19T02:42:49.179113Z"
    }
   },
   "id": "79cf0c41705e2324",
   "execution_count": null
  },
  {
   "cell_type": "markdown",
   "source": [
    "# 調整數據的形狀"
   ],
   "metadata": {
    "collapsed": false
   },
   "id": "2c189551fa2d8e31"
  },
  {
   "cell_type": "code",
   "outputs": [],
   "source": [
    "# 調整數據的形狀\n",
    "train_data = train_data.reshape(train_data.shape[0], train_data.shape[1], train_data.shape[2], 1)\n",
    "val_data = val_data.reshape(val_data.shape[0], val_data.shape[1], val_data.shape[2], 1)\n",
    "test_data = test_data.reshape(test_data.shape[0], test_data.shape[1], test_data.shape[2], 1)\n",
    "\n",
    "# 數據歸一化到 [0, 1]\n",
    "train_data = (train_data - train_data.min()) / (train_data.max() - train_data.min())\n",
    "val_data = (val_data - val_data.min()) / (val_data.max() - val_data.min())\n",
    "test_data = (test_data - test_data.min()) / (test_data.max() - test_data.min())\n",
    "# 打印轉換後的數據形狀\n",
    "print(\"訓練集數據形狀:\", train_data.shape)\n",
    "print(\"驗證集數據形狀:\", val_data.shape)\n",
    "print(\"測試集數據形狀:\", test_data.shape)"
   ],
   "metadata": {
    "collapsed": false,
    "ExecuteTime": {
     "start_time": "2024-06-19T02:42:49.180112Z"
    }
   },
   "id": "ad3e1cec51e54d60",
   "execution_count": null
  },
  {
   "cell_type": "markdown",
   "source": [
    "# 創建 CNN Autoencoder 模型"
   ],
   "metadata": {
    "collapsed": false
   },
   "id": "b02d3a0bff17c8b5"
  },
  {
   "cell_type": "code",
   "outputs": [],
   "source": [
    "from keras.layers import Lambda\n",
    "from tensorflow.keras.models import Model\n",
    "from tensorflow.keras.layers import Input, Conv2D, MaxPooling2D, UpSampling2D\n",
    "\n",
    "def create_cnn_autoencoder(input_shape):\n",
    "    input_img = Input(shape=input_shape)\n",
    "    input_height = input_shape[1]\n",
    "    # Encoder\n",
    "    x = Conv2D(16, (3, 3), activation='relu', padding='same')(input_img)\n",
    "    x = MaxPooling2D((2, 2), padding='same')(x)\n",
    "    x = Conv2D(8, (3, 3), activation='relu', padding='same')(x)\n",
    "    x = MaxPooling2D((2, 2), padding='same')(x)\n",
    "    x = Conv2D(8, (3, 3), activation='relu', padding='same')(x)\n",
    "    encoded = MaxPooling2D((2, 2), padding='same')(x)\n",
    "    \n",
    "    # Decoder\n",
    "    x = Conv2D(8, (3, 3), activation='relu', padding='same')(encoded)\n",
    "    x = UpSampling2D((2, 2))(x)\n",
    "    x = Conv2D(8, (3, 3), activation='relu', padding='same')(x)\n",
    "    x = UpSampling2D((2, 2))(x)\n",
    "    x = Conv2D(16, (3, 3), activation='relu', padding='same')(x)\n",
    "    x = UpSampling2D((2, 2))(x)\n",
    "    decoded = Conv2D(1, (3, 3), activation='sigmoid', padding='same')(x)\n",
    "    decoded = Lambda(lambda x: x[:, :, :input_height, :])(decoded)\n",
    "    \n",
    "    autoencoder = Model(input_img, decoded)\n",
    "    return autoencoder\n",
    "\n"
   ],
   "metadata": {
    "collapsed": false,
    "ExecuteTime": {
     "start_time": "2024-06-19T02:42:49.181112Z"
    }
   },
   "id": "e1ac3c3213546fb8",
   "execution_count": null
  },
  {
   "cell_type": "markdown",
   "source": [
    "# 初始化模型"
   ],
   "metadata": {
    "collapsed": false
   },
   "id": "4ef2b95e55ea6d98"
  },
  {
   "cell_type": "code",
   "outputs": [],
   "source": [
    "# 指定輸入形狀\n",
    "input_shape = np.shape(train_data)[1:]\n",
    "\n",
    "# 創建 CNN Autoencoder 模型\n",
    "autoencoder = create_cnn_autoencoder(input_shape)\n",
    "autoencoder.summary()"
   ],
   "metadata": {
    "collapsed": false,
    "ExecuteTime": {
     "start_time": "2024-06-19T02:42:49.182112Z"
    }
   },
   "id": "84d8bdabcfeac3e2",
   "execution_count": null
  },
  {
   "cell_type": "code",
   "outputs": [],
   "source": [
    "from tensorflow.keras.optimizers import Adam \n",
    "# 設定初始學習率\n",
    "initial_learning_rate = 0.01\n",
    "\n",
    "# 創建 Adam 優化器並指定學習率\n",
    "optimizer = Adam(learning_rate=initial_learning_rate)\n",
    "\n",
    "\n",
    "# 編譯模型\n",
    "autoencoder.compile(optimizer='adam', loss='mse')"
   ],
   "metadata": {
    "collapsed": false,
    "ExecuteTime": {
     "start_time": "2024-06-19T02:42:49.185114Z"
    }
   },
   "id": "9e23048612884a57",
   "execution_count": null
  },
  {
   "cell_type": "markdown",
   "source": [
    "# 訓練模型"
   ],
   "metadata": {
    "collapsed": false
   },
   "id": "a7d6f86bbefd95c2"
  },
  {
   "cell_type": "code",
   "outputs": [],
   "source": [
    "history = autoencoder.fit(train_data, train_data,\n",
    "                epochs=100,\n",
    "                batch_size=16,\n",
    "                shuffle=True,\n",
    "                validation_data=(test_data, test_data))"
   ],
   "metadata": {
    "collapsed": false,
    "ExecuteTime": {
     "start_time": "2024-06-19T02:42:49.186113Z"
    }
   },
   "id": "ce8aec599434993b",
   "execution_count": null
  },
  {
   "cell_type": "markdown",
   "source": [
    "# 評估模型"
   ],
   "metadata": {
    "collapsed": false
   },
   "id": "85394d3d9a07b723"
  },
  {
   "cell_type": "code",
   "outputs": [],
   "source": [
    "test_loss = autoencoder.evaluate(val_data, val_data)\n",
    "print(\"Test loss:\", test_loss)"
   ],
   "metadata": {
    "collapsed": false,
    "ExecuteTime": {
     "start_time": "2024-06-19T02:42:49.187114Z"
    }
   },
   "id": "a218a1aa00ee2711",
   "execution_count": null
  },
  {
   "cell_type": "markdown",
   "source": [
    "# 繪製訓練過程"
   ],
   "metadata": {
    "collapsed": false
   },
   "id": "1cdf051f45005f0d"
  },
  {
   "cell_type": "code",
   "outputs": [],
   "source": [
    "plt.plot(history.history['loss'])\n",
    "plt.plot(history.history['val_loss'])\n",
    "plt.title('Model loss')\n",
    "plt.ylabel('Loss')\n",
    "plt.xlabel('Epoch')\n",
    "plt.legend(['Train', 'Test'], loc='upper right')\n",
    "plt.show()"
   ],
   "metadata": {
    "collapsed": false,
    "ExecuteTime": {
     "start_time": "2024-06-19T02:42:49.188115Z"
    }
   },
   "id": "403e4c3f84439f45",
   "execution_count": null
  },
  {
   "cell_type": "markdown",
   "source": [
    "# 儲存模型"
   ],
   "metadata": {
    "collapsed": false
   },
   "id": "eac6b2b2558d7748"
  },
  {
   "cell_type": "code",
   "outputs": [],
   "source": [
    "autoencoder.save('mel_autoencoder.h5')"
   ],
   "metadata": {
    "collapsed": false
   },
   "id": "1e2c2c973d198acb",
   "execution_count": null
  },
  {
   "cell_type": "markdown",
   "source": [
    "# 使用測試集數據進行預測"
   ],
   "metadata": {
    "collapsed": false
   },
   "id": "b0fee0a3d0ab9c3b"
  },
  {
   "cell_type": "code",
   "outputs": [],
   "source": [
    "reconstructed_data = autoencoder.predict(test_data)"
   ],
   "metadata": {
    "collapsed": false
   },
   "id": "5fdd701755242fa4",
   "execution_count": null
  },
  {
   "cell_type": "code",
   "outputs": [],
   "source": [
    "def plot_comparison(input_mel_spectrogram, output_mel_spectrogram, input_title, output_title):\n",
    "    plt.figure(figsize=(20, 5))\n",
    "    \n",
    "    # 繪製輸入梅爾頻譜圖\n",
    "    plt.subplot(1, 2, 1)\n",
    "    librosa.display.specshow(input_mel_spectrogram, x_axis='time', y_axis='mel', sr=target_sample_rate, hop_length=hop_length)\n",
    "    plt.colorbar(format='%+2.0f dB')\n",
    "    plt.title(input_title)\n",
    "    \n",
    "    # 繪製輸出梅爾頻譜圖\n",
    "    plt.subplot(1, 2, 2)\n",
    "    librosa.display.specshow(output_mel_spectrogram, x_axis='time', y_axis='mel', sr=target_sample_rate, hop_length=hop_length)\n",
    "    plt.colorbar(format='%+2.0f dB')\n",
    "    plt.title(output_title)\n",
    "    \n",
    "    plt.tight_layout()\n",
    "    plt.savefig('reconstructed_mel_spectrogram.png')\n",
    "    plt.show()"
   ],
   "metadata": {
    "collapsed": false,
    "ExecuteTime": {
     "start_time": "2024-06-19T02:42:49.193113Z"
    }
   },
   "id": "8f0aa6345d440867",
   "execution_count": null
  },
  {
   "cell_type": "code",
   "outputs": [],
   "source": [
    "plot_comparison(test_data[0].reshape(test_data[0].shape[0], test_data[0].shape[1]),\n",
    "                reconstructed_data[0].reshape(reconstructed_data[0].shape[0], reconstructed_data[0].shape[1]),\n",
    "                'Original Mel Spectrogram', 'Reconstructed Mel Spectrogram')"
   ],
   "metadata": {
    "collapsed": false,
    "ExecuteTime": {
     "start_time": "2024-06-19T02:42:49.194112Z"
    }
   },
   "id": "7f7efcc655a25807",
   "execution_count": null
  },
  {
   "cell_type": "markdown",
   "source": [
    "計算評估指標"
   ],
   "metadata": {
    "collapsed": false
   },
   "id": "f08f171f287e88be"
  },
  {
   "cell_type": "code",
   "outputs": [],
   "source": [
    "# 計算均方誤差 (MSE)\n",
    "mse = np.mean((test_data - reconstructed_data) ** 2)\n",
    "print(\"Reconstruction MSE:\", mse)\n",
    "\n",
    "# 計算平均絕對誤差 (MAE)\n",
    "mae = np.mean(np.abs(test_data - reconstructed_data))\n",
    "print(\"Reconstruction MAE:\", mae)\n",
    "\n",
    "# 計算均方根誤差 (RMSE)\n",
    "rmse = np.sqrt(np.mean((test_data - reconstructed_data) ** 2))\n",
    "print(\"Reconstruction RMSE:\", rmse)"
   ],
   "metadata": {
    "collapsed": false
   },
   "id": "a320712521e2e4bd",
   "execution_count": null
  },
  {
   "cell_type": "code",
   "outputs": [],
   "source": [
    "segmented_files_anomaly = load_segmented_files('segmented_audio_anomaly')\n",
    "mel_spectrograms_anomaly = []\n",
    "segmented_files_anomaly = [normalize_audio(audio) for audio in tqdm(segmented_files_anomaly)]\n",
    "\n",
    "for audio in tqdm(segmented_files_anomaly):\n",
    "    mel_spectrogram = convert_to_mel_spectrogram(audio, n_fft, hop_length, n_mels)\n",
    "    mel_spectrograms_anomaly.append(mel_spectrogram)"
   ],
   "metadata": {
    "collapsed": false
   },
   "id": "11c9237c30035d2a"
  }
 ],
 "metadata": {
  "kernelspec": {
   "display_name": "Python 3",
   "language": "python",
   "name": "python3"
  },
  "language_info": {
   "codemirror_mode": {
    "name": "ipython",
    "version": 2
   },
   "file_extension": ".py",
   "mimetype": "text/x-python",
   "name": "python",
   "nbconvert_exporter": "python",
   "pygments_lexer": "ipython2",
   "version": "2.7.6"
  }
 },
 "nbformat": 4,
 "nbformat_minor": 5
}
