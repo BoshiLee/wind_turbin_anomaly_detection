{
 "cells": [
  {
   "cell_type": "code",
   "source": [
    "import os\n",
    "import librosa\n",
    "from tqdm import tqdm\n",
    "import librosa.display\n",
    "import numpy as np\n",
    "from sklearn.model_selection import train_test_split\n",
    "from dotenv import load_dotenv"
   ],
   "metadata": {
    "collapsed": false,
    "ExecuteTime": {
     "end_time": "2024-07-01T08:36:17.030063Z",
     "start_time": "2024-07-01T08:36:12.325484Z"
    }
   },
   "id": "2903bf40e913349b",
   "outputs": [],
   "execution_count": 1
  },
  {
   "metadata": {
    "ExecuteTime": {
     "end_time": "2024-07-01T08:36:27.126983Z",
     "start_time": "2024-07-01T08:36:27.111984Z"
    }
   },
   "cell_type": "code",
   "source": [
    "def normalize_audio(wav):\n",
    "    # 標準化音頻信號\n",
    "    factor = np.max(np.abs(wav))\n",
    "    if factor == 0:\n",
    "        return wav\n",
    "    return wav / factor\n",
    "\n",
    "def hamming_window(wav):\n",
    "    # 應用漢明窗以減少邊緣效應\n",
    "    return wav * np.hamming(len(wav))\n",
    "\n",
    "def convert_to_mel_spectrogram(audio, n_fft, hop_length, n_mels):\n",
    "    audio = normalize_audio(audio)\n",
    "    audio = hamming_window(audio)\n",
    "    mel_spectrogram = librosa.feature.melspectrogram(y=audio, sr=target_sample_rate, n_fft=n_fft, hop_length=hop_length,\n",
    "                                                     n_mels=n_mels)\n",
    "    mel_spectrogram_db = librosa.power_to_db(mel_spectrogram, ref=np.max)\n",
    "    return mel_spectrogram_db"
   ],
   "id": "9d6ee70cef48b82a",
   "outputs": [],
   "execution_count": 2
  },
  {
   "cell_type": "code",
   "id": "initial_id",
   "metadata": {
    "collapsed": true,
    "ExecuteTime": {
     "end_time": "2024-07-01T08:36:29.660499Z",
     "start_time": "2024-07-01T08:36:29.645500Z"
    }
   },
   "source": [
    "target_sample_rate = 44100\n",
    "# 指定 STFT 參數\n",
    "load_dotenv()\n",
    "hop_length = int(os.getenv('hop_length'))\n",
    "n_mels = int(os.getenv('n_mels'))\n",
    "n_fft = int(os.getenv('n_fft'))\n"
   ],
   "outputs": [],
   "execution_count": 3
  },
  {
   "metadata": {
    "ExecuteTime": {
     "end_time": "2024-07-01T08:36:32.664439Z",
     "start_time": "2024-07-01T08:36:32.659440Z"
    }
   },
   "cell_type": "code",
   "source": [
    "def load_segmented_files(directory):\n",
    "    wav_files = []\n",
    "    for file in tqdm(os.listdir(directory)):\n",
    "        if file.endswith(\".wav\"):\n",
    "            file_path = os.path.join(directory, file)\n",
    "            y, sr = librosa.load(file_path, sr=None)\n",
    "            target_sample_rate = sr\n",
    "            path = file.split(os.path.sep)\n",
    "            filename = f'{path[-1]}'\n",
    "            wav_files.append((y, filename))\n",
    "    return wav_files"
   ],
   "id": "b8b19fb5b9994532",
   "outputs": [],
   "execution_count": 4
  },
  {
   "metadata": {
    "ExecuteTime": {
     "end_time": "2024-07-01T08:37:11.008206Z",
     "start_time": "2024-07-01T08:36:33.645057Z"
    }
   },
   "cell_type": "code",
   "source": [
    "# 讀取分割後的音訊片段\n",
    "normal_segments = load_segmented_files('output')\n",
    "anomaly_segments = load_segmented_files('output_anomaly')\n",
    "# 打亂 mel_spectrograms_normal 列表\n",
    "np.random.shuffle(normal_segments)\n",
    "np.random.shuffle(anomaly_segments)"
   ],
   "id": "f5f962a3285fe0d6",
   "outputs": [
    {
     "name": "stderr",
     "output_type": "stream",
     "text": [
      "100%|██████████| 3330/3330 [00:12<00:00, 262.42it/s]\n",
      "100%|██████████| 6660/6660 [00:24<00:00, 270.43it/s]\n"
     ]
    }
   ],
   "execution_count": 5
  },
  {
   "metadata": {
    "ExecuteTime": {
     "end_time": "2024-07-01T08:38:25.163689Z",
     "start_time": "2024-07-01T08:37:18.148968Z"
    }
   },
   "cell_type": "code",
   "source": [
    "mel_spectrograms_normal = [convert_to_mel_spectrogram(audio[0], n_fft, hop_length, n_mels) for audio in tqdm(normal_segments)]\n",
    "mel_spectrograms_anomaly = [convert_to_mel_spectrogram(audio[0], n_fft, hop_length, n_mels) for audio in tqdm(anomaly_segments[:len(normal_segments)])]"
   ],
   "id": "a93915a4e5e5f6a",
   "outputs": [
    {
     "name": "stderr",
     "output_type": "stream",
     "text": [
      "  0%|          | 0/3330 [00:00<?, ?it/s]C:\\Users\\User\\miniconda3\\envs\\wind_turbine\\lib\\site-packages\\librosa\\util\\decorators.py:88: UserWarning: Empty filters detected in mel frequency basis. Some channels will produce empty responses. Try increasing your sampling rate (and fmax) or reducing n_mels.\n",
      "  return f(*args, **kwargs)\n",
      "100%|██████████| 3330/3330 [00:33<00:00, 99.71it/s] \n",
      "100%|██████████| 3330/3330 [00:33<00:00, 99.08it/s] \n"
     ]
    }
   ],
   "execution_count": 6
  },
  {
   "cell_type": "markdown",
   "source": [
    "# 分割資料集"
   ],
   "metadata": {
    "collapsed": false
   },
   "id": "62dfa50a40e2cbaf"
  },
  {
   "cell_type": "code",
   "outputs": [],
   "source": [
    "X = mel_spectrograms_normal + mel_spectrograms_anomaly\n",
    "y = [0] * len(mel_spectrograms_normal) + [1] * len(mel_spectrograms_anomaly)"
   ],
   "metadata": {
    "collapsed": false,
    "ExecuteTime": {
     "end_time": "2024-07-01T08:39:12.831251Z",
     "start_time": "2024-07-01T08:39:12.822251Z"
    }
   },
   "id": "80cd82789727c00c",
   "execution_count": 7
  },
  {
   "cell_type": "markdown",
   "source": [
    "# 打亂資料集"
   ],
   "metadata": {
    "collapsed": false
   },
   "id": "951bb05bca1d2218"
  },
  {
   "cell_type": "code",
   "outputs": [],
   "source": [
    "combined = list(zip(X, y))\n",
    "np.random.shuffle(combined)\n",
    "X[:], y[:] = zip(*combined)"
   ],
   "metadata": {
    "collapsed": false,
    "ExecuteTime": {
     "end_time": "2024-07-01T08:39:22.861585Z",
     "start_time": "2024-07-01T08:39:22.846561Z"
    }
   },
   "id": "3a3fbcc4c8b1ed20",
   "execution_count": 8
  },
  {
   "cell_type": "code",
   "outputs": [
    {
     "data": {
      "text/plain": "(array([[-80.        , -80.        , -80.        , ..., -80.        ,\n         -80.        , -80.        ],\n        [-61.73487155, -62.92664556, -66.85266557, ..., -72.03854366,\n         -67.97746121, -66.29207128],\n        [-55.72328981, -56.91506383, -60.84108384, ..., -66.02696193,\n         -61.96587948, -60.28048955],\n        ...,\n        [-29.74827129, -28.96748814, -28.56893373, ..., -25.84680842,\n         -26.38559299, -28.02384032],\n        [-28.44970276, -28.06257494, -29.04562229, ..., -31.90300302,\n         -30.57375686, -30.43092518],\n        [-33.08297286, -32.15502581, -32.99685091, ..., -38.45594638,\n         -36.95836708, -36.24105992]]),\n 0)"
     },
     "execution_count": 12,
     "metadata": {},
     "output_type": "execute_result"
    }
   ],
   "source": [
    "combined[0]"
   ],
   "metadata": {
    "collapsed": false,
    "ExecuteTime": {
     "end_time": "2024-07-01T08:41:16.310411Z",
     "start_time": "2024-07-01T08:41:16.291410Z"
    }
   },
   "id": "36907db6dd406f85",
   "execution_count": 12
  },
  {
   "metadata": {},
   "cell_type": "markdown",
   "source": [
    "# Spilt Dataset to training and testing"
   ],
   "id": "25cd908d98a04189"
  },
  {
   "cell_type": "code",
   "source": [
    "# 將梅爾頻譜圖轉換為 NumPy 數組\n",
    "X = np.array(X)\n",
    "y = np.array(y)\n",
    "\n",
    "# 對數據進行切分\n",
    "X_train, X_temp, y_train, y_temp = train_test_split(X, y, test_size=0.2, random_state=42)\n",
    "X_val, X_test, y_val, y_test = train_test_split(X_temp, y_temp, test_size=0.5, random_state=42)\n",
    "\n",
    "print(\"訓練集數據形狀:\", X_train.shape)\n",
    "print(\"驗證集數據形狀:\", X_val.shape)\n",
    "print(\"測試集數據形狀:\", X_test.shape)\n",
    "print(\"訓練集標籤形狀:\", y_train.shape)\n",
    "print(\"驗證集標籤形狀:\", y_val.shape)\n",
    "print(\"測試集標籤形狀:\", y_test.shape)"
   ],
   "metadata": {
    "collapsed": false,
    "ExecuteTime": {
     "end_time": "2024-07-01T08:47:14.602745Z",
     "start_time": "2024-07-01T08:46:49.386775Z"
    }
   },
   "id": "79cf0c41705e2324",
   "outputs": [
    {
     "name": "stdout",
     "output_type": "stream",
     "text": [
      "訓練集數據形狀: (5328, 64, 2757)\n",
      "驗證集數據形狀: (666, 64, 2757)\n",
      "測試集數據形狀: (666, 64, 2757)\n",
      "訓練集標籤形狀: (5328,)\n",
      "驗證集標籤形狀: (666,)\n",
      "測試集標籤形狀: (666,)\n"
     ]
    }
   ],
   "execution_count": 14
  },
  {
   "cell_type": "markdown",
   "source": [
    "# 儲存資料集（選擇性）"
   ],
   "metadata": {
    "collapsed": false
   },
   "id": "25738f18f9520e86"
  },
  {
   "cell_type": "code",
   "outputs": [],
   "source": [
    "np.save('X_train.npy', X_train)\n",
    "np.save('X_val.npy', X_val)\n",
    "np.save('X_test.npy', X_test)\n",
    "np.save('y_train.npy', y_train)\n",
    "np.save('y_val.npy', y_val)\n",
    "np.save('y_test.npy', y_test)"
   ],
   "metadata": {
    "collapsed": false,
    "ExecuteTime": {
     "end_time": "2024-07-01T08:47:39.667749Z",
     "start_time": "2024-07-01T08:47:28.872395Z"
    }
   },
   "id": "c5e96076002a7299",
   "execution_count": 15
  },
  {
   "cell_type": "code",
   "outputs": [
    {
     "name": "stdout",
     "output_type": "stream",
     "text": [
      "訓練集數據形狀: (2131, 128, 1379, 1)\n",
      "驗證集數據形狀: (533, 128, 1379, 1)\n",
      "測試集數據形狀: (666, 128, 1379, 1)\n"
     ]
    }
   ],
   "source": [
    "# 調整數據的形狀\n",
    "# train_data = train_data.reshape(train_data.shape[0], train_data.shape[1], train_data.shape[2], 1)\n",
    "# val_data = val_data.reshape(val_data.shape[0], val_data.shape[1], val_data.shape[2], 1)\n",
    "# test_data = test_data.reshape(test_data.shape[0], test_data.shape[1], test_data.shape[2], 1)\n",
    "\n",
    "# 數據歸一化到 [0, 1]\n",
    "# train_data = (train_data - train_data.min()) / (train_data.max() - train_data.min())\n",
    "# val_data = (val_data - val_data.min()) / (val_data.max() - val_data.min())\n",
    "# test_data = (test_data - test_data.min()) / (test_data.max() - test_data.min())\n",
    "# 打印轉換後的數據形狀\n",
    "# print(\"訓練集數據形狀:\", train_data.shape)\n",
    "# print(\"驗證集數據形狀:\", val_data.shape)\n",
    "# print(\"測試集數據形狀:\", test_data.shape)"
   ],
   "metadata": {
    "collapsed": false,
    "ExecuteTime": {
     "end_time": "2024-06-29T03:12:16.792382Z",
     "start_time": "2024-06-29T03:12:12.715803Z"
    }
   },
   "id": "ad3e1cec51e54d60",
   "execution_count": 10
  },
  {
   "cell_type": "markdown",
   "source": [
    "# 調整數據的形狀"
   ],
   "metadata": {
    "collapsed": false
   },
   "id": "2c189551fa2d8e31"
  }
 ],
 "metadata": {
  "kernelspec": {
   "display_name": "Python 3",
   "language": "python",
   "name": "python3"
  },
  "language_info": {
   "codemirror_mode": {
    "name": "ipython",
    "version": 2
   },
   "file_extension": ".py",
   "mimetype": "text/x-python",
   "name": "python",
   "nbconvert_exporter": "python",
   "pygments_lexer": "ipython2",
   "version": "2.7.6"
  }
 },
 "nbformat": 4,
 "nbformat_minor": 5
}
