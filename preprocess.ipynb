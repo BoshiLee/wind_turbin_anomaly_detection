{
 "cells": [
  {
   "cell_type": "markdown",
   "source": [
    "# Load WAV files"
   ],
   "metadata": {
    "collapsed": false
   },
   "id": "621a3cc76e133de0"
  },
  {
   "cell_type": "code",
   "outputs": [
    {
     "name": "stdout",
     "output_type": "stream",
     "text": [
      "Number of WAV files: 1243\n"
     ]
    }
   ],
   "source": [
    "import os\n",
    "import librosa\n",
    "\n",
    "def load_and_resample_wav_files(directory, target_sr):\n",
    "    wav_files = []\n",
    "    for root, dirs, files in os.walk(directory):\n",
    "        for file in files:\n",
    "            if file.endswith(\".wav\"):\n",
    "                file_path = os.path.join(root, file)\n",
    "                y, sr = librosa.load(file_path, sr=None)\n",
    "                \n",
    "                # 重採樣到目標採樣率\n",
    "                if sr != target_sr:\n",
    "                    y = librosa.resample(y, sr, target_sr)\n",
    "                \n",
    "                wav_files.append(y)\n",
    "    return wav_files\n",
    "\n",
    "# 指定存放 WAV 檔案的根目錄\n",
    "wav_directory = \"54wave_dataset\"\n",
    "\n",
    "# 指定目標採樣率\n",
    "target_sample_rate = 12800  # 例如，將採樣率設置為 12800 Hz\n",
    "\n",
    "# 讀取 WAV 檔案並進行重採樣\n",
    "resampled_data = load_and_resample_wav_files(wav_directory, target_sample_rate)"
   ],
   "metadata": {
    "collapsed": true,
    "ExecuteTime": {
     "end_time": "2024-06-04T08:35:54.901622Z",
     "start_time": "2024-06-04T08:35:20.024005Z"
    }
   },
   "id": "initial_id",
   "execution_count": 2
  },
  {
   "cell_type": "code",
   "outputs": [],
   "source": [],
   "metadata": {
    "collapsed": false
   },
   "id": "2e1715d43a09efda"
  }
 ],
 "metadata": {
  "kernelspec": {
   "display_name": "Python 3",
   "language": "python",
   "name": "python3"
  },
  "language_info": {
   "codemirror_mode": {
    "name": "ipython",
    "version": 2
   },
   "file_extension": ".py",
   "mimetype": "text/x-python",
   "name": "python",
   "nbconvert_exporter": "python",
   "pygments_lexer": "ipython2",
   "version": "2.7.6"
  }
 },
 "nbformat": 4,
 "nbformat_minor": 5
}
