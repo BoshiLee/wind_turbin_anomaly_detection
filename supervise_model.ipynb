{
 "cells": [
  {
   "cell_type": "code",
   "id": "initial_id",
   "metadata": {
    "collapsed": true,
    "ExecuteTime": {
     "end_time": "2024-07-01T19:03:52.795384Z",
     "start_time": "2024-07-01T19:03:52.712545Z"
    }
   },
   "source": [
    "import numpy as np"
   ],
   "outputs": [],
   "execution_count": 1
  },
  {
   "cell_type": "code",
   "source": [
    "# 載入資料\n",
    "X_train = np.load('X_train.npy')\n",
    "X_val = np.load('X_val.npy')\n",
    "X_test = np.load('X_test.npy')\n",
    "y_train = np.load('y_train.npy')\n",
    "y_val = np.load('y_val.npy')\n",
    "y_test = np.load('y_test.npy')"
   ],
   "metadata": {
    "collapsed": false,
    "ExecuteTime": {
     "end_time": "2024-07-01T19:03:52.966725Z",
     "start_time": "2024-07-01T19:03:52.796946Z"
    }
   },
   "id": "a991ff7e6a77fbf6",
   "outputs": [],
   "execution_count": 2
  },
  {
   "cell_type": "code",
   "source": [
    "# 重塑數據形狀為 (樣本數, 高度, 寬度, 頻道數)\n",
    "X_train = X_train[..., np.newaxis]\n",
    "X_val = X_val[..., np.newaxis]\n",
    "X_test = X_test[..., np.newaxis]\n",
    "\n",
    "print(X_train.shape)\n",
    "print(X_val.shape)\n",
    "print(X_test.shape)"
   ],
   "metadata": {
    "collapsed": false,
    "ExecuteTime": {
     "end_time": "2024-07-01T19:03:52.982368Z",
     "start_time": "2024-07-01T19:03:52.967229Z"
    }
   },
   "id": "23693cc7edc30ccf",
   "outputs": [
    {
     "name": "stdout",
     "output_type": "stream",
     "text": [
      "(1776, 64, 1034, 1)\n",
      "(222, 64, 1034, 1)\n",
      "(222, 64, 1034, 1)\n"
     ]
    }
   ],
   "execution_count": 3
  },
  {
   "cell_type": "code",
   "source": [
    "import tensorflow as tf\n",
    "from keras import Input\n",
    "from tensorflow.keras.models import Model\n",
    "from tensorflow.keras.layers import Conv2D, MaxPooling2D, Flatten, Dense, Dropout, BatchNormalization\n",
    "\n",
    "from tensorflow.keras.layers import BatchNormalization\n",
    "\n",
    "def create_model(input_shape):\n",
    "    input_img = Input(shape=input_shape)\n",
    "    x = Conv2D(32, kernel_size=(3, 3), activation='relu', padding='same')(input_img)\n",
    "    x = BatchNormalization()(x)\n",
    "    x = MaxPooling2D((2, 2), padding='same')(x)\n",
    "    x = Conv2D(64, kernel_size=(3, 3), activation='relu', padding='same')(x)\n",
    "    x = BatchNormalization()(x)\n",
    "    x = MaxPooling2D((2, 2), padding='same')(x)\n",
    "    x = Conv2D(128, kernel_size=(3, 3), activation='relu', padding='same')(x)\n",
    "    x = BatchNormalization()(x)\n",
    "    x = MaxPooling2D((2, 2), padding='same')(x)\n",
    "    x = Conv2D(256, kernel_size=(3, 3), activation='relu', padding='same')(x)\n",
    "    x = BatchNormalization()(x)\n",
    "    x = MaxPooling2D((2, 2), padding='same')(x)\n",
    "    x = Conv2D(512, kernel_size=(3, 3), activation='relu', padding='same')(x)\n",
    "    x = BatchNormalization()(x)\n",
    "    x = MaxPooling2D((2, 2), padding='same')(x)\n",
    "    x = Flatten()(x)\n",
    "    x = Dense(512, activation='relu')(x)\n",
    "    x = Dropout(0.5)(x)\n",
    "    x = Dense(256, activation='relu')(x)\n",
    "    x = Dropout(0.2)(x)\n",
    "    x = Dense(128, activation='relu')(x)\n",
    "    x = Dropout(0.2)(x)\n",
    "    x = Dense(64, activation='relu')(x)\n",
    "    x = Dropout(0.2)(x)\n",
    "    output = Dense(1, activation='sigmoid')(x)\n",
    "    model = Model(inputs=input_img, outputs=output)\n",
    "    return model\n"
   ],
   "metadata": {
    "collapsed": false,
    "ExecuteTime": {
     "end_time": "2024-07-01T19:03:55.736746Z",
     "start_time": "2024-07-01T19:03:52.983371Z"
    }
   },
   "id": "896c8fe7d57b4eea",
   "outputs": [],
   "execution_count": 4
  },
  {
   "cell_type": "code",
   "source": [
    "input_shape = np.shape(X_train)[1:]\n",
    "model = create_model(input_shape)\n",
    "model.summary()"
   ],
   "metadata": {
    "collapsed": false,
    "ExecuteTime": {
     "end_time": "2024-07-01T19:03:56.702904Z",
     "start_time": "2024-07-01T19:03:55.738256Z"
    }
   },
   "id": "ba4e513b39adc8de",
   "outputs": [
    {
     "name": "stdout",
     "output_type": "stream",
     "text": [
      "Model: \"model\"\n",
      "_________________________________________________________________\n",
      " Layer (type)                Output Shape              Param #   \n",
      "=================================================================\n",
      " input_1 (InputLayer)        [(None, 64, 1034, 1)]     0         \n",
      "                                                                 \n",
      " conv2d (Conv2D)             (None, 64, 1034, 32)      320       \n",
      "                                                                 \n",
      " batch_normalization (BatchN  (None, 64, 1034, 32)     128       \n",
      " ormalization)                                                   \n",
      "                                                                 \n",
      " max_pooling2d (MaxPooling2D  (None, 32, 517, 32)      0         \n",
      " )                                                               \n",
      "                                                                 \n",
      " conv2d_1 (Conv2D)           (None, 32, 517, 64)       18496     \n",
      "                                                                 \n",
      " batch_normalization_1 (Batc  (None, 32, 517, 64)      256       \n",
      " hNormalization)                                                 \n",
      "                                                                 \n",
      " max_pooling2d_1 (MaxPooling  (None, 16, 259, 64)      0         \n",
      " 2D)                                                             \n",
      "                                                                 \n",
      " conv2d_2 (Conv2D)           (None, 16, 259, 128)      73856     \n",
      "                                                                 \n",
      " batch_normalization_2 (Batc  (None, 16, 259, 128)     512       \n",
      " hNormalization)                                                 \n",
      "                                                                 \n",
      " max_pooling2d_2 (MaxPooling  (None, 8, 130, 128)      0         \n",
      " 2D)                                                             \n",
      "                                                                 \n",
      " conv2d_3 (Conv2D)           (None, 8, 130, 256)       295168    \n",
      "                                                                 \n",
      " batch_normalization_3 (Batc  (None, 8, 130, 256)      1024      \n",
      " hNormalization)                                                 \n",
      "                                                                 \n",
      " max_pooling2d_3 (MaxPooling  (None, 4, 65, 256)       0         \n",
      " 2D)                                                             \n",
      "                                                                 \n",
      " conv2d_4 (Conv2D)           (None, 4, 65, 512)        1180160   \n",
      "                                                                 \n",
      " batch_normalization_4 (Batc  (None, 4, 65, 512)       2048      \n",
      " hNormalization)                                                 \n",
      "                                                                 \n",
      " max_pooling2d_4 (MaxPooling  (None, 2, 33, 512)       0         \n",
      " 2D)                                                             \n",
      "                                                                 \n",
      " flatten (Flatten)           (None, 33792)             0         \n",
      "                                                                 \n",
      " dense (Dense)               (None, 512)               17302016  \n",
      "                                                                 \n",
      " dropout (Dropout)           (None, 512)               0         \n",
      "                                                                 \n",
      " dense_1 (Dense)             (None, 256)               131328    \n",
      "                                                                 \n",
      " dropout_1 (Dropout)         (None, 256)               0         \n",
      "                                                                 \n",
      " dense_2 (Dense)             (None, 128)               32896     \n",
      "                                                                 \n",
      " dropout_2 (Dropout)         (None, 128)               0         \n",
      "                                                                 \n",
      " dense_3 (Dense)             (None, 64)                8256      \n",
      "                                                                 \n",
      " dropout_3 (Dropout)         (None, 64)                0         \n",
      "                                                                 \n",
      " dense_4 (Dense)             (None, 1)                 65        \n",
      "                                                                 \n",
      "=================================================================\n",
      "Total params: 19,046,529\n",
      "Trainable params: 19,044,545\n",
      "Non-trainable params: 1,984\n",
      "_________________________________________________________________\n"
     ]
    }
   ],
   "execution_count": 5
  },
  {
   "cell_type": "markdown",
   "source": [
    "# 編譯模型"
   ],
   "metadata": {
    "collapsed": false
   },
   "id": "166e2239d60f44b2"
  },
  {
   "cell_type": "code",
   "source": [
    "from keras.optimizers import Adam\n",
    "\n",
    "from tensorflow.keras.callbacks import ReduceLROnPlateau\n",
    "\n",
    "reduce_lr = ReduceLROnPlateau(monitor='val_loss', factor=0.5, patience=5, min_lr=0.00001)\n",
    "model.compile(optimizer=Adam(learning_rate=0.001), loss='binary_crossentropy', metrics=['accuracy'])\n",
    "history = model.fit(X_train, y_train, validation_data=(X_val, y_val), epochs=100, batch_size=32, callbacks=[reduce_lr], verbose=2)\n"
   ],
   "metadata": {
    "collapsed": false,
    "ExecuteTime": {
     "end_time": "2024-07-01T19:06:20.786506Z",
     "start_time": "2024-07-01T19:03:56.703904Z"
    }
   },
   "id": "d2b443cf377c5c3e",
   "outputs": [
    {
     "name": "stdout",
     "output_type": "stream",
     "text": [
      "Epoch 1/50\n",
      "56/56 - 7s - loss: 2.5653 - accuracy: 0.5113 - val_loss: 0.6889 - val_accuracy: 0.5450 - lr: 0.0010 - 7s/epoch - 130ms/step\n",
      "Epoch 2/50\n",
      "56/56 - 3s - loss: 1.1968 - accuracy: 0.5428 - val_loss: 0.6940 - val_accuracy: 0.5180 - lr: 0.0010 - 3s/epoch - 48ms/step\n",
      "Epoch 3/50\n",
      "56/56 - 3s - loss: 0.9094 - accuracy: 0.5152 - val_loss: 0.7000 - val_accuracy: 0.4820 - lr: 0.0010 - 3s/epoch - 48ms/step\n",
      "Epoch 4/50\n",
      "56/56 - 3s - loss: 0.7617 - accuracy: 0.5090 - val_loss: 0.6932 - val_accuracy: 0.5180 - lr: 0.0010 - 3s/epoch - 48ms/step\n",
      "Epoch 5/50\n",
      "56/56 - 3s - loss: 0.7037 - accuracy: 0.5450 - val_loss: 0.6938 - val_accuracy: 0.5180 - lr: 0.0010 - 3s/epoch - 48ms/step\n",
      "Epoch 6/50\n",
      "56/56 - 3s - loss: 0.6901 - accuracy: 0.5715 - val_loss: 0.6960 - val_accuracy: 0.5180 - lr: 0.0010 - 3s/epoch - 48ms/step\n",
      "Epoch 7/50\n",
      "56/56 - 3s - loss: 0.6685 - accuracy: 0.5884 - val_loss: 0.6654 - val_accuracy: 0.5315 - lr: 5.0000e-04 - 3s/epoch - 48ms/step\n",
      "Epoch 8/50\n",
      "56/56 - 3s - loss: 0.6441 - accuracy: 0.5901 - val_loss: 0.6893 - val_accuracy: 0.5360 - lr: 5.0000e-04 - 3s/epoch - 48ms/step\n",
      "Epoch 9/50\n",
      "56/56 - 3s - loss: 0.6752 - accuracy: 0.6075 - val_loss: 0.7739 - val_accuracy: 0.5450 - lr: 5.0000e-04 - 3s/epoch - 48ms/step\n",
      "Epoch 10/50\n",
      "56/56 - 3s - loss: 0.6699 - accuracy: 0.5991 - val_loss: 0.7313 - val_accuracy: 0.5270 - lr: 5.0000e-04 - 3s/epoch - 48ms/step\n",
      "Epoch 11/50\n",
      "56/56 - 3s - loss: 0.6365 - accuracy: 0.6233 - val_loss: 0.6625 - val_accuracy: 0.5721 - lr: 5.0000e-04 - 3s/epoch - 48ms/step\n",
      "Epoch 12/50\n",
      "56/56 - 3s - loss: 0.6470 - accuracy: 0.6188 - val_loss: 0.6483 - val_accuracy: 0.6036 - lr: 5.0000e-04 - 3s/epoch - 48ms/step\n",
      "Epoch 13/50\n",
      "56/56 - 3s - loss: 0.6436 - accuracy: 0.6351 - val_loss: 0.6486 - val_accuracy: 0.5991 - lr: 5.0000e-04 - 3s/epoch - 48ms/step\n",
      "Epoch 14/50\n",
      "56/56 - 3s - loss: 0.6333 - accuracy: 0.6329 - val_loss: 0.6375 - val_accuracy: 0.6081 - lr: 5.0000e-04 - 3s/epoch - 48ms/step\n",
      "Epoch 15/50\n",
      "56/56 - 3s - loss: 0.6475 - accuracy: 0.6267 - val_loss: 0.6428 - val_accuracy: 0.6126 - lr: 5.0000e-04 - 3s/epoch - 48ms/step\n",
      "Epoch 16/50\n",
      "56/56 - 3s - loss: 0.6195 - accuracy: 0.6419 - val_loss: 0.6538 - val_accuracy: 0.5766 - lr: 5.0000e-04 - 3s/epoch - 48ms/step\n",
      "Epoch 17/50\n",
      "56/56 - 3s - loss: 0.6075 - accuracy: 0.6959 - val_loss: 0.6467 - val_accuracy: 0.6081 - lr: 5.0000e-04 - 3s/epoch - 48ms/step\n",
      "Epoch 18/50\n",
      "56/56 - 3s - loss: 0.6025 - accuracy: 0.7010 - val_loss: 0.6035 - val_accuracy: 0.7117 - lr: 5.0000e-04 - 3s/epoch - 48ms/step\n",
      "Epoch 19/50\n",
      "56/56 - 3s - loss: 0.6003 - accuracy: 0.6988 - val_loss: 0.5923 - val_accuracy: 0.6712 - lr: 5.0000e-04 - 3s/epoch - 48ms/step\n",
      "Epoch 20/50\n",
      "56/56 - 3s - loss: 0.5893 - accuracy: 0.7010 - val_loss: 0.6205 - val_accuracy: 0.6757 - lr: 5.0000e-04 - 3s/epoch - 48ms/step\n",
      "Epoch 21/50\n",
      "56/56 - 3s - loss: 0.5860 - accuracy: 0.7134 - val_loss: 0.5656 - val_accuracy: 0.7432 - lr: 5.0000e-04 - 3s/epoch - 48ms/step\n",
      "Epoch 22/50\n",
      "56/56 - 3s - loss: 0.5859 - accuracy: 0.7196 - val_loss: 0.5778 - val_accuracy: 0.7568 - lr: 5.0000e-04 - 3s/epoch - 48ms/step\n",
      "Epoch 23/50\n",
      "56/56 - 3s - loss: 0.5779 - accuracy: 0.7303 - val_loss: 0.5612 - val_accuracy: 0.7523 - lr: 5.0000e-04 - 3s/epoch - 49ms/step\n",
      "Epoch 24/50\n",
      "56/56 - 3s - loss: 0.5662 - accuracy: 0.7309 - val_loss: 0.9664 - val_accuracy: 0.5360 - lr: 5.0000e-04 - 3s/epoch - 53ms/step\n",
      "Epoch 25/50\n",
      "56/56 - 3s - loss: 0.5705 - accuracy: 0.7264 - val_loss: 0.5515 - val_accuracy: 0.6982 - lr: 5.0000e-04 - 3s/epoch - 53ms/step\n",
      "Epoch 26/50\n",
      "56/56 - 3s - loss: 0.5732 - accuracy: 0.7337 - val_loss: 0.7295 - val_accuracy: 0.5541 - lr: 5.0000e-04 - 3s/epoch - 54ms/step\n",
      "Epoch 27/50\n",
      "56/56 - 3s - loss: 0.5621 - accuracy: 0.7370 - val_loss: 0.5323 - val_accuracy: 0.7568 - lr: 5.0000e-04 - 3s/epoch - 50ms/step\n",
      "Epoch 28/50\n",
      "56/56 - 3s - loss: 0.5646 - accuracy: 0.7218 - val_loss: 0.6231 - val_accuracy: 0.5946 - lr: 5.0000e-04 - 3s/epoch - 54ms/step\n",
      "Epoch 29/50\n",
      "56/56 - 3s - loss: 0.5692 - accuracy: 0.7297 - val_loss: 0.7493 - val_accuracy: 0.5315 - lr: 5.0000e-04 - 3s/epoch - 54ms/step\n",
      "Epoch 30/50\n",
      "56/56 - 3s - loss: 0.5686 - accuracy: 0.7207 - val_loss: 0.5759 - val_accuracy: 0.7568 - lr: 5.0000e-04 - 3s/epoch - 50ms/step\n",
      "Epoch 31/50\n",
      "56/56 - 3s - loss: 0.5674 - accuracy: 0.7393 - val_loss: 0.5621 - val_accuracy: 0.6802 - lr: 5.0000e-04 - 3s/epoch - 49ms/step\n",
      "Epoch 32/50\n",
      "56/56 - 3s - loss: 0.5666 - accuracy: 0.7275 - val_loss: 0.6168 - val_accuracy: 0.6892 - lr: 5.0000e-04 - 3s/epoch - 50ms/step\n",
      "Epoch 33/50\n",
      "56/56 - 3s - loss: 0.5588 - accuracy: 0.7354 - val_loss: 0.5760 - val_accuracy: 0.6802 - lr: 2.5000e-04 - 3s/epoch - 49ms/step\n",
      "Epoch 34/50\n",
      "56/56 - 3s - loss: 0.5490 - accuracy: 0.7393 - val_loss: 0.5392 - val_accuracy: 0.7568 - lr: 2.5000e-04 - 3s/epoch - 49ms/step\n",
      "Epoch 35/50\n",
      "56/56 - 3s - loss: 0.5563 - accuracy: 0.7376 - val_loss: 0.5725 - val_accuracy: 0.7342 - lr: 2.5000e-04 - 3s/epoch - 57ms/step\n",
      "Epoch 36/50\n",
      "56/56 - 3s - loss: 0.5407 - accuracy: 0.7427 - val_loss: 0.5302 - val_accuracy: 0.7568 - lr: 2.5000e-04 - 3s/epoch - 49ms/step\n",
      "Epoch 37/50\n",
      "56/56 - 3s - loss: 0.5390 - accuracy: 0.7461 - val_loss: 0.8789 - val_accuracy: 0.5315 - lr: 2.5000e-04 - 3s/epoch - 49ms/step\n",
      "Epoch 38/50\n",
      "56/56 - 3s - loss: 0.5493 - accuracy: 0.7387 - val_loss: 0.5613 - val_accuracy: 0.7387 - lr: 2.5000e-04 - 3s/epoch - 49ms/step\n",
      "Epoch 39/50\n",
      "56/56 - 3s - loss: 0.5627 - accuracy: 0.7393 - val_loss: 0.5742 - val_accuracy: 0.7432 - lr: 2.5000e-04 - 3s/epoch - 49ms/step\n",
      "Epoch 40/50\n",
      "56/56 - 3s - loss: 0.5493 - accuracy: 0.7382 - val_loss: 0.5436 - val_accuracy: 0.7568 - lr: 2.5000e-04 - 3s/epoch - 50ms/step\n",
      "Epoch 41/50\n",
      "56/56 - 3s - loss: 0.5408 - accuracy: 0.7410 - val_loss: 0.5408 - val_accuracy: 0.7432 - lr: 2.5000e-04 - 3s/epoch - 55ms/step\n",
      "Epoch 42/50\n",
      "56/56 - 3s - loss: 0.5466 - accuracy: 0.7399 - val_loss: 0.5386 - val_accuracy: 0.7568 - lr: 1.2500e-04 - 3s/epoch - 50ms/step\n",
      "Epoch 43/50\n",
      "56/56 - 3s - loss: 0.5370 - accuracy: 0.7410 - val_loss: 0.5598 - val_accuracy: 0.7387 - lr: 1.2500e-04 - 3s/epoch - 49ms/step\n",
      "Epoch 44/50\n",
      "56/56 - 3s - loss: 0.5322 - accuracy: 0.7489 - val_loss: 0.5559 - val_accuracy: 0.7477 - lr: 1.2500e-04 - 3s/epoch - 53ms/step\n",
      "Epoch 45/50\n",
      "56/56 - 3s - loss: 0.5331 - accuracy: 0.7416 - val_loss: 0.6515 - val_accuracy: 0.5946 - lr: 1.2500e-04 - 3s/epoch - 50ms/step\n",
      "Epoch 46/50\n",
      "56/56 - 3s - loss: 0.5264 - accuracy: 0.7438 - val_loss: 0.5505 - val_accuracy: 0.7342 - lr: 1.2500e-04 - 3s/epoch - 50ms/step\n",
      "Epoch 47/50\n",
      "56/56 - 3s - loss: 0.5178 - accuracy: 0.7511 - val_loss: 0.5836 - val_accuracy: 0.6622 - lr: 6.2500e-05 - 3s/epoch - 50ms/step\n",
      "Epoch 48/50\n",
      "56/56 - 3s - loss: 0.5122 - accuracy: 0.7528 - val_loss: 0.5482 - val_accuracy: 0.7117 - lr: 6.2500e-05 - 3s/epoch - 49ms/step\n",
      "Epoch 49/50\n",
      "56/56 - 3s - loss: 0.5117 - accuracy: 0.7494 - val_loss: 0.5523 - val_accuracy: 0.7252 - lr: 6.2500e-05 - 3s/epoch - 49ms/step\n",
      "Epoch 50/50\n",
      "56/56 - 3s - loss: 0.5088 - accuracy: 0.7461 - val_loss: 0.5921 - val_accuracy: 0.6892 - lr: 6.2500e-05 - 3s/epoch - 50ms/step\n"
     ]
    }
   ],
   "execution_count": 6
  }
 ],
 "metadata": {
  "kernelspec": {
   "display_name": "Python 3",
   "language": "python",
   "name": "python3"
  },
  "language_info": {
   "codemirror_mode": {
    "name": "ipython",
    "version": 2
   },
   "file_extension": ".py",
   "mimetype": "text/x-python",
   "name": "python",
   "nbconvert_exporter": "python",
   "pygments_lexer": "ipython2",
   "version": "2.7.6"
  }
 },
 "nbformat": 4,
 "nbformat_minor": 5
}
