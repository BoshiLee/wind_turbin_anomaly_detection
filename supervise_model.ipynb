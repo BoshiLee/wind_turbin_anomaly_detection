{
 "cells": [
  {
   "cell_type": "code",
   "execution_count": 1,
   "id": "initial_id",
   "metadata": {
    "collapsed": true,
    "ExecuteTime": {
     "end_time": "2024-07-01T08:57:08.974144Z",
     "start_time": "2024-07-01T08:57:08.575083Z"
    }
   },
   "outputs": [],
   "source": [
    "import numpy as np"
   ]
  },
  {
   "cell_type": "code",
   "outputs": [],
   "source": [
    "# 載入資料\n",
    "X_train = np.load('X_train.npy')\n",
    "X_val = np.load('X_val.npy')\n",
    "X_test = np.load('X_test.npy')\n",
    "y_train = np.load('y_train.npy')\n",
    "y_val = np.load('y_val.npy')\n",
    "y_test = np.load('y_test.npy')"
   ],
   "metadata": {
    "collapsed": false,
    "ExecuteTime": {
     "end_time": "2024-07-01T08:57:15.133218Z",
     "start_time": "2024-07-01T08:57:08.976321Z"
    }
   },
   "id": "a991ff7e6a77fbf6",
   "execution_count": 2
  },
  {
   "cell_type": "code",
   "outputs": [
    {
     "name": "stdout",
     "output_type": "stream",
     "text": [
      "[[[[[nan]]]\n",
      "\n",
      "\n",
      "  [[[nan]]]\n",
      "\n",
      "\n",
      "  [[[nan]]]\n",
      "\n",
      "\n",
      "  ...\n",
      "\n",
      "\n",
      "  [[[nan]]]\n",
      "\n",
      "\n",
      "  [[[nan]]]\n",
      "\n",
      "\n",
      "  [[[nan]]]]\n",
      "\n",
      "\n",
      "\n",
      " [[[[nan]]]\n",
      "\n",
      "\n",
      "  [[[nan]]]\n",
      "\n",
      "\n",
      "  [[[nan]]]\n",
      "\n",
      "\n",
      "  ...\n",
      "\n",
      "\n",
      "  [[[nan]]]\n",
      "\n",
      "\n",
      "  [[[nan]]]\n",
      "\n",
      "\n",
      "  [[[nan]]]]\n",
      "\n",
      "\n",
      "\n",
      " [[[[nan]]]\n",
      "\n",
      "\n",
      "  [[[nan]]]\n",
      "\n",
      "\n",
      "  [[[nan]]]\n",
      "\n",
      "\n",
      "  ...\n",
      "\n",
      "\n",
      "  [[[nan]]]\n",
      "\n",
      "\n",
      "  [[[nan]]]\n",
      "\n",
      "\n",
      "  [[[nan]]]]\n",
      "\n",
      "\n",
      "\n",
      " ...\n",
      "\n",
      "\n",
      "\n",
      " [[[[nan]]]\n",
      "\n",
      "\n",
      "  [[[nan]]]\n",
      "\n",
      "\n",
      "  [[[nan]]]\n",
      "\n",
      "\n",
      "  ...\n",
      "\n",
      "\n",
      "  [[[nan]]]\n",
      "\n",
      "\n",
      "  [[[nan]]]\n",
      "\n",
      "\n",
      "  [[[nan]]]]\n",
      "\n",
      "\n",
      "\n",
      " [[[[nan]]]\n",
      "\n",
      "\n",
      "  [[[nan]]]\n",
      "\n",
      "\n",
      "  [[[nan]]]\n",
      "\n",
      "\n",
      "  ...\n",
      "\n",
      "\n",
      "  [[[nan]]]\n",
      "\n",
      "\n",
      "  [[[nan]]]\n",
      "\n",
      "\n",
      "  [[[nan]]]]\n",
      "\n",
      "\n",
      "\n",
      " [[[[nan]]]\n",
      "\n",
      "\n",
      "  [[[nan]]]\n",
      "\n",
      "\n",
      "  [[[nan]]]\n",
      "\n",
      "\n",
      "  ...\n",
      "\n",
      "\n",
      "  [[[nan]]]\n",
      "\n",
      "\n",
      "  [[[nan]]]\n",
      "\n",
      "\n",
      "  [[[nan]]]]]\n"
     ]
    }
   ],
   "source": [
    "# 重塑數據形狀為 (樣本數, 高度, 寬度, 頻道數)\n",
    "X_train = X_train[..., np.newaxis]\n",
    "X_val = X_val[..., np.newaxis]\n",
    "X_test = X_test[..., np.newaxis]\n",
    "\n",
    "X_train = X_train / np.max(X_train)\n",
    "X_val = X_val / np.max(X_val)\n",
    "X_test = X_test / np.max(X_test)\n",
    "\n",
    "# print(X_train.shape)\n",
    "# print(X_val.shape)\n",
    "# print(X_test.shape)\n",
    "\n"
   ],
   "metadata": {
    "collapsed": false,
    "ExecuteTime": {
     "end_time": "2024-07-01T08:58:33.612617Z",
     "start_time": "2024-07-01T08:58:26.616209Z"
    }
   },
   "id": "23693cc7edc30ccf",
   "execution_count": 9
  },
  {
   "cell_type": "code",
   "outputs": [
    {
     "name": "stdout",
     "output_type": "stream",
     "text": [
      "[[[[[nan]]]\n",
      "\n",
      "\n",
      "  [[[nan]]]\n",
      "\n",
      "\n",
      "  [[[nan]]]\n",
      "\n",
      "\n",
      "  ...\n",
      "\n",
      "\n",
      "  [[[nan]]]\n",
      "\n",
      "\n",
      "  [[[nan]]]\n",
      "\n",
      "\n",
      "  [[[nan]]]]\n",
      "\n",
      "\n",
      "\n",
      " [[[[nan]]]\n",
      "\n",
      "\n",
      "  [[[nan]]]\n",
      "\n",
      "\n",
      "  [[[nan]]]\n",
      "\n",
      "\n",
      "  ...\n",
      "\n",
      "\n",
      "  [[[nan]]]\n",
      "\n",
      "\n",
      "  [[[nan]]]\n",
      "\n",
      "\n",
      "  [[[nan]]]]\n",
      "\n",
      "\n",
      "\n",
      " [[[[nan]]]\n",
      "\n",
      "\n",
      "  [[[nan]]]\n",
      "\n",
      "\n",
      "  [[[nan]]]\n",
      "\n",
      "\n",
      "  ...\n",
      "\n",
      "\n",
      "  [[[nan]]]\n",
      "\n",
      "\n",
      "  [[[nan]]]\n",
      "\n",
      "\n",
      "  [[[nan]]]]\n",
      "\n",
      "\n",
      "\n",
      " ...\n",
      "\n",
      "\n",
      "\n",
      " [[[[nan]]]\n",
      "\n",
      "\n",
      "  [[[nan]]]\n",
      "\n",
      "\n",
      "  [[[nan]]]\n",
      "\n",
      "\n",
      "  ...\n",
      "\n",
      "\n",
      "  [[[nan]]]\n",
      "\n",
      "\n",
      "  [[[nan]]]\n",
      "\n",
      "\n",
      "  [[[nan]]]]\n",
      "\n",
      "\n",
      "\n",
      " [[[[nan]]]\n",
      "\n",
      "\n",
      "  [[[nan]]]\n",
      "\n",
      "\n",
      "  [[[nan]]]\n",
      "\n",
      "\n",
      "  ...\n",
      "\n",
      "\n",
      "  [[[nan]]]\n",
      "\n",
      "\n",
      "  [[[nan]]]\n",
      "\n",
      "\n",
      "  [[[nan]]]]\n",
      "\n",
      "\n",
      "\n",
      " [[[[nan]]]\n",
      "\n",
      "\n",
      "  [[[nan]]]\n",
      "\n",
      "\n",
      "  [[[nan]]]\n",
      "\n",
      "\n",
      "  ...\n",
      "\n",
      "\n",
      "  [[[nan]]]\n",
      "\n",
      "\n",
      "  [[[nan]]]\n",
      "\n",
      "\n",
      "  [[[nan]]]]]\n"
     ]
    }
   ],
   "source": [
    "print(X_train[15])"
   ],
   "metadata": {
    "collapsed": false,
    "ExecuteTime": {
     "end_time": "2024-07-01T08:59:12.397112Z",
     "start_time": "2024-07-01T08:59:12.378865Z"
    }
   },
   "id": "4bf9415affd554ee",
   "execution_count": 12
  },
  {
   "cell_type": "code",
   "outputs": [],
   "source": [
    "import tensorflow as tf\n",
    "from keras import Input\n",
    "from tensorflow.keras.models import Model\n",
    "from tensorflow.keras.layers import Conv2D, MaxPooling2D, Flatten, Dense, Dropout, BatchNormalization\n",
    "\n",
    "def create_model(input_shape):\n",
    "    input_img = Input(shape=input_shape)\n",
    "    x = Conv2D(32, kernel_size=(3, 3), activation='relu', padding='same')(input_img)\n",
    "    x = BatchNormalization()(x)\n",
    "    x = MaxPooling2D((2, 2), padding='same')(x)\n",
    "    x = Conv2D(32, kernel_size=(3, 3), activation='relu', padding='same')(x)\n",
    "    x = BatchNormalization()(x)\n",
    "    x = MaxPooling2D((2, 2), padding='same')(x)\n",
    "    x = Conv2D(64, kernel_size=(3, 3), activation='relu', padding='same')(x)\n",
    "    x = BatchNormalization()(x)\n",
    "    x = MaxPooling2D((2, 2), padding='same')(x)\n",
    "    x = Flatten()(x)\n",
    "    x = Dense(64, activation='relu')(x)\n",
    "    x = Dropout(0.5)(x)\n",
    "    output = Dense(1, activation='sigmoid')(x)\n",
    "    model = Model(inputs=input_img, outputs=output)\n",
    "    return model"
   ],
   "metadata": {
    "collapsed": false,
    "ExecuteTime": {
     "end_time": "2024-07-01T08:57:28.185964Z",
     "start_time": "2024-07-01T08:57:18.961266Z"
    }
   },
   "id": "896c8fe7d57b4eea",
   "execution_count": 4
  },
  {
   "cell_type": "code",
   "outputs": [
    {
     "name": "stdout",
     "output_type": "stream",
     "text": [
      "Model: \"model\"\n",
      "_________________________________________________________________\n",
      " Layer (type)                Output Shape              Param #   \n",
      "=================================================================\n",
      " input_1 (InputLayer)        [(None, 64, 2757, 1)]     0         \n",
      "                                                                 \n",
      " conv2d (Conv2D)             (None, 64, 2757, 32)      320       \n",
      "                                                                 \n",
      " batch_normalization (BatchN  (None, 64, 2757, 32)     128       \n",
      " ormalization)                                                   \n",
      "                                                                 \n",
      " max_pooling2d (MaxPooling2D  (None, 32, 1379, 32)     0         \n",
      " )                                                               \n",
      "                                                                 \n",
      " conv2d_1 (Conv2D)           (None, 32, 1379, 32)      9248      \n",
      "                                                                 \n",
      " batch_normalization_1 (Batc  (None, 32, 1379, 32)     128       \n",
      " hNormalization)                                                 \n",
      "                                                                 \n",
      " max_pooling2d_1 (MaxPooling  (None, 16, 690, 32)      0         \n",
      " 2D)                                                             \n",
      "                                                                 \n",
      " conv2d_2 (Conv2D)           (None, 16, 690, 64)       18496     \n",
      "                                                                 \n",
      " batch_normalization_2 (Batc  (None, 16, 690, 64)      256       \n",
      " hNormalization)                                                 \n",
      "                                                                 \n",
      " max_pooling2d_2 (MaxPooling  (None, 8, 345, 64)       0         \n",
      " 2D)                                                             \n",
      "                                                                 \n",
      " flatten (Flatten)           (None, 176640)            0         \n",
      "                                                                 \n",
      " dense (Dense)               (None, 64)                11305024  \n",
      "                                                                 \n",
      " dropout (Dropout)           (None, 64)                0         \n",
      "                                                                 \n",
      " dense_1 (Dense)             (None, 1)                 65        \n",
      "                                                                 \n",
      "=================================================================\n",
      "Total params: 11,333,665\n",
      "Trainable params: 11,333,409\n",
      "Non-trainable params: 256\n",
      "_________________________________________________________________\n"
     ]
    }
   ],
   "source": [
    "input_shape = np.shape(X_train)[1:]\n",
    "model = create_model(input_shape)\n",
    "model.summary()"
   ],
   "metadata": {
    "collapsed": false,
    "ExecuteTime": {
     "end_time": "2024-07-01T08:57:29.798Z",
     "start_time": "2024-07-01T08:57:28.187187Z"
    }
   },
   "id": "ba4e513b39adc8de",
   "execution_count": 5
  },
  {
   "cell_type": "markdown",
   "source": [
    "# 編譯模型"
   ],
   "metadata": {
    "collapsed": false
   },
   "id": "166e2239d60f44b2"
  },
  {
   "cell_type": "code",
   "outputs": [],
   "source": [
    "from keras.optimizers import Adam\n",
    "\n",
    "initial_learning_rate = 0.01\n",
    "\n",
    "# 創建 Adam 優化器並指定學習率\n",
    "optimizer = Adam(learning_rate=initial_learning_rate)\n",
    "model.compile(optimizer=optimizer, loss='categorical_crossentropy', metrics=['accuracy'])"
   ],
   "metadata": {
    "collapsed": false,
    "ExecuteTime": {
     "end_time": "2024-07-01T08:57:29.814034Z",
     "start_time": "2024-07-01T08:57:29.798980Z"
    }
   },
   "id": "d2b443cf377c5c3e",
   "execution_count": 6
  },
  {
   "cell_type": "markdown",
   "source": [
    "# 訓練模型"
   ],
   "metadata": {
    "collapsed": false
   },
   "id": "c1cef9cdd64e62f7"
  },
  {
   "cell_type": "code",
   "outputs": [
    {
     "name": "stdout",
     "output_type": "stream",
     "text": [
      "Epoch 1/50\n"
     ]
    },
    {
     "ename": "ResourceExhaustedError",
     "evalue": "Graph execution error:\n\nDetected at node 'gradient_tape/model/batch_normalization/FusedBatchNormGradV3' defined at (most recent call last):\n    File \"C:\\Users\\User\\miniconda3\\envs\\wind_turbine\\lib\\runpy.py\", line 196, in _run_module_as_main\n      return _run_code(code, main_globals, None,\n    File \"C:\\Users\\User\\miniconda3\\envs\\wind_turbine\\lib\\runpy.py\", line 86, in _run_code\n      exec(code, run_globals)\n    File \"C:\\Users\\User\\miniconda3\\envs\\wind_turbine\\lib\\site-packages\\ipykernel_launcher.py\", line 18, in <module>\n      app.launch_new_instance()\n    File \"C:\\Users\\User\\miniconda3\\envs\\wind_turbine\\lib\\site-packages\\traitlets\\config\\application.py\", line 1075, in launch_instance\n      app.start()\n    File \"C:\\Users\\User\\miniconda3\\envs\\wind_turbine\\lib\\site-packages\\ipykernel\\kernelapp.py\", line 739, in start\n      self.io_loop.start()\n    File \"C:\\Users\\User\\miniconda3\\envs\\wind_turbine\\lib\\site-packages\\tornado\\platform\\asyncio.py\", line 205, in start\n      self.asyncio_loop.run_forever()\n    File \"C:\\Users\\User\\miniconda3\\envs\\wind_turbine\\lib\\asyncio\\base_events.py\", line 603, in run_forever\n      self._run_once()\n    File \"C:\\Users\\User\\miniconda3\\envs\\wind_turbine\\lib\\asyncio\\base_events.py\", line 1909, in _run_once\n      handle._run()\n    File \"C:\\Users\\User\\miniconda3\\envs\\wind_turbine\\lib\\asyncio\\events.py\", line 80, in _run\n      self._context.run(self._callback, *self._args)\n    File \"C:\\Users\\User\\miniconda3\\envs\\wind_turbine\\lib\\site-packages\\ipykernel\\kernelbase.py\", line 545, in dispatch_queue\n      await self.process_one()\n    File \"C:\\Users\\User\\miniconda3\\envs\\wind_turbine\\lib\\site-packages\\ipykernel\\kernelbase.py\", line 534, in process_one\n      await dispatch(*args)\n    File \"C:\\Users\\User\\miniconda3\\envs\\wind_turbine\\lib\\site-packages\\ipykernel\\kernelbase.py\", line 437, in dispatch_shell\n      await result\n    File \"C:\\Users\\User\\miniconda3\\envs\\wind_turbine\\lib\\site-packages\\ipykernel\\ipkernel.py\", line 362, in execute_request\n      await super().execute_request(stream, ident, parent)\n    File \"C:\\Users\\User\\miniconda3\\envs\\wind_turbine\\lib\\site-packages\\ipykernel\\kernelbase.py\", line 778, in execute_request\n      reply_content = await reply_content\n    File \"C:\\Users\\User\\miniconda3\\envs\\wind_turbine\\lib\\site-packages\\ipykernel\\ipkernel.py\", line 449, in do_execute\n      res = shell.run_cell(\n    File \"C:\\Users\\User\\miniconda3\\envs\\wind_turbine\\lib\\site-packages\\ipykernel\\zmqshell.py\", line 549, in run_cell\n      return super().run_cell(*args, **kwargs)\n    File \"C:\\Users\\User\\miniconda3\\envs\\wind_turbine\\lib\\site-packages\\IPython\\core\\interactiveshell.py\", line 3075, in run_cell\n      result = self._run_cell(\n    File \"C:\\Users\\User\\miniconda3\\envs\\wind_turbine\\lib\\site-packages\\IPython\\core\\interactiveshell.py\", line 3130, in _run_cell\n      result = runner(coro)\n    File \"C:\\Users\\User\\miniconda3\\envs\\wind_turbine\\lib\\site-packages\\IPython\\core\\async_helpers.py\", line 129, in _pseudo_sync_runner\n      coro.send(None)\n    File \"C:\\Users\\User\\miniconda3\\envs\\wind_turbine\\lib\\site-packages\\IPython\\core\\interactiveshell.py\", line 3334, in run_cell_async\n      has_raised = await self.run_ast_nodes(code_ast.body, cell_name,\n    File \"C:\\Users\\User\\miniconda3\\envs\\wind_turbine\\lib\\site-packages\\IPython\\core\\interactiveshell.py\", line 3517, in run_ast_nodes\n      if await self.run_code(code, result, async_=asy):\n    File \"C:\\Users\\User\\miniconda3\\envs\\wind_turbine\\lib\\site-packages\\IPython\\core\\interactiveshell.py\", line 3577, in run_code\n      exec(code_obj, self.user_global_ns, self.user_ns)\n    File \"C:\\Users\\User\\AppData\\Local\\Temp\\ipykernel_11532\\1602076302.py\", line 1, in <module>\n      history = model.fit(X_train, y_train, validation_data=(X_val, y_val), epochs=50, batch_size=16)\n    File \"C:\\Users\\User\\miniconda3\\envs\\wind_turbine\\lib\\site-packages\\keras\\utils\\traceback_utils.py\", line 65, in error_handler\n      return fn(*args, **kwargs)\n    File \"C:\\Users\\User\\miniconda3\\envs\\wind_turbine\\lib\\site-packages\\keras\\engine\\training.py\", line 1564, in fit\n      tmp_logs = self.train_function(iterator)\n    File \"C:\\Users\\User\\miniconda3\\envs\\wind_turbine\\lib\\site-packages\\keras\\engine\\training.py\", line 1160, in train_function\n      return step_function(self, iterator)\n    File \"C:\\Users\\User\\miniconda3\\envs\\wind_turbine\\lib\\site-packages\\keras\\engine\\training.py\", line 1146, in step_function\n      outputs = model.distribute_strategy.run(run_step, args=(data,))\n    File \"C:\\Users\\User\\miniconda3\\envs\\wind_turbine\\lib\\site-packages\\keras\\engine\\training.py\", line 1135, in run_step\n      outputs = model.train_step(data)\n    File \"C:\\Users\\User\\miniconda3\\envs\\wind_turbine\\lib\\site-packages\\keras\\engine\\training.py\", line 997, in train_step\n      self.optimizer.minimize(loss, self.trainable_variables, tape=tape)\n    File \"C:\\Users\\User\\miniconda3\\envs\\wind_turbine\\lib\\site-packages\\keras\\optimizers\\optimizer_v2\\optimizer_v2.py\", line 576, in minimize\n      grads_and_vars = self._compute_gradients(\n    File \"C:\\Users\\User\\miniconda3\\envs\\wind_turbine\\lib\\site-packages\\keras\\optimizers\\optimizer_v2\\optimizer_v2.py\", line 634, in _compute_gradients\n      grads_and_vars = self._get_gradients(\n    File \"C:\\Users\\User\\miniconda3\\envs\\wind_turbine\\lib\\site-packages\\keras\\optimizers\\optimizer_v2\\optimizer_v2.py\", line 510, in _get_gradients\n      grads = tape.gradient(loss, var_list, grad_loss)\nNode: 'gradient_tape/model/batch_normalization/FusedBatchNormGradV3'\nOOM when allocating tensor with shape[16,32,64,2757] and type float on /job:localhost/replica:0/task:0/device:GPU:0 by allocator GPU_0_bfc\n\t [[{{node gradient_tape/model/batch_normalization/FusedBatchNormGradV3}}]]\nHint: If you want to see a list of allocated tensors when OOM happens, add report_tensor_allocations_upon_oom to RunOptions for current allocation info. This isn't available when running in Eager mode.\n [Op:__inference_train_function_1364]",
     "output_type": "error",
     "traceback": [
      "\u001B[1;31m---------------------------------------------------------------------------\u001B[0m",
      "\u001B[1;31mResourceExhaustedError\u001B[0m                    Traceback (most recent call last)",
      "Cell \u001B[1;32mIn[7], line 1\u001B[0m\n\u001B[1;32m----> 1\u001B[0m history \u001B[38;5;241m=\u001B[39m \u001B[43mmodel\u001B[49m\u001B[38;5;241;43m.\u001B[39;49m\u001B[43mfit\u001B[49m\u001B[43m(\u001B[49m\u001B[43mX_train\u001B[49m\u001B[43m,\u001B[49m\u001B[43m \u001B[49m\u001B[43my_train\u001B[49m\u001B[43m,\u001B[49m\u001B[43m \u001B[49m\u001B[43mvalidation_data\u001B[49m\u001B[38;5;241;43m=\u001B[39;49m\u001B[43m(\u001B[49m\u001B[43mX_val\u001B[49m\u001B[43m,\u001B[49m\u001B[43m \u001B[49m\u001B[43my_val\u001B[49m\u001B[43m)\u001B[49m\u001B[43m,\u001B[49m\u001B[43m \u001B[49m\u001B[43mepochs\u001B[49m\u001B[38;5;241;43m=\u001B[39;49m\u001B[38;5;241;43m50\u001B[39;49m\u001B[43m,\u001B[49m\u001B[43m \u001B[49m\u001B[43mbatch_size\u001B[49m\u001B[38;5;241;43m=\u001B[39;49m\u001B[38;5;241;43m16\u001B[39;49m\u001B[43m)\u001B[49m\n",
      "File \u001B[1;32m~\\miniconda3\\envs\\wind_turbine\\lib\\site-packages\\keras\\utils\\traceback_utils.py:70\u001B[0m, in \u001B[0;36mfilter_traceback.<locals>.error_handler\u001B[1;34m(*args, **kwargs)\u001B[0m\n\u001B[0;32m     67\u001B[0m     filtered_tb \u001B[38;5;241m=\u001B[39m _process_traceback_frames(e\u001B[38;5;241m.\u001B[39m__traceback__)\n\u001B[0;32m     68\u001B[0m     \u001B[38;5;66;03m# To get the full stack trace, call:\u001B[39;00m\n\u001B[0;32m     69\u001B[0m     \u001B[38;5;66;03m# `tf.debugging.disable_traceback_filtering()`\u001B[39;00m\n\u001B[1;32m---> 70\u001B[0m     \u001B[38;5;28;01mraise\u001B[39;00m e\u001B[38;5;241m.\u001B[39mwith_traceback(filtered_tb) \u001B[38;5;28;01mfrom\u001B[39;00m \u001B[38;5;28;01mNone\u001B[39;00m\n\u001B[0;32m     71\u001B[0m \u001B[38;5;28;01mfinally\u001B[39;00m:\n\u001B[0;32m     72\u001B[0m     \u001B[38;5;28;01mdel\u001B[39;00m filtered_tb\n",
      "File \u001B[1;32m~\\miniconda3\\envs\\wind_turbine\\lib\\site-packages\\tensorflow\\python\\eager\\execute.py:54\u001B[0m, in \u001B[0;36mquick_execute\u001B[1;34m(op_name, num_outputs, inputs, attrs, ctx, name)\u001B[0m\n\u001B[0;32m     52\u001B[0m \u001B[38;5;28;01mtry\u001B[39;00m:\n\u001B[0;32m     53\u001B[0m   ctx\u001B[38;5;241m.\u001B[39mensure_initialized()\n\u001B[1;32m---> 54\u001B[0m   tensors \u001B[38;5;241m=\u001B[39m pywrap_tfe\u001B[38;5;241m.\u001B[39mTFE_Py_Execute(ctx\u001B[38;5;241m.\u001B[39m_handle, device_name, op_name,\n\u001B[0;32m     55\u001B[0m                                       inputs, attrs, num_outputs)\n\u001B[0;32m     56\u001B[0m \u001B[38;5;28;01mexcept\u001B[39;00m core\u001B[38;5;241m.\u001B[39m_NotOkStatusException \u001B[38;5;28;01mas\u001B[39;00m e:\n\u001B[0;32m     57\u001B[0m   \u001B[38;5;28;01mif\u001B[39;00m name \u001B[38;5;129;01mis\u001B[39;00m \u001B[38;5;129;01mnot\u001B[39;00m \u001B[38;5;28;01mNone\u001B[39;00m:\n",
      "\u001B[1;31mResourceExhaustedError\u001B[0m: Graph execution error:\n\nDetected at node 'gradient_tape/model/batch_normalization/FusedBatchNormGradV3' defined at (most recent call last):\n    File \"C:\\Users\\User\\miniconda3\\envs\\wind_turbine\\lib\\runpy.py\", line 196, in _run_module_as_main\n      return _run_code(code, main_globals, None,\n    File \"C:\\Users\\User\\miniconda3\\envs\\wind_turbine\\lib\\runpy.py\", line 86, in _run_code\n      exec(code, run_globals)\n    File \"C:\\Users\\User\\miniconda3\\envs\\wind_turbine\\lib\\site-packages\\ipykernel_launcher.py\", line 18, in <module>\n      app.launch_new_instance()\n    File \"C:\\Users\\User\\miniconda3\\envs\\wind_turbine\\lib\\site-packages\\traitlets\\config\\application.py\", line 1075, in launch_instance\n      app.start()\n    File \"C:\\Users\\User\\miniconda3\\envs\\wind_turbine\\lib\\site-packages\\ipykernel\\kernelapp.py\", line 739, in start\n      self.io_loop.start()\n    File \"C:\\Users\\User\\miniconda3\\envs\\wind_turbine\\lib\\site-packages\\tornado\\platform\\asyncio.py\", line 205, in start\n      self.asyncio_loop.run_forever()\n    File \"C:\\Users\\User\\miniconda3\\envs\\wind_turbine\\lib\\asyncio\\base_events.py\", line 603, in run_forever\n      self._run_once()\n    File \"C:\\Users\\User\\miniconda3\\envs\\wind_turbine\\lib\\asyncio\\base_events.py\", line 1909, in _run_once\n      handle._run()\n    File \"C:\\Users\\User\\miniconda3\\envs\\wind_turbine\\lib\\asyncio\\events.py\", line 80, in _run\n      self._context.run(self._callback, *self._args)\n    File \"C:\\Users\\User\\miniconda3\\envs\\wind_turbine\\lib\\site-packages\\ipykernel\\kernelbase.py\", line 545, in dispatch_queue\n      await self.process_one()\n    File \"C:\\Users\\User\\miniconda3\\envs\\wind_turbine\\lib\\site-packages\\ipykernel\\kernelbase.py\", line 534, in process_one\n      await dispatch(*args)\n    File \"C:\\Users\\User\\miniconda3\\envs\\wind_turbine\\lib\\site-packages\\ipykernel\\kernelbase.py\", line 437, in dispatch_shell\n      await result\n    File \"C:\\Users\\User\\miniconda3\\envs\\wind_turbine\\lib\\site-packages\\ipykernel\\ipkernel.py\", line 362, in execute_request\n      await super().execute_request(stream, ident, parent)\n    File \"C:\\Users\\User\\miniconda3\\envs\\wind_turbine\\lib\\site-packages\\ipykernel\\kernelbase.py\", line 778, in execute_request\n      reply_content = await reply_content\n    File \"C:\\Users\\User\\miniconda3\\envs\\wind_turbine\\lib\\site-packages\\ipykernel\\ipkernel.py\", line 449, in do_execute\n      res = shell.run_cell(\n    File \"C:\\Users\\User\\miniconda3\\envs\\wind_turbine\\lib\\site-packages\\ipykernel\\zmqshell.py\", line 549, in run_cell\n      return super().run_cell(*args, **kwargs)\n    File \"C:\\Users\\User\\miniconda3\\envs\\wind_turbine\\lib\\site-packages\\IPython\\core\\interactiveshell.py\", line 3075, in run_cell\n      result = self._run_cell(\n    File \"C:\\Users\\User\\miniconda3\\envs\\wind_turbine\\lib\\site-packages\\IPython\\core\\interactiveshell.py\", line 3130, in _run_cell\n      result = runner(coro)\n    File \"C:\\Users\\User\\miniconda3\\envs\\wind_turbine\\lib\\site-packages\\IPython\\core\\async_helpers.py\", line 129, in _pseudo_sync_runner\n      coro.send(None)\n    File \"C:\\Users\\User\\miniconda3\\envs\\wind_turbine\\lib\\site-packages\\IPython\\core\\interactiveshell.py\", line 3334, in run_cell_async\n      has_raised = await self.run_ast_nodes(code_ast.body, cell_name,\n    File \"C:\\Users\\User\\miniconda3\\envs\\wind_turbine\\lib\\site-packages\\IPython\\core\\interactiveshell.py\", line 3517, in run_ast_nodes\n      if await self.run_code(code, result, async_=asy):\n    File \"C:\\Users\\User\\miniconda3\\envs\\wind_turbine\\lib\\site-packages\\IPython\\core\\interactiveshell.py\", line 3577, in run_code\n      exec(code_obj, self.user_global_ns, self.user_ns)\n    File \"C:\\Users\\User\\AppData\\Local\\Temp\\ipykernel_11532\\1602076302.py\", line 1, in <module>\n      history = model.fit(X_train, y_train, validation_data=(X_val, y_val), epochs=50, batch_size=16)\n    File \"C:\\Users\\User\\miniconda3\\envs\\wind_turbine\\lib\\site-packages\\keras\\utils\\traceback_utils.py\", line 65, in error_handler\n      return fn(*args, **kwargs)\n    File \"C:\\Users\\User\\miniconda3\\envs\\wind_turbine\\lib\\site-packages\\keras\\engine\\training.py\", line 1564, in fit\n      tmp_logs = self.train_function(iterator)\n    File \"C:\\Users\\User\\miniconda3\\envs\\wind_turbine\\lib\\site-packages\\keras\\engine\\training.py\", line 1160, in train_function\n      return step_function(self, iterator)\n    File \"C:\\Users\\User\\miniconda3\\envs\\wind_turbine\\lib\\site-packages\\keras\\engine\\training.py\", line 1146, in step_function\n      outputs = model.distribute_strategy.run(run_step, args=(data,))\n    File \"C:\\Users\\User\\miniconda3\\envs\\wind_turbine\\lib\\site-packages\\keras\\engine\\training.py\", line 1135, in run_step\n      outputs = model.train_step(data)\n    File \"C:\\Users\\User\\miniconda3\\envs\\wind_turbine\\lib\\site-packages\\keras\\engine\\training.py\", line 997, in train_step\n      self.optimizer.minimize(loss, self.trainable_variables, tape=tape)\n    File \"C:\\Users\\User\\miniconda3\\envs\\wind_turbine\\lib\\site-packages\\keras\\optimizers\\optimizer_v2\\optimizer_v2.py\", line 576, in minimize\n      grads_and_vars = self._compute_gradients(\n    File \"C:\\Users\\User\\miniconda3\\envs\\wind_turbine\\lib\\site-packages\\keras\\optimizers\\optimizer_v2\\optimizer_v2.py\", line 634, in _compute_gradients\n      grads_and_vars = self._get_gradients(\n    File \"C:\\Users\\User\\miniconda3\\envs\\wind_turbine\\lib\\site-packages\\keras\\optimizers\\optimizer_v2\\optimizer_v2.py\", line 510, in _get_gradients\n      grads = tape.gradient(loss, var_list, grad_loss)\nNode: 'gradient_tape/model/batch_normalization/FusedBatchNormGradV3'\nOOM when allocating tensor with shape[16,32,64,2757] and type float on /job:localhost/replica:0/task:0/device:GPU:0 by allocator GPU_0_bfc\n\t [[{{node gradient_tape/model/batch_normalization/FusedBatchNormGradV3}}]]\nHint: If you want to see a list of allocated tensors when OOM happens, add report_tensor_allocations_upon_oom to RunOptions for current allocation info. This isn't available when running in Eager mode.\n [Op:__inference_train_function_1364]"
     ]
    }
   ],
   "source": [
    "history = model.fit(X_train, y_train, validation_data=(X_val, y_val), epochs=50, batch_size=16)"
   ],
   "metadata": {
    "collapsed": false,
    "ExecuteTime": {
     "end_time": "2024-07-01T08:57:50.901440Z",
     "start_time": "2024-07-01T08:57:29.815480Z"
    }
   },
   "id": "72217543dfab2842",
   "execution_count": 7
  },
  {
   "cell_type": "code",
   "outputs": [],
   "source": [],
   "metadata": {
    "collapsed": false,
    "ExecuteTime": {
     "start_time": "2024-07-01T08:57:50.902442Z"
    }
   },
   "id": "a9c62c99585ce630"
  }
 ],
 "metadata": {
  "kernelspec": {
   "display_name": "Python 3",
   "language": "python",
   "name": "python3"
  },
  "language_info": {
   "codemirror_mode": {
    "name": "ipython",
    "version": 2
   },
   "file_extension": ".py",
   "mimetype": "text/x-python",
   "name": "python",
   "nbconvert_exporter": "python",
   "pygments_lexer": "ipython2",
   "version": "2.7.6"
  }
 },
 "nbformat": 4,
 "nbformat_minor": 5
}
