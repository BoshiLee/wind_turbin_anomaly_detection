{
 "cells": [
  {
   "cell_type": "code",
   "id": "initial_id",
   "metadata": {
    "collapsed": true,
    "ExecuteTime": {
     "end_time": "2024-07-01T18:31:56.104075Z",
     "start_time": "2024-07-01T18:31:56.019649Z"
    }
   },
   "source": [
    "import numpy as np"
   ],
   "outputs": [],
   "execution_count": 1
  },
  {
   "cell_type": "code",
   "source": [
    "# 載入資料\n",
    "X_train = np.load('X_train.npy')\n",
    "X_val = np.load('X_val.npy')\n",
    "X_test = np.load('X_test.npy')\n",
    "y_train = np.load('y_train.npy')\n",
    "y_val = np.load('y_val.npy')\n",
    "y_test = np.load('y_test.npy')"
   ],
   "metadata": {
    "collapsed": false,
    "ExecuteTime": {
     "end_time": "2024-07-01T18:31:56.276609Z",
     "start_time": "2024-07-01T18:31:56.105588Z"
    }
   },
   "id": "a991ff7e6a77fbf6",
   "outputs": [],
   "execution_count": 2
  },
  {
   "cell_type": "code",
   "source": [
    "# 重塑數據形狀為 (樣本數, 高度, 寬度, 頻道數)\n",
    "X_train = X_train[..., np.newaxis]\n",
    "X_val = X_val[..., np.newaxis]\n",
    "X_test = X_test[..., np.newaxis]\n",
    "\n",
    "print(X_train.shape)\n",
    "print(X_val.shape)\n",
    "print(X_test.shape)"
   ],
   "metadata": {
    "collapsed": false,
    "ExecuteTime": {
     "end_time": "2024-07-01T18:31:56.292620Z",
     "start_time": "2024-07-01T18:31:56.277612Z"
    }
   },
   "id": "23693cc7edc30ccf",
   "outputs": [
    {
     "name": "stdout",
     "output_type": "stream",
     "text": [
      "(2486, 64, 690, 1)\n",
      "(311, 64, 690, 1)\n",
      "(311, 64, 690, 1)\n"
     ]
    }
   ],
   "execution_count": 3
  },
  {
   "cell_type": "code",
   "source": [
    "print(X_train[15])"
   ],
   "metadata": {
    "collapsed": false,
    "ExecuteTime": {
     "end_time": "2024-07-01T18:31:56.308283Z",
     "start_time": "2024-07-01T18:31:56.293622Z"
    }
   },
   "id": "4bf9415affd554ee",
   "outputs": [
    {
     "name": "stdout",
     "output_type": "stream",
     "text": [
      "[[[0.75954854]\n",
      "  [0.9417032 ]\n",
      "  [0.97626275]\n",
      "  ...\n",
      "  [0.89563864]\n",
      "  [0.87509805]\n",
      "  [0.8517748 ]]\n",
      "\n",
      " [[0.7634915 ]\n",
      "  [0.89372426]\n",
      "  [0.9136159 ]\n",
      "  ...\n",
      "  [0.8338712 ]\n",
      "  [0.7947523 ]\n",
      "  [0.79095936]]\n",
      "\n",
      " [[0.7207955 ]\n",
      "  [0.7435139 ]\n",
      "  [0.75551146]\n",
      "  ...\n",
      "  [0.7425578 ]\n",
      "  [0.7344607 ]\n",
      "  [0.6680453 ]]\n",
      "\n",
      " ...\n",
      "\n",
      " [[0.2105926 ]\n",
      "  [0.23406295]\n",
      "  [0.22235227]\n",
      "  ...\n",
      "  [0.19235858]\n",
      "  [0.1849844 ]\n",
      "  [0.20453115]]\n",
      "\n",
      " [[0.19425431]\n",
      "  [0.20613436]\n",
      "  [0.17414455]\n",
      "  ...\n",
      "  [0.16726056]\n",
      "  [0.18581752]\n",
      "  [0.21731324]]\n",
      "\n",
      " [[0.14248542]\n",
      "  [0.14009257]\n",
      "  [0.09383097]\n",
      "  ...\n",
      "  [0.06196117]\n",
      "  [0.12550421]\n",
      "  [0.18973407]]]\n"
     ]
    }
   ],
   "execution_count": 4
  },
  {
   "cell_type": "code",
   "source": [
    "import tensorflow as tf\n",
    "from keras import Input\n",
    "from tensorflow.keras.models import Model\n",
    "from tensorflow.keras.layers import Conv2D, MaxPooling2D, Flatten, Dense, Dropout, BatchNormalization\n",
    "\n",
    "from tensorflow.keras.layers import BatchNormalization\n",
    "\n",
    "def create_model(input_shape):\n",
    "    input_img = Input(shape=input_shape)\n",
    "    x = Conv2D(32, kernel_size=(3, 3), activation='relu', padding='same')(input_img)\n",
    "    x = BatchNormalization()(x)\n",
    "    x = MaxPooling2D((2, 2), padding='same')(x)\n",
    "    x = Conv2D(64, kernel_size=(3, 3), activation='relu', padding='same')(x)\n",
    "    x = BatchNormalization()(x)\n",
    "    x = MaxPooling2D((2, 2), padding='same')(x)\n",
    "    x = Conv2D(128, kernel_size=(3, 3), activation='relu', padding='same')(x)\n",
    "    x = BatchNormalization()(x)\n",
    "    x = MaxPooling2D((2, 2), padding='same')(x)\n",
    "    x = Conv2D(256, kernel_size=(3, 3), activation='relu', padding='same')(x)\n",
    "    x = BatchNormalization()(x)\n",
    "    x = MaxPooling2D((2, 2), padding='same')(x)\n",
    "    x = Conv2D(512, kernel_size=(3, 3), activation='relu', padding='same')(x)\n",
    "    x = BatchNormalization()(x)\n",
    "    x = MaxPooling2D((2, 2), padding='same')(x)\n",
    "    x = Flatten()(x)\n",
    "    x = Dense(512, activation='relu')(x)\n",
    "    x = Dropout(0.5)(x)\n",
    "    x = Dense(256, activation='relu')(x)\n",
    "    x = Dropout(0.2)(x)\n",
    "    x = Dense(128, activation='relu')(x)\n",
    "    x = Dropout(0.2)(x)\n",
    "    x = Dense(64, activation='relu')(x)\n",
    "    x = Dropout(0.2)(x)\n",
    "    output = Dense(1, activation='sigmoid')(x)\n",
    "    model = Model(inputs=input_img, outputs=output)\n",
    "    return model\n"
   ],
   "metadata": {
    "collapsed": false,
    "ExecuteTime": {
     "end_time": "2024-07-01T18:49:05.618636Z",
     "start_time": "2024-07-01T18:49:05.596518Z"
    }
   },
   "id": "896c8fe7d57b4eea",
   "outputs": [],
   "execution_count": 29
  },
  {
   "cell_type": "code",
   "source": [
    "input_shape = np.shape(X_train)[1:]\n",
    "model = create_model(input_shape)\n",
    "model.summary()"
   ],
   "metadata": {
    "collapsed": false,
    "ExecuteTime": {
     "end_time": "2024-07-01T18:49:06.396226Z",
     "start_time": "2024-07-01T18:49:06.241327Z"
    }
   },
   "id": "ba4e513b39adc8de",
   "outputs": [
    {
     "name": "stdout",
     "output_type": "stream",
     "text": [
      "Model: \"model_5\"\n",
      "_________________________________________________________________\n",
      " Layer (type)                Output Shape              Param #   \n",
      "=================================================================\n",
      " input_6 (InputLayer)        [(None, 64, 690, 1)]      0         \n",
      "                                                                 \n",
      " conv2d_16 (Conv2D)          (None, 64, 690, 32)       320       \n",
      "                                                                 \n",
      " batch_normalization_9 (Batc  (None, 64, 690, 32)      128       \n",
      " hNormalization)                                                 \n",
      "                                                                 \n",
      " max_pooling2d_16 (MaxPoolin  (None, 32, 345, 32)      0         \n",
      " g2D)                                                            \n",
      "                                                                 \n",
      " conv2d_17 (Conv2D)          (None, 32, 345, 64)       18496     \n",
      "                                                                 \n",
      " batch_normalization_10 (Bat  (None, 32, 345, 64)      256       \n",
      " chNormalization)                                                \n",
      "                                                                 \n",
      " max_pooling2d_17 (MaxPoolin  (None, 16, 173, 64)      0         \n",
      " g2D)                                                            \n",
      "                                                                 \n",
      " conv2d_18 (Conv2D)          (None, 16, 173, 128)      73856     \n",
      "                                                                 \n",
      " batch_normalization_11 (Bat  (None, 16, 173, 128)     512       \n",
      " chNormalization)                                                \n",
      "                                                                 \n",
      " max_pooling2d_18 (MaxPoolin  (None, 8, 87, 128)       0         \n",
      " g2D)                                                            \n",
      "                                                                 \n",
      " conv2d_19 (Conv2D)          (None, 8, 87, 256)        295168    \n",
      "                                                                 \n",
      " batch_normalization_12 (Bat  (None, 8, 87, 256)       1024      \n",
      " chNormalization)                                                \n",
      "                                                                 \n",
      " max_pooling2d_19 (MaxPoolin  (None, 4, 44, 256)       0         \n",
      " g2D)                                                            \n",
      "                                                                 \n",
      " conv2d_20 (Conv2D)          (None, 4, 44, 512)        1180160   \n",
      "                                                                 \n",
      " batch_normalization_13 (Bat  (None, 4, 44, 512)       2048      \n",
      " chNormalization)                                                \n",
      "                                                                 \n",
      " max_pooling2d_20 (MaxPoolin  (None, 2, 22, 512)       0         \n",
      " g2D)                                                            \n",
      "                                                                 \n",
      " flatten_5 (Flatten)         (None, 22528)             0         \n",
      "                                                                 \n",
      " dense_14 (Dense)            (None, 512)               11534848  \n",
      "                                                                 \n",
      " dropout_4 (Dropout)         (None, 512)               0         \n",
      "                                                                 \n",
      " dense_15 (Dense)            (None, 256)               131328    \n",
      "                                                                 \n",
      " dropout_5 (Dropout)         (None, 256)               0         \n",
      "                                                                 \n",
      " dense_16 (Dense)            (None, 128)               32896     \n",
      "                                                                 \n",
      " dropout_6 (Dropout)         (None, 128)               0         \n",
      "                                                                 \n",
      " dense_17 (Dense)            (None, 64)                8256      \n",
      "                                                                 \n",
      " dropout_7 (Dropout)         (None, 64)                0         \n",
      "                                                                 \n",
      " dense_18 (Dense)            (None, 1)                 65        \n",
      "                                                                 \n",
      "=================================================================\n",
      "Total params: 13,279,361\n",
      "Trainable params: 13,277,377\n",
      "Non-trainable params: 1,984\n",
      "_________________________________________________________________\n"
     ]
    }
   ],
   "execution_count": 30
  },
  {
   "cell_type": "markdown",
   "source": [
    "# 編譯模型"
   ],
   "metadata": {
    "collapsed": false
   },
   "id": "166e2239d60f44b2"
  },
  {
   "cell_type": "code",
   "source": [
    "from keras.optimizers import Adam\n",
    "\n",
    "from tensorflow.keras.callbacks import ReduceLROnPlateau\n",
    "\n",
    "reduce_lr = ReduceLROnPlateau(monitor='val_loss', factor=0.5, patience=5, min_lr=0.00001)\n",
    "model.compile(optimizer=Adam(learning_rate=0.001), loss='binary_crossentropy', metrics=['accuracy'])\n",
    "history = model.fit(X_train, y_train, validation_data=(X_val, y_val), epochs=50, batch_size=32, callbacks=[reduce_lr], verbose=2)\n"
   ],
   "metadata": {
    "collapsed": false,
    "ExecuteTime": {
     "end_time": "2024-07-01T18:51:18.785091Z",
     "start_time": "2024-07-01T18:49:07.978732Z"
    }
   },
   "id": "d2b443cf377c5c3e",
   "outputs": [
    {
     "name": "stdout",
     "output_type": "stream",
     "text": [
      "Epoch 1/50\n",
      "78/78 - 4s - loss: 2.3545 - accuracy: 0.5205 - val_loss: 0.6920 - val_accuracy: 0.5338 - lr: 0.0010 - 4s/epoch - 51ms/step\n",
      "Epoch 2/50\n",
      "78/78 - 3s - loss: 1.1197 - accuracy: 0.5302 - val_loss: 0.6935 - val_accuracy: 0.5338 - lr: 0.0010 - 3s/epoch - 33ms/step\n",
      "Epoch 3/50\n",
      "78/78 - 3s - loss: 0.7989 - accuracy: 0.5048 - val_loss: 0.6907 - val_accuracy: 0.5338 - lr: 0.0010 - 3s/epoch - 33ms/step\n",
      "Epoch 4/50\n",
      "78/78 - 3s - loss: 0.7281 - accuracy: 0.5350 - val_loss: 0.7055 - val_accuracy: 0.4630 - lr: 0.0010 - 3s/epoch - 33ms/step\n",
      "Epoch 5/50\n",
      "78/78 - 3s - loss: 0.7026 - accuracy: 0.5237 - val_loss: 0.6984 - val_accuracy: 0.4759 - lr: 0.0010 - 3s/epoch - 33ms/step\n",
      "Epoch 6/50\n",
      "78/78 - 3s - loss: 0.6882 - accuracy: 0.5579 - val_loss: 0.6829 - val_accuracy: 0.5916 - lr: 0.0010 - 3s/epoch - 33ms/step\n",
      "Epoch 7/50\n",
      "78/78 - 3s - loss: 0.6788 - accuracy: 0.5664 - val_loss: 0.6715 - val_accuracy: 0.5498 - lr: 0.0010 - 3s/epoch - 33ms/step\n",
      "Epoch 8/50\n",
      "78/78 - 3s - loss: 0.6660 - accuracy: 0.5813 - val_loss: 0.6644 - val_accuracy: 0.5691 - lr: 0.0010 - 3s/epoch - 33ms/step\n",
      "Epoch 9/50\n",
      "78/78 - 3s - loss: 0.6771 - accuracy: 0.5784 - val_loss: 0.6599 - val_accuracy: 0.6206 - lr: 0.0010 - 3s/epoch - 33ms/step\n",
      "Epoch 10/50\n",
      "78/78 - 3s - loss: 0.6513 - accuracy: 0.6323 - val_loss: 0.6785 - val_accuracy: 0.5981 - lr: 0.0010 - 3s/epoch - 33ms/step\n",
      "Epoch 11/50\n",
      "78/78 - 3s - loss: 0.6395 - accuracy: 0.6512 - val_loss: 0.6301 - val_accuracy: 0.6881 - lr: 0.0010 - 3s/epoch - 33ms/step\n",
      "Epoch 12/50\n",
      "78/78 - 3s - loss: 0.6279 - accuracy: 0.6529 - val_loss: 0.6537 - val_accuracy: 0.6399 - lr: 0.0010 - 3s/epoch - 33ms/step\n",
      "Epoch 13/50\n",
      "78/78 - 3s - loss: 0.6326 - accuracy: 0.6516 - val_loss: 0.6655 - val_accuracy: 0.5820 - lr: 0.0010 - 3s/epoch - 33ms/step\n",
      "Epoch 14/50\n",
      "78/78 - 3s - loss: 0.6208 - accuracy: 0.6605 - val_loss: 0.5885 - val_accuracy: 0.6849 - lr: 0.0010 - 3s/epoch - 33ms/step\n",
      "Epoch 15/50\n",
      "78/78 - 3s - loss: 0.6207 - accuracy: 0.6645 - val_loss: 0.7489 - val_accuracy: 0.5338 - lr: 0.0010 - 3s/epoch - 33ms/step\n",
      "Epoch 16/50\n",
      "78/78 - 3s - loss: 0.6234 - accuracy: 0.6706 - val_loss: 0.6332 - val_accuracy: 0.6141 - lr: 0.0010 - 3s/epoch - 33ms/step\n",
      "Epoch 17/50\n",
      "78/78 - 3s - loss: 0.6077 - accuracy: 0.6979 - val_loss: 0.5928 - val_accuracy: 0.6977 - lr: 0.0010 - 3s/epoch - 33ms/step\n",
      "Epoch 18/50\n",
      "78/78 - 3s - loss: 0.5859 - accuracy: 0.7003 - val_loss: 0.6606 - val_accuracy: 0.6334 - lr: 0.0010 - 3s/epoch - 33ms/step\n",
      "Epoch 19/50\n",
      "78/78 - 3s - loss: 0.5889 - accuracy: 0.7076 - val_loss: 0.5800 - val_accuracy: 0.6559 - lr: 0.0010 - 3s/epoch - 33ms/step\n",
      "Epoch 20/50\n",
      "78/78 - 3s - loss: 0.5704 - accuracy: 0.7216 - val_loss: 0.5988 - val_accuracy: 0.6849 - lr: 0.0010 - 3s/epoch - 33ms/step\n",
      "Epoch 21/50\n",
      "78/78 - 3s - loss: 0.5879 - accuracy: 0.7088 - val_loss: 0.5958 - val_accuracy: 0.7106 - lr: 0.0010 - 3s/epoch - 33ms/step\n",
      "Epoch 22/50\n",
      "78/78 - 3s - loss: 0.5936 - accuracy: 0.7124 - val_loss: 0.6461 - val_accuracy: 0.6720 - lr: 0.0010 - 3s/epoch - 33ms/step\n",
      "Epoch 23/50\n",
      "78/78 - 3s - loss: 0.5755 - accuracy: 0.7241 - val_loss: 0.5915 - val_accuracy: 0.6881 - lr: 0.0010 - 3s/epoch - 33ms/step\n",
      "Epoch 24/50\n",
      "78/78 - 3s - loss: 0.5772 - accuracy: 0.7192 - val_loss: 0.6208 - val_accuracy: 0.7138 - lr: 0.0010 - 3s/epoch - 33ms/step\n",
      "Epoch 25/50\n",
      "78/78 - 3s - loss: 0.5704 - accuracy: 0.7273 - val_loss: 0.5694 - val_accuracy: 0.6752 - lr: 5.0000e-04 - 3s/epoch - 33ms/step\n",
      "Epoch 26/50\n",
      "78/78 - 3s - loss: 0.5634 - accuracy: 0.7277 - val_loss: 0.6181 - val_accuracy: 0.6945 - lr: 5.0000e-04 - 3s/epoch - 33ms/step\n",
      "Epoch 27/50\n",
      "78/78 - 3s - loss: 0.5559 - accuracy: 0.7357 - val_loss: 0.5944 - val_accuracy: 0.7106 - lr: 5.0000e-04 - 3s/epoch - 33ms/step\n",
      "Epoch 28/50\n",
      "78/78 - 3s - loss: 0.5644 - accuracy: 0.7297 - val_loss: 0.6024 - val_accuracy: 0.7106 - lr: 5.0000e-04 - 3s/epoch - 33ms/step\n",
      "Epoch 29/50\n",
      "78/78 - 3s - loss: 0.5572 - accuracy: 0.7353 - val_loss: 0.5863 - val_accuracy: 0.6334 - lr: 5.0000e-04 - 3s/epoch - 33ms/step\n",
      "Epoch 30/50\n",
      "78/78 - 3s - loss: 0.5600 - accuracy: 0.7285 - val_loss: 0.5958 - val_accuracy: 0.7042 - lr: 5.0000e-04 - 3s/epoch - 33ms/step\n",
      "Epoch 31/50\n",
      "78/78 - 3s - loss: 0.5584 - accuracy: 0.7397 - val_loss: 0.6137 - val_accuracy: 0.7074 - lr: 2.5000e-04 - 3s/epoch - 33ms/step\n",
      "Epoch 32/50\n",
      "78/78 - 3s - loss: 0.5592 - accuracy: 0.7309 - val_loss: 0.6212 - val_accuracy: 0.7074 - lr: 2.5000e-04 - 3s/epoch - 33ms/step\n",
      "Epoch 33/50\n",
      "78/78 - 3s - loss: 0.5507 - accuracy: 0.7345 - val_loss: 0.6179 - val_accuracy: 0.7138 - lr: 2.5000e-04 - 3s/epoch - 33ms/step\n",
      "Epoch 34/50\n",
      "78/78 - 3s - loss: 0.5548 - accuracy: 0.7281 - val_loss: 0.5944 - val_accuracy: 0.7042 - lr: 2.5000e-04 - 3s/epoch - 33ms/step\n",
      "Epoch 35/50\n",
      "78/78 - 3s - loss: 0.5497 - accuracy: 0.7373 - val_loss: 0.6202 - val_accuracy: 0.7170 - lr: 2.5000e-04 - 3s/epoch - 33ms/step\n",
      "Epoch 36/50\n",
      "78/78 - 3s - loss: 0.5463 - accuracy: 0.7389 - val_loss: 0.5879 - val_accuracy: 0.7042 - lr: 1.2500e-04 - 3s/epoch - 33ms/step\n",
      "Epoch 37/50\n",
      "78/78 - 3s - loss: 0.5536 - accuracy: 0.7361 - val_loss: 0.5911 - val_accuracy: 0.7010 - lr: 1.2500e-04 - 3s/epoch - 33ms/step\n",
      "Epoch 38/50\n",
      "78/78 - 3s - loss: 0.5425 - accuracy: 0.7409 - val_loss: 0.5864 - val_accuracy: 0.7010 - lr: 1.2500e-04 - 3s/epoch - 33ms/step\n",
      "Epoch 39/50\n",
      "78/78 - 3s - loss: 0.5493 - accuracy: 0.7409 - val_loss: 0.6001 - val_accuracy: 0.7106 - lr: 1.2500e-04 - 3s/epoch - 33ms/step\n",
      "Epoch 40/50\n",
      "78/78 - 3s - loss: 0.5441 - accuracy: 0.7418 - val_loss: 0.5934 - val_accuracy: 0.7170 - lr: 1.2500e-04 - 3s/epoch - 33ms/step\n",
      "Epoch 41/50\n",
      "78/78 - 3s - loss: 0.5428 - accuracy: 0.7430 - val_loss: 0.5844 - val_accuracy: 0.7106 - lr: 6.2500e-05 - 3s/epoch - 33ms/step\n",
      "Epoch 42/50\n",
      "78/78 - 3s - loss: 0.5412 - accuracy: 0.7405 - val_loss: 0.5902 - val_accuracy: 0.7170 - lr: 6.2500e-05 - 3s/epoch - 33ms/step\n",
      "Epoch 43/50\n",
      "78/78 - 3s - loss: 0.5345 - accuracy: 0.7426 - val_loss: 0.5950 - val_accuracy: 0.7138 - lr: 6.2500e-05 - 3s/epoch - 33ms/step\n",
      "Epoch 44/50\n",
      "78/78 - 3s - loss: 0.5434 - accuracy: 0.7462 - val_loss: 0.5875 - val_accuracy: 0.7106 - lr: 6.2500e-05 - 3s/epoch - 33ms/step\n",
      "Epoch 45/50\n",
      "78/78 - 3s - loss: 0.5394 - accuracy: 0.7430 - val_loss: 0.5844 - val_accuracy: 0.7170 - lr: 6.2500e-05 - 3s/epoch - 33ms/step\n",
      "Epoch 46/50\n",
      "78/78 - 3s - loss: 0.5398 - accuracy: 0.7438 - val_loss: 0.5893 - val_accuracy: 0.7074 - lr: 3.1250e-05 - 3s/epoch - 33ms/step\n",
      "Epoch 47/50\n",
      "78/78 - 3s - loss: 0.5395 - accuracy: 0.7409 - val_loss: 0.5899 - val_accuracy: 0.7106 - lr: 3.1250e-05 - 3s/epoch - 33ms/step\n",
      "Epoch 48/50\n",
      "78/78 - 3s - loss: 0.5362 - accuracy: 0.7409 - val_loss: 0.5912 - val_accuracy: 0.7138 - lr: 3.1250e-05 - 3s/epoch - 33ms/step\n",
      "Epoch 49/50\n",
      "78/78 - 3s - loss: 0.5410 - accuracy: 0.7434 - val_loss: 0.5931 - val_accuracy: 0.7138 - lr: 3.1250e-05 - 3s/epoch - 33ms/step\n",
      "Epoch 50/50\n",
      "78/78 - 3s - loss: 0.5412 - accuracy: 0.7438 - val_loss: 0.5896 - val_accuracy: 0.7138 - lr: 3.1250e-05 - 3s/epoch - 33ms/step\n"
     ]
    }
   ],
   "execution_count": 31
  },
  {
   "cell_type": "markdown",
   "source": [
    "# 訓練模型"
   ],
   "metadata": {
    "collapsed": false
   },
   "id": "c1cef9cdd64e62f7"
  },
  {
   "cell_type": "code",
   "source": "history = model.fit(X_train, y_train, validation_data=(X_val, y_val), epochs=50, batch_size=16, verbose=2)",
   "metadata": {
    "collapsed": false,
    "ExecuteTime": {
     "end_time": "2024-07-01T18:43:04.794855Z",
     "start_time": "2024-07-01T18:42:20.824896Z"
    }
   },
   "id": "72217543dfab2842",
   "outputs": [
    {
     "name": "stdout",
     "output_type": "stream",
     "text": [
      "Epoch 1/50\n",
      "156/156 - 2s - loss: 0.6933 - accuracy: 0.5097 - val_loss: 0.6875 - val_accuracy: 0.6013 - 2s/epoch - 12ms/step\n",
      "Epoch 2/50\n",
      "156/156 - 1s - loss: 0.6758 - accuracy: 0.5788 - val_loss: 0.6823 - val_accuracy: 0.5820 - 1s/epoch - 9ms/step\n",
      "Epoch 3/50\n",
      "156/156 - 1s - loss: 0.6528 - accuracy: 0.6207 - val_loss: 0.6290 - val_accuracy: 0.6817 - 1s/epoch - 10ms/step\n",
      "Epoch 4/50\n",
      "156/156 - 1s - loss: 0.6205 - accuracy: 0.6585 - val_loss: 0.6014 - val_accuracy: 0.7010 - 1s/epoch - 10ms/step\n",
      "Epoch 5/50\n",
      "156/156 - 2s - loss: 0.6055 - accuracy: 0.6806 - val_loss: 0.5926 - val_accuracy: 0.6785 - 2s/epoch - 10ms/step\n",
      "Epoch 6/50\n",
      "156/156 - 1s - loss: 0.5794 - accuracy: 0.7047 - val_loss: 0.6027 - val_accuracy: 0.6913 - 1s/epoch - 10ms/step\n",
      "Epoch 7/50\n",
      "156/156 - 2s - loss: 0.5773 - accuracy: 0.7092 - val_loss: 0.5737 - val_accuracy: 0.6945 - 2s/epoch - 10ms/step\n",
      "Epoch 8/50\n",
      "156/156 - 2s - loss: 0.5705 - accuracy: 0.7261 - val_loss: 0.5772 - val_accuracy: 0.6945 - 2s/epoch - 10ms/step\n",
      "Epoch 9/50\n",
      "156/156 - 2s - loss: 0.5590 - accuracy: 0.7261 - val_loss: 0.5740 - val_accuracy: 0.7170 - 2s/epoch - 10ms/step\n",
      "Epoch 10/50\n",
      "156/156 - 2s - loss: 0.5617 - accuracy: 0.7245 - val_loss: 0.5680 - val_accuracy: 0.6785 - 2s/epoch - 10ms/step\n",
      "Epoch 11/50\n",
      "156/156 - 2s - loss: 0.5500 - accuracy: 0.7317 - val_loss: 0.5693 - val_accuracy: 0.7106 - 2s/epoch - 10ms/step\n",
      "Epoch 12/50\n",
      "156/156 - 2s - loss: 0.5497 - accuracy: 0.7309 - val_loss: 0.5862 - val_accuracy: 0.7138 - 2s/epoch - 10ms/step\n",
      "Epoch 13/50\n",
      "156/156 - 2s - loss: 0.5540 - accuracy: 0.7397 - val_loss: 0.5727 - val_accuracy: 0.7106 - 2s/epoch - 10ms/step\n",
      "Epoch 14/50\n",
      "156/156 - 2s - loss: 0.5461 - accuracy: 0.7353 - val_loss: 0.5680 - val_accuracy: 0.7074 - 2s/epoch - 10ms/step\n",
      "Epoch 15/50\n",
      "156/156 - 2s - loss: 0.5407 - accuracy: 0.7418 - val_loss: 0.5881 - val_accuracy: 0.7138 - 2s/epoch - 10ms/step\n",
      "Epoch 16/50\n",
      "156/156 - 2s - loss: 0.5433 - accuracy: 0.7405 - val_loss: 0.5641 - val_accuracy: 0.7042 - 2s/epoch - 10ms/step\n",
      "Epoch 17/50\n",
      "156/156 - 2s - loss: 0.5476 - accuracy: 0.7418 - val_loss: 0.5641 - val_accuracy: 0.7170 - 2s/epoch - 10ms/step\n",
      "Epoch 18/50\n",
      "156/156 - 2s - loss: 0.5404 - accuracy: 0.7426 - val_loss: 0.5598 - val_accuracy: 0.7170 - 2s/epoch - 10ms/step\n",
      "Epoch 19/50\n",
      "156/156 - 2s - loss: 0.5392 - accuracy: 0.7393 - val_loss: 0.5657 - val_accuracy: 0.7138 - 2s/epoch - 10ms/step\n",
      "Epoch 20/50\n",
      "156/156 - 2s - loss: 0.5422 - accuracy: 0.7397 - val_loss: 0.5733 - val_accuracy: 0.6913 - 2s/epoch - 10ms/step\n",
      "Epoch 21/50\n",
      "156/156 - 2s - loss: 0.5400 - accuracy: 0.7442 - val_loss: 0.5675 - val_accuracy: 0.7138 - 2s/epoch - 10ms/step\n",
      "Epoch 22/50\n",
      "156/156 - 2s - loss: 0.5363 - accuracy: 0.7418 - val_loss: 0.5674 - val_accuracy: 0.7138 - 2s/epoch - 10ms/step\n",
      "Epoch 23/50\n",
      "156/156 - 2s - loss: 0.5356 - accuracy: 0.7434 - val_loss: 0.5749 - val_accuracy: 0.7074 - 2s/epoch - 10ms/step\n",
      "Epoch 24/50\n",
      "156/156 - 2s - loss: 0.5363 - accuracy: 0.7430 - val_loss: 0.5661 - val_accuracy: 0.7074 - 2s/epoch - 10ms/step\n",
      "Epoch 25/50\n",
      "156/156 - 2s - loss: 0.5341 - accuracy: 0.7454 - val_loss: 0.5736 - val_accuracy: 0.7074 - 2s/epoch - 10ms/step\n",
      "Epoch 26/50\n",
      "156/156 - 2s - loss: 0.5387 - accuracy: 0.7414 - val_loss: 0.5757 - val_accuracy: 0.7170 - 2s/epoch - 10ms/step\n",
      "Epoch 27/50\n",
      "156/156 - 2s - loss: 0.5367 - accuracy: 0.7442 - val_loss: 0.5720 - val_accuracy: 0.7106 - 2s/epoch - 10ms/step\n",
      "Epoch 28/50\n",
      "156/156 - 2s - loss: 0.5334 - accuracy: 0.7442 - val_loss: 0.5815 - val_accuracy: 0.7042 - 2s/epoch - 10ms/step\n",
      "Epoch 29/50\n"
     ]
    },
    {
     "ename": "KeyboardInterrupt",
     "evalue": "",
     "output_type": "error",
     "traceback": [
      "\u001B[1;31m---------------------------------------------------------------------------\u001B[0m",
      "\u001B[1;31mKeyboardInterrupt\u001B[0m                         Traceback (most recent call last)",
      "Cell \u001B[1;32mIn[23], line 1\u001B[0m\n\u001B[1;32m----> 1\u001B[0m history \u001B[38;5;241m=\u001B[39m \u001B[43mmodel\u001B[49m\u001B[38;5;241;43m.\u001B[39;49m\u001B[43mfit\u001B[49m\u001B[43m(\u001B[49m\u001B[43mX_train\u001B[49m\u001B[43m,\u001B[49m\u001B[43m \u001B[49m\u001B[43my_train\u001B[49m\u001B[43m,\u001B[49m\u001B[43m \u001B[49m\u001B[43mvalidation_data\u001B[49m\u001B[38;5;241;43m=\u001B[39;49m\u001B[43m(\u001B[49m\u001B[43mX_val\u001B[49m\u001B[43m,\u001B[49m\u001B[43m \u001B[49m\u001B[43my_val\u001B[49m\u001B[43m)\u001B[49m\u001B[43m,\u001B[49m\u001B[43m \u001B[49m\u001B[43mepochs\u001B[49m\u001B[38;5;241;43m=\u001B[39;49m\u001B[38;5;241;43m50\u001B[39;49m\u001B[43m,\u001B[49m\u001B[43m \u001B[49m\u001B[43mbatch_size\u001B[49m\u001B[38;5;241;43m=\u001B[39;49m\u001B[38;5;241;43m16\u001B[39;49m\u001B[43m,\u001B[49m\u001B[43m \u001B[49m\u001B[43mverbose\u001B[49m\u001B[38;5;241;43m=\u001B[39;49m\u001B[38;5;241;43m2\u001B[39;49m\u001B[43m)\u001B[49m\n",
      "File \u001B[1;32m~\\miniconda3\\envs\\wind_turbine\\lib\\site-packages\\keras\\utils\\traceback_utils.py:65\u001B[0m, in \u001B[0;36mfilter_traceback.<locals>.error_handler\u001B[1;34m(*args, **kwargs)\u001B[0m\n\u001B[0;32m     63\u001B[0m filtered_tb \u001B[38;5;241m=\u001B[39m \u001B[38;5;28;01mNone\u001B[39;00m\n\u001B[0;32m     64\u001B[0m \u001B[38;5;28;01mtry\u001B[39;00m:\n\u001B[1;32m---> 65\u001B[0m     \u001B[38;5;28;01mreturn\u001B[39;00m fn(\u001B[38;5;241m*\u001B[39margs, \u001B[38;5;241m*\u001B[39m\u001B[38;5;241m*\u001B[39mkwargs)\n\u001B[0;32m     66\u001B[0m \u001B[38;5;28;01mexcept\u001B[39;00m \u001B[38;5;167;01mException\u001B[39;00m \u001B[38;5;28;01mas\u001B[39;00m e:\n\u001B[0;32m     67\u001B[0m     filtered_tb \u001B[38;5;241m=\u001B[39m _process_traceback_frames(e\u001B[38;5;241m.\u001B[39m__traceback__)\n",
      "File \u001B[1;32m~\\miniconda3\\envs\\wind_turbine\\lib\\site-packages\\keras\\engine\\training.py:1564\u001B[0m, in \u001B[0;36mModel.fit\u001B[1;34m(self, x, y, batch_size, epochs, verbose, callbacks, validation_split, validation_data, shuffle, class_weight, sample_weight, initial_epoch, steps_per_epoch, validation_steps, validation_batch_size, validation_freq, max_queue_size, workers, use_multiprocessing)\u001B[0m\n\u001B[0;32m   1556\u001B[0m \u001B[38;5;28;01mwith\u001B[39;00m tf\u001B[38;5;241m.\u001B[39mprofiler\u001B[38;5;241m.\u001B[39mexperimental\u001B[38;5;241m.\u001B[39mTrace(\n\u001B[0;32m   1557\u001B[0m     \u001B[38;5;124m\"\u001B[39m\u001B[38;5;124mtrain\u001B[39m\u001B[38;5;124m\"\u001B[39m,\n\u001B[0;32m   1558\u001B[0m     epoch_num\u001B[38;5;241m=\u001B[39mepoch,\n\u001B[1;32m   (...)\u001B[0m\n\u001B[0;32m   1561\u001B[0m     _r\u001B[38;5;241m=\u001B[39m\u001B[38;5;241m1\u001B[39m,\n\u001B[0;32m   1562\u001B[0m ):\n\u001B[0;32m   1563\u001B[0m     callbacks\u001B[38;5;241m.\u001B[39mon_train_batch_begin(step)\n\u001B[1;32m-> 1564\u001B[0m     tmp_logs \u001B[38;5;241m=\u001B[39m \u001B[38;5;28;43mself\u001B[39;49m\u001B[38;5;241;43m.\u001B[39;49m\u001B[43mtrain_function\u001B[49m\u001B[43m(\u001B[49m\u001B[43miterator\u001B[49m\u001B[43m)\u001B[49m\n\u001B[0;32m   1565\u001B[0m     \u001B[38;5;28;01mif\u001B[39;00m data_handler\u001B[38;5;241m.\u001B[39mshould_sync:\n\u001B[0;32m   1566\u001B[0m         context\u001B[38;5;241m.\u001B[39masync_wait()\n",
      "File \u001B[1;32m~\\miniconda3\\envs\\wind_turbine\\lib\\site-packages\\tensorflow\\python\\util\\traceback_utils.py:150\u001B[0m, in \u001B[0;36mfilter_traceback.<locals>.error_handler\u001B[1;34m(*args, **kwargs)\u001B[0m\n\u001B[0;32m    148\u001B[0m filtered_tb \u001B[38;5;241m=\u001B[39m \u001B[38;5;28;01mNone\u001B[39;00m\n\u001B[0;32m    149\u001B[0m \u001B[38;5;28;01mtry\u001B[39;00m:\n\u001B[1;32m--> 150\u001B[0m   \u001B[38;5;28;01mreturn\u001B[39;00m fn(\u001B[38;5;241m*\u001B[39margs, \u001B[38;5;241m*\u001B[39m\u001B[38;5;241m*\u001B[39mkwargs)\n\u001B[0;32m    151\u001B[0m \u001B[38;5;28;01mexcept\u001B[39;00m \u001B[38;5;167;01mException\u001B[39;00m \u001B[38;5;28;01mas\u001B[39;00m e:\n\u001B[0;32m    152\u001B[0m   filtered_tb \u001B[38;5;241m=\u001B[39m _process_traceback_frames(e\u001B[38;5;241m.\u001B[39m__traceback__)\n",
      "File \u001B[1;32m~\\miniconda3\\envs\\wind_turbine\\lib\\site-packages\\tensorflow\\python\\eager\\def_function.py:915\u001B[0m, in \u001B[0;36mFunction.__call__\u001B[1;34m(self, *args, **kwds)\u001B[0m\n\u001B[0;32m    912\u001B[0m compiler \u001B[38;5;241m=\u001B[39m \u001B[38;5;124m\"\u001B[39m\u001B[38;5;124mxla\u001B[39m\u001B[38;5;124m\"\u001B[39m \u001B[38;5;28;01mif\u001B[39;00m \u001B[38;5;28mself\u001B[39m\u001B[38;5;241m.\u001B[39m_jit_compile \u001B[38;5;28;01melse\u001B[39;00m \u001B[38;5;124m\"\u001B[39m\u001B[38;5;124mnonXla\u001B[39m\u001B[38;5;124m\"\u001B[39m\n\u001B[0;32m    914\u001B[0m \u001B[38;5;28;01mwith\u001B[39;00m OptionalXlaContext(\u001B[38;5;28mself\u001B[39m\u001B[38;5;241m.\u001B[39m_jit_compile):\n\u001B[1;32m--> 915\u001B[0m   result \u001B[38;5;241m=\u001B[39m \u001B[38;5;28mself\u001B[39m\u001B[38;5;241m.\u001B[39m_call(\u001B[38;5;241m*\u001B[39margs, \u001B[38;5;241m*\u001B[39m\u001B[38;5;241m*\u001B[39mkwds)\n\u001B[0;32m    917\u001B[0m new_tracing_count \u001B[38;5;241m=\u001B[39m \u001B[38;5;28mself\u001B[39m\u001B[38;5;241m.\u001B[39mexperimental_get_tracing_count()\n\u001B[0;32m    918\u001B[0m without_tracing \u001B[38;5;241m=\u001B[39m (tracing_count \u001B[38;5;241m==\u001B[39m new_tracing_count)\n",
      "File \u001B[1;32m~\\miniconda3\\envs\\wind_turbine\\lib\\site-packages\\tensorflow\\python\\eager\\def_function.py:947\u001B[0m, in \u001B[0;36mFunction._call\u001B[1;34m(self, *args, **kwds)\u001B[0m\n\u001B[0;32m    944\u001B[0m   \u001B[38;5;28mself\u001B[39m\u001B[38;5;241m.\u001B[39m_lock\u001B[38;5;241m.\u001B[39mrelease()\n\u001B[0;32m    945\u001B[0m   \u001B[38;5;66;03m# In this case we have created variables on the first call, so we run the\u001B[39;00m\n\u001B[0;32m    946\u001B[0m   \u001B[38;5;66;03m# defunned version which is guaranteed to never create variables.\u001B[39;00m\n\u001B[1;32m--> 947\u001B[0m   \u001B[38;5;28;01mreturn\u001B[39;00m \u001B[38;5;28mself\u001B[39m\u001B[38;5;241m.\u001B[39m_stateless_fn(\u001B[38;5;241m*\u001B[39margs, \u001B[38;5;241m*\u001B[39m\u001B[38;5;241m*\u001B[39mkwds)  \u001B[38;5;66;03m# pylint: disable=not-callable\u001B[39;00m\n\u001B[0;32m    948\u001B[0m \u001B[38;5;28;01melif\u001B[39;00m \u001B[38;5;28mself\u001B[39m\u001B[38;5;241m.\u001B[39m_stateful_fn \u001B[38;5;129;01mis\u001B[39;00m \u001B[38;5;129;01mnot\u001B[39;00m \u001B[38;5;28;01mNone\u001B[39;00m:\n\u001B[0;32m    949\u001B[0m   \u001B[38;5;66;03m# Release the lock early so that multiple threads can perform the call\u001B[39;00m\n\u001B[0;32m    950\u001B[0m   \u001B[38;5;66;03m# in parallel.\u001B[39;00m\n\u001B[0;32m    951\u001B[0m   \u001B[38;5;28mself\u001B[39m\u001B[38;5;241m.\u001B[39m_lock\u001B[38;5;241m.\u001B[39mrelease()\n",
      "File \u001B[1;32m~\\miniconda3\\envs\\wind_turbine\\lib\\site-packages\\tensorflow\\python\\eager\\function.py:2496\u001B[0m, in \u001B[0;36mFunction.__call__\u001B[1;34m(self, *args, **kwargs)\u001B[0m\n\u001B[0;32m   2493\u001B[0m \u001B[38;5;28;01mwith\u001B[39;00m \u001B[38;5;28mself\u001B[39m\u001B[38;5;241m.\u001B[39m_lock:\n\u001B[0;32m   2494\u001B[0m   (graph_function,\n\u001B[0;32m   2495\u001B[0m    filtered_flat_args) \u001B[38;5;241m=\u001B[39m \u001B[38;5;28mself\u001B[39m\u001B[38;5;241m.\u001B[39m_maybe_define_function(args, kwargs)\n\u001B[1;32m-> 2496\u001B[0m \u001B[38;5;28;01mreturn\u001B[39;00m \u001B[43mgraph_function\u001B[49m\u001B[38;5;241;43m.\u001B[39;49m\u001B[43m_call_flat\u001B[49m\u001B[43m(\u001B[49m\n\u001B[0;32m   2497\u001B[0m \u001B[43m    \u001B[49m\u001B[43mfiltered_flat_args\u001B[49m\u001B[43m,\u001B[49m\u001B[43m \u001B[49m\u001B[43mcaptured_inputs\u001B[49m\u001B[38;5;241;43m=\u001B[39;49m\u001B[43mgraph_function\u001B[49m\u001B[38;5;241;43m.\u001B[39;49m\u001B[43mcaptured_inputs\u001B[49m\u001B[43m)\u001B[49m\n",
      "File \u001B[1;32m~\\miniconda3\\envs\\wind_turbine\\lib\\site-packages\\tensorflow\\python\\eager\\function.py:1862\u001B[0m, in \u001B[0;36mConcreteFunction._call_flat\u001B[1;34m(self, args, captured_inputs, cancellation_manager)\u001B[0m\n\u001B[0;32m   1858\u001B[0m possible_gradient_type \u001B[38;5;241m=\u001B[39m gradients_util\u001B[38;5;241m.\u001B[39mPossibleTapeGradientTypes(args)\n\u001B[0;32m   1859\u001B[0m \u001B[38;5;28;01mif\u001B[39;00m (possible_gradient_type \u001B[38;5;241m==\u001B[39m gradients_util\u001B[38;5;241m.\u001B[39mPOSSIBLE_GRADIENT_TYPES_NONE\n\u001B[0;32m   1860\u001B[0m     \u001B[38;5;129;01mand\u001B[39;00m executing_eagerly):\n\u001B[0;32m   1861\u001B[0m   \u001B[38;5;66;03m# No tape is watching; skip to running the function.\u001B[39;00m\n\u001B[1;32m-> 1862\u001B[0m   \u001B[38;5;28;01mreturn\u001B[39;00m \u001B[38;5;28mself\u001B[39m\u001B[38;5;241m.\u001B[39m_build_call_outputs(\u001B[38;5;28;43mself\u001B[39;49m\u001B[38;5;241;43m.\u001B[39;49m\u001B[43m_inference_function\u001B[49m\u001B[38;5;241;43m.\u001B[39;49m\u001B[43mcall\u001B[49m\u001B[43m(\u001B[49m\n\u001B[0;32m   1863\u001B[0m \u001B[43m      \u001B[49m\u001B[43mctx\u001B[49m\u001B[43m,\u001B[49m\u001B[43m \u001B[49m\u001B[43margs\u001B[49m\u001B[43m,\u001B[49m\u001B[43m \u001B[49m\u001B[43mcancellation_manager\u001B[49m\u001B[38;5;241;43m=\u001B[39;49m\u001B[43mcancellation_manager\u001B[49m\u001B[43m)\u001B[49m)\n\u001B[0;32m   1864\u001B[0m forward_backward \u001B[38;5;241m=\u001B[39m \u001B[38;5;28mself\u001B[39m\u001B[38;5;241m.\u001B[39m_select_forward_and_backward_functions(\n\u001B[0;32m   1865\u001B[0m     args,\n\u001B[0;32m   1866\u001B[0m     possible_gradient_type,\n\u001B[0;32m   1867\u001B[0m     executing_eagerly)\n\u001B[0;32m   1868\u001B[0m forward_function, args_with_tangents \u001B[38;5;241m=\u001B[39m forward_backward\u001B[38;5;241m.\u001B[39mforward()\n",
      "File \u001B[1;32m~\\miniconda3\\envs\\wind_turbine\\lib\\site-packages\\tensorflow\\python\\eager\\function.py:499\u001B[0m, in \u001B[0;36m_EagerDefinedFunction.call\u001B[1;34m(self, ctx, args, cancellation_manager)\u001B[0m\n\u001B[0;32m    497\u001B[0m \u001B[38;5;28;01mwith\u001B[39;00m _InterpolateFunctionError(\u001B[38;5;28mself\u001B[39m):\n\u001B[0;32m    498\u001B[0m   \u001B[38;5;28;01mif\u001B[39;00m cancellation_manager \u001B[38;5;129;01mis\u001B[39;00m \u001B[38;5;28;01mNone\u001B[39;00m:\n\u001B[1;32m--> 499\u001B[0m     outputs \u001B[38;5;241m=\u001B[39m \u001B[43mexecute\u001B[49m\u001B[38;5;241;43m.\u001B[39;49m\u001B[43mexecute\u001B[49m\u001B[43m(\u001B[49m\n\u001B[0;32m    500\u001B[0m \u001B[43m        \u001B[49m\u001B[38;5;28;43mstr\u001B[39;49m\u001B[43m(\u001B[49m\u001B[38;5;28;43mself\u001B[39;49m\u001B[38;5;241;43m.\u001B[39;49m\u001B[43msignature\u001B[49m\u001B[38;5;241;43m.\u001B[39;49m\u001B[43mname\u001B[49m\u001B[43m)\u001B[49m\u001B[43m,\u001B[49m\n\u001B[0;32m    501\u001B[0m \u001B[43m        \u001B[49m\u001B[43mnum_outputs\u001B[49m\u001B[38;5;241;43m=\u001B[39;49m\u001B[38;5;28;43mself\u001B[39;49m\u001B[38;5;241;43m.\u001B[39;49m\u001B[43m_num_outputs\u001B[49m\u001B[43m,\u001B[49m\n\u001B[0;32m    502\u001B[0m \u001B[43m        \u001B[49m\u001B[43minputs\u001B[49m\u001B[38;5;241;43m=\u001B[39;49m\u001B[43margs\u001B[49m\u001B[43m,\u001B[49m\n\u001B[0;32m    503\u001B[0m \u001B[43m        \u001B[49m\u001B[43mattrs\u001B[49m\u001B[38;5;241;43m=\u001B[39;49m\u001B[43mattrs\u001B[49m\u001B[43m,\u001B[49m\n\u001B[0;32m    504\u001B[0m \u001B[43m        \u001B[49m\u001B[43mctx\u001B[49m\u001B[38;5;241;43m=\u001B[39;49m\u001B[43mctx\u001B[49m\u001B[43m)\u001B[49m\n\u001B[0;32m    505\u001B[0m   \u001B[38;5;28;01melse\u001B[39;00m:\n\u001B[0;32m    506\u001B[0m     outputs \u001B[38;5;241m=\u001B[39m execute\u001B[38;5;241m.\u001B[39mexecute_with_cancellation(\n\u001B[0;32m    507\u001B[0m         \u001B[38;5;28mstr\u001B[39m(\u001B[38;5;28mself\u001B[39m\u001B[38;5;241m.\u001B[39msignature\u001B[38;5;241m.\u001B[39mname),\n\u001B[0;32m    508\u001B[0m         num_outputs\u001B[38;5;241m=\u001B[39m\u001B[38;5;28mself\u001B[39m\u001B[38;5;241m.\u001B[39m_num_outputs,\n\u001B[1;32m   (...)\u001B[0m\n\u001B[0;32m    511\u001B[0m         ctx\u001B[38;5;241m=\u001B[39mctx,\n\u001B[0;32m    512\u001B[0m         cancellation_manager\u001B[38;5;241m=\u001B[39mcancellation_manager)\n",
      "File \u001B[1;32m~\\miniconda3\\envs\\wind_turbine\\lib\\site-packages\\tensorflow\\python\\eager\\execute.py:54\u001B[0m, in \u001B[0;36mquick_execute\u001B[1;34m(op_name, num_outputs, inputs, attrs, ctx, name)\u001B[0m\n\u001B[0;32m     52\u001B[0m \u001B[38;5;28;01mtry\u001B[39;00m:\n\u001B[0;32m     53\u001B[0m   ctx\u001B[38;5;241m.\u001B[39mensure_initialized()\n\u001B[1;32m---> 54\u001B[0m   tensors \u001B[38;5;241m=\u001B[39m \u001B[43mpywrap_tfe\u001B[49m\u001B[38;5;241;43m.\u001B[39;49m\u001B[43mTFE_Py_Execute\u001B[49m\u001B[43m(\u001B[49m\u001B[43mctx\u001B[49m\u001B[38;5;241;43m.\u001B[39;49m\u001B[43m_handle\u001B[49m\u001B[43m,\u001B[49m\u001B[43m \u001B[49m\u001B[43mdevice_name\u001B[49m\u001B[43m,\u001B[49m\u001B[43m \u001B[49m\u001B[43mop_name\u001B[49m\u001B[43m,\u001B[49m\n\u001B[0;32m     55\u001B[0m \u001B[43m                                      \u001B[49m\u001B[43minputs\u001B[49m\u001B[43m,\u001B[49m\u001B[43m \u001B[49m\u001B[43mattrs\u001B[49m\u001B[43m,\u001B[49m\u001B[43m \u001B[49m\u001B[43mnum_outputs\u001B[49m\u001B[43m)\u001B[49m\n\u001B[0;32m     56\u001B[0m \u001B[38;5;28;01mexcept\u001B[39;00m core\u001B[38;5;241m.\u001B[39m_NotOkStatusException \u001B[38;5;28;01mas\u001B[39;00m e:\n\u001B[0;32m     57\u001B[0m   \u001B[38;5;28;01mif\u001B[39;00m name \u001B[38;5;129;01mis\u001B[39;00m \u001B[38;5;129;01mnot\u001B[39;00m \u001B[38;5;28;01mNone\u001B[39;00m:\n",
      "\u001B[1;31mKeyboardInterrupt\u001B[0m: "
     ]
    }
   ],
   "execution_count": 23
  },
  {
   "metadata": {},
   "cell_type": "code",
   "outputs": [],
   "execution_count": null,
   "source": "",
   "id": "3445d493a78861d5"
  }
 ],
 "metadata": {
  "kernelspec": {
   "display_name": "Python 3",
   "language": "python",
   "name": "python3"
  },
  "language_info": {
   "codemirror_mode": {
    "name": "ipython",
    "version": 2
   },
   "file_extension": ".py",
   "mimetype": "text/x-python",
   "name": "python",
   "nbconvert_exporter": "python",
   "pygments_lexer": "ipython2",
   "version": "2.7.6"
  }
 },
 "nbformat": 4,
 "nbformat_minor": 5
}
