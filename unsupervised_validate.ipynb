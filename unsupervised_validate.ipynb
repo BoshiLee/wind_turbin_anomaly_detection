{
 "cells": [
  {
   "metadata": {
    "ExecuteTime": {
     "end_time": "2024-07-02T18:23:02.240108Z",
     "start_time": "2024-07-02T18:23:01.055160Z"
    }
   },
   "cell_type": "code",
   "source": [
    "import os\n",
    "import librosa\n",
    "from tqdm import tqdm\n",
    "import matplotlib.pyplot as plt\n",
    "import librosa.display\n",
    "import numpy as np\n",
    "from dotenv import load_dotenv"
   ],
   "id": "d4c0dea3230431ca",
   "outputs": [],
   "execution_count": 1
  },
  {
   "cell_type": "code",
   "source": [
    "# 指定 STFT 參數\n",
    "load_dotenv()\n",
    "sample_rate = int(os.getenv('sample_rate'))\n",
    "hop_length = int(os.getenv('hop_length'))\n",
    "n_mels = int(os.getenv('n_mels'))\n",
    "n_fft = int(os.getenv('n_fft'))\n",
    "threshold = float(os.getenv('threshold'))"
   ],
   "metadata": {
    "collapsed": false,
    "ExecuteTime": {
     "end_time": "2024-07-02T18:23:02.256124Z",
     "start_time": "2024-07-02T18:23:02.241562Z"
    }
   },
   "id": "cc8f75732226156a",
   "outputs": [],
   "execution_count": 2
  },
  {
   "metadata": {
    "ExecuteTime": {
     "end_time": "2024-07-02T18:23:02.272235Z",
     "start_time": "2024-07-02T18:23:02.257231Z"
    }
   },
   "cell_type": "code",
   "source": [
    "def load_segmented_files(directory):\n",
    "    wav_files = []\n",
    "    for file in tqdm(os.listdir(directory)):\n",
    "        if file.endswith(\".wav\"):\n",
    "            file_path = os.path.join(directory, file)\n",
    "            y, sr = librosa.load(file_path, sr=None)\n",
    "            target_sample_rate = sr\n",
    "            path = file.split(os.path.sep)\n",
    "            filename = f'{path[-1]}'\n",
    "            wav_files.append((y, filename))\n",
    "    return wav_files"
   ],
   "id": "eeae01705d9a71a1",
   "outputs": [],
   "execution_count": 3
  },
  {
   "metadata": {
    "ExecuteTime": {
     "end_time": "2024-07-02T18:23:03.156539Z",
     "start_time": "2024-07-02T18:23:02.274237Z"
    }
   },
   "cell_type": "code",
   "source": "loaded_files = load_segmented_files('output_anomaly')",
   "id": "63d5444cc5d18a35",
   "outputs": [
    {
     "name": "stderr",
     "output_type": "stream",
     "text": [
      "100%|██████████| 1675/1675 [00:00<00:00, 1936.27it/s]\n"
     ]
    }
   ],
   "execution_count": 4
  },
  {
   "metadata": {
    "ExecuteTime": {
     "end_time": "2024-07-02T18:23:03.171368Z",
     "start_time": "2024-07-02T18:23:03.157924Z"
    }
   },
   "cell_type": "code",
   "source": "print(loaded_files[0])",
   "id": "762452a386216ce4",
   "outputs": [
    {
     "name": "stdout",
     "output_type": "stream",
     "text": [
      "(array([-0.00973511, -0.0111084 , -0.01269531, ...,  0.02633667,\n",
      "        0.03839111,  0.03259277], dtype=float32), '34A-7-25-2-anomaly_Mic000_segment_0.wav')\n"
     ]
    }
   ],
   "execution_count": 5
  },
  {
   "metadata": {
    "ExecuteTime": {
     "end_time": "2024-07-02T18:23:03.187367Z",
     "start_time": "2024-07-02T18:23:03.172370Z"
    }
   },
   "cell_type": "code",
   "source": [
    "def convert_to_mel_spectrogram(audio, sr, n_fft, hop_length, n_mels):\n",
    "    mel_spectrogram = librosa.feature.melspectrogram(y=audio, sr=sr, n_fft=n_fft, hop_length=hop_length,\n",
    "                                                     n_mels=n_mels)\n",
    "    mel_spectrogram_db = librosa.power_to_db(mel_spectrogram, ref=np.max)\n",
    "    return mel_spectrogram_db"
   ],
   "id": "e8568b3ceacbc31a",
   "outputs": [],
   "execution_count": 6
  },
  {
   "metadata": {
    "ExecuteTime": {
     "end_time": "2024-07-02T18:23:07.166875Z",
     "start_time": "2024-07-02T18:23:03.188367Z"
    }
   },
   "cell_type": "code",
   "source": [
    "test_data = [convert_to_mel_spectrogram(audio[0], sample_rate, n_fft, hop_length, n_mels) for audio in\n",
    "                           tqdm(loaded_files[:500])]\n",
    "# 將梅爾頻譜圖轉換為numpy數組\n",
    "test_data = np.array(test_data)\n",
    "# 調整數據的形狀\n",
    "test_data = test_data.reshape(test_data.shape[0], test_data.shape[1], test_data.shape[2], 1)\n",
    "\n",
    "# 數據歸一化到 [0, 1]\n",
    "test_data = (test_data - test_data.min()) / (test_data.max() - test_data.min())\n",
    "\n",
    "print(test_data.shape)"
   ],
   "id": "fe10e40e512a8835",
   "outputs": [
    {
     "name": "stderr",
     "output_type": "stream",
     "text": [
      "100%|██████████| 500/500 [00:03<00:00, 129.78it/s]\n"
     ]
    },
    {
     "name": "stdout",
     "output_type": "stream",
     "text": [
      "(500, 64, 1034, 1)\n"
     ]
    }
   ],
   "execution_count": 7
  },
  {
   "metadata": {},
   "cell_type": "markdown",
   "source": [
    "# Load the trained autoencoder model"
   ],
   "id": "39bd709bb7dfe4cd"
  },
  {
   "metadata": {
    "ExecuteTime": {
     "end_time": "2024-07-02T18:23:10.360941Z",
     "start_time": "2024-07-02T18:23:07.167874Z"
    }
   },
   "cell_type": "code",
   "source": [
    "from tensorflow.keras.models import load_model\n",
    "\n",
    "import tensorflow as tf\n",
    "\n",
    "def combined_loss(y_true, y_pred):\n",
    "    mse_loss = tf.keras.losses.mean_squared_error(y_true, y_pred)\n",
    "    mae_loss = tf.keras.losses.mean_absolute_error(y_true, y_pred)\n",
    "    return mse_loss + mae_loss\n",
    "\n",
    "\n",
    "autoencoder = load_model('autoencoder.h5', custom_objects={'combined_loss': combined_loss})"
   ],
   "id": "9883beab255d35d8",
   "outputs": [],
   "execution_count": 8
  },
  {
   "metadata": {
    "ExecuteTime": {
     "end_time": "2024-07-02T18:23:10.408028Z",
     "start_time": "2024-07-02T18:23:10.362020Z"
    }
   },
   "cell_type": "code",
   "source": [
    "# 檢查模型結構\n",
    "autoencoder.summary()"
   ],
   "id": "1988a1684aaa7d87",
   "outputs": [
    {
     "name": "stdout",
     "output_type": "stream",
     "text": [
      "Model: \"model\"\n",
      "_________________________________________________________________\n",
      " Layer (type)                Output Shape              Param #   \n",
      "=================================================================\n",
      " input_1 (InputLayer)        [(None, 64, 1034, 1)]     0         \n",
      "                                                                 \n",
      " conv2d (Conv2D)             (None, 64, 1034, 64)      640       \n",
      "                                                                 \n",
      " max_pooling2d (MaxPooling2D  (None, 32, 517, 64)      0         \n",
      " )                                                               \n",
      "                                                                 \n",
      " conv2d_1 (Conv2D)           (None, 32, 517, 64)       36928     \n",
      "                                                                 \n",
      " max_pooling2d_1 (MaxPooling  (None, 16, 259, 64)      0         \n",
      " 2D)                                                             \n",
      "                                                                 \n",
      " conv2d_2 (Conv2D)           (None, 16, 259, 32)       18464     \n",
      "                                                                 \n",
      " max_pooling2d_2 (MaxPooling  (None, 8, 130, 32)       0         \n",
      " 2D)                                                             \n",
      "                                                                 \n",
      " conv2d_3 (Conv2D)           (None, 8, 130, 16)        4624      \n",
      "                                                                 \n",
      " max_pooling2d_3 (MaxPooling  (None, 4, 65, 16)        0         \n",
      " 2D)                                                             \n",
      "                                                                 \n",
      " flatten (Flatten)           (None, 4160)              0         \n",
      "                                                                 \n",
      " dense (Dense)               (None, 256)               1065216   \n",
      "                                                                 \n",
      " dense_1 (Dense)             (None, 128)               32896     \n",
      "                                                                 \n",
      " dense_2 (Dense)             (None, 256)               33024     \n",
      "                                                                 \n",
      " batch_normalization (BatchN  (None, 256)              1024      \n",
      " ormalization)                                                   \n",
      "                                                                 \n",
      " dense_3 (Dense)             (None, 4160)              1069120   \n",
      "                                                                 \n",
      " reshape (Reshape)           (None, 4, 65, 16)         0         \n",
      "                                                                 \n",
      " conv2d_4 (Conv2D)           (None, 4, 65, 16)         2320      \n",
      "                                                                 \n",
      " up_sampling2d (UpSampling2D  (None, 8, 130, 16)       0         \n",
      " )                                                               \n",
      "                                                                 \n",
      " conv2d_5 (Conv2D)           (None, 8, 130, 32)        4640      \n",
      "                                                                 \n",
      " up_sampling2d_1 (UpSampling  (None, 16, 260, 32)      0         \n",
      " 2D)                                                             \n",
      "                                                                 \n",
      " conv2d_6 (Conv2D)           (None, 16, 260, 64)       18496     \n",
      "                                                                 \n",
      " up_sampling2d_2 (UpSampling  (None, 32, 520, 64)      0         \n",
      " 2D)                                                             \n",
      "                                                                 \n",
      " conv2d_7 (Conv2D)           (None, 32, 520, 64)       36928     \n",
      "                                                                 \n",
      " up_sampling2d_3 (UpSampling  (None, 64, 1040, 64)     0         \n",
      " 2D)                                                             \n",
      "                                                                 \n",
      " conv2d_8 (Conv2D)           (None, 64, 1040, 1)       577       \n",
      "                                                                 \n",
      " lambda (Lambda)             (None, 64, 1034, 1)       0         \n",
      "                                                                 \n",
      "=================================================================\n",
      "Total params: 2,324,897\n",
      "Trainable params: 2,324,385\n",
      "Non-trainable params: 512\n",
      "_________________________________________________________________\n"
     ]
    }
   ],
   "execution_count": 9
  },
  {
   "metadata": {
    "ExecuteTime": {
     "end_time": "2024-07-02T18:23:13.572645Z",
     "start_time": "2024-07-02T18:23:10.411026Z"
    }
   },
   "cell_type": "code",
   "source": [
    "# 驗證異常數據\n",
    "reconstructed_test_data = autoencoder.predict(test_data)\n",
    "print(test_data.shape, reconstructed_test_data.shape)"
   ],
   "id": "45213c31e5402071",
   "outputs": [
    {
     "name": "stdout",
     "output_type": "stream",
     "text": [
      "16/16 [==============================] - 3s 41ms/step\n",
      "(500, 64, 1034, 1) (500, 64, 1034, 1)\n"
     ]
    }
   ],
   "execution_count": 10
  },
  {
   "metadata": {
    "ExecuteTime": {
     "end_time": "2024-07-02T18:23:13.587407Z",
     "start_time": "2024-07-02T18:23:13.573645Z"
    }
   },
   "cell_type": "code",
   "source": [
    "def calculate_reconstruction_error(original, reconstructed):\n",
    "    # 如果只有單個樣本，確保數據是 4D\n",
    "    if len(original.shape) == 3:\n",
    "        original = np.expand_dims(original, axis=0)\n",
    "        reconstructed = np.expand_dims(reconstructed, axis=0)\n",
    "    return np.mean(np.square(original - reconstructed), axis=(1, 2, 3))"
   ],
   "id": "405e9ba98d302d92",
   "outputs": [],
   "execution_count": 11
  },
  {
   "metadata": {
    "ExecuteTime": {
     "end_time": "2024-07-02T18:23:13.682608Z",
     "start_time": "2024-07-02T18:23:13.588407Z"
    }
   },
   "cell_type": "code",
   "source": [
    "test_reconstruction_errors = calculate_reconstruction_error(test_data, reconstructed_test_data)\n",
    "anomalies = test_reconstruction_errors > threshold\n",
    "normal = test_reconstruction_errors <= threshold\n",
    "print(f\"Number of anomalies detected: {np.sum(anomalies)}\")\n",
    "\n",
    "# 可視化一些異常樣本\n",
    "anomalous_data = test_data[anomalies]\n",
    "anomalous_reconstructed_data = reconstructed_test_data[anomalies]"
   ],
   "id": "9cdaca01721f981b",
   "outputs": [
    {
     "name": "stdout",
     "output_type": "stream",
     "text": [
      "Number of anomalies detected: 64\n"
     ]
    }
   ],
   "execution_count": 12
  },
  {
   "metadata": {
    "ExecuteTime": {
     "end_time": "2024-07-02T18:23:13.697921Z",
     "start_time": "2024-07-02T18:23:13.683607Z"
    }
   },
   "cell_type": "code",
   "source": [
    "def plot_comparison(input_mel_spectrogram, output_mel_spectrogram, input_title, output_title, threshold, loss, output_name='comparison', save_only=False):\n",
    "    plt.figure(figsize=(20, 5))\n",
    "    \n",
    "    # 繪製輸入梅爾頻譜圖\n",
    "    plt.subplot(1, 2, 1)\n",
    "    librosa.display.specshow(input_mel_spectrogram, x_axis='time', y_axis='mel', sr=sample_rate, hop_length=hop_length)\n",
    "    plt.colorbar(format='%+2.0f dB')\n",
    "    plt.title(input_title)\n",
    "    \n",
    "    # 繪製輸出梅爾頻譜圖\n",
    "    plt.subplot(1, 2, 2)\n",
    "    librosa.display.specshow(output_mel_spectrogram, x_axis='time', y_axis='mel', sr=sample_rate, hop_length=hop_length)\n",
    "    plt.colorbar(format='%+2.0f dB')\n",
    "    plt.title(output_title)\n",
    "    # plot mse if mse in red if mse > mse_threshold\n",
    "    plt.text(0, 0, f'loss: {loss}', fontsize=12, color='red' if loss > threshold else 'black', backgroundcolor='white')\n",
    "    \n",
    "    plt.tight_layout()\n",
    "    if save_only:\n",
    "        plt.savefig(f'{output_name}.png')\n",
    "        plt.close()\n",
    "    else:\n",
    "        plt.show()"
   ],
   "id": "4f5165505bb16b16",
   "outputs": [],
   "execution_count": 13
  },
  {
   "metadata": {
    "ExecuteTime": {
     "end_time": "2024-07-02T18:23:35.226325Z",
     "start_time": "2024-07-02T18:23:13.699924Z"
    }
   },
   "cell_type": "code",
   "source": [
    "anomalies_index = np.where(anomalies)[0]\n",
    "for i in anomalies_index:\n",
    "    loss = calculate_reconstruction_error(test_data[i], reconstructed_test_data[i])\n",
    "    plot_comparison(test_data[i].reshape(test_data[i].shape[0], test_data[i].shape[1]),\n",
    "                    reconstructed_test_data[i].reshape(reconstructed_test_data[i].shape[0], reconstructed_test_data[i].shape[1]),\n",
    "                    'Original Mel Spectrogram', 'Reconstructed Mel Spectrogram', threshold=threshold, loss=loss, output_name=f'images/reconstruct/{loaded_files[i][1]}', save_only=True)"
   ],
   "id": "894d98ecb73c0516",
   "outputs": [],
   "execution_count": 14
  },
  {
   "metadata": {
    "ExecuteTime": {
     "end_time": "2024-07-02T18:26:06.000698Z",
     "start_time": "2024-07-02T18:23:35.227256Z"
    }
   },
   "cell_type": "code",
   "source": [
    "normal_index = np.where(normal)[0]\n",
    "for i in normal_index:\n",
    "    loss = calculate_reconstruction_error(test_data[i], reconstructed_test_data[i])\n",
    "    plot_comparison(test_data[i].reshape(test_data[i].shape[0], test_data[i].shape[1]),\n",
    "                    reconstructed_test_data[i].reshape(reconstructed_test_data[i].shape[0], reconstructed_test_data[i].shape[1]),\n",
    "                    'Original Mel Spectrogram', 'Reconstructed Mel Spectrogram', threshold=threshold, loss=loss, output_name=f'images/reconstruct_normal/{loaded_files[i][1]}', save_only=True)"
   ],
   "id": "68f8bbdc76b94e36",
   "outputs": [],
   "execution_count": 15
  },
  {
   "metadata": {
    "ExecuteTime": {
     "end_time": "2024-07-02T18:26:06.251433Z",
     "start_time": "2024-07-02T18:26:06.001761Z"
    }
   },
   "cell_type": "code",
   "source": [
    "# plot anomalies scatter plot\n",
    "plt.figure(figsize=(20, 5))\n",
    "# use red color if mse > mse_threshold\n",
    "plt.scatter(range(0, len(test_reconstruction_errors)), test_reconstruction_errors, \n",
    "            color=['red' if loss > threshold else 'blue' for loss in test_reconstruction_errors])\n",
    "plt.axhline(y=threshold, color='r', linestyle='--')\n",
    "plt.title('MSE of Anomaly Data')\n",
    "plt.xlabel('Index')\n",
    "plt.xticks(range(0, len(test_reconstruction_errors), 20))\n",
    "plt.ylabel('MSE')\n",
    "plt.savefig('images/mse_anomaly.png')\n",
    "print(f'Failed reconstruction count is {len(anomalies_index)}, total test data is {len(test_data)}')\n",
    "print(f'Failed reconstruction rate is {len(anomalies_index) / len(test_data) * 100}%')\n"
   ],
   "id": "38101ed54dc9dd21",
   "outputs": [
    {
     "name": "stdout",
     "output_type": "stream",
     "text": [
      "Failed reconstruction count is 64, total test data is 500\n",
      "Failed reconstruction rate is 12.8%\n"
     ]
    },
    {
     "data": {
      "text/plain": [
       "<Figure size 2000x500 with 1 Axes>"
      ],
      "image/png": "[encoded data removed]"
     },
     "metadata": {},
     "output_type": "display_data"
    }
   ],
   "execution_count": 16
  },
  {
   "cell_type": "code",
   "source": [],
   "metadata": {
    "collapsed": false,
    "ExecuteTime": {
     "end_time": "2024-07-02T18:26:06.266988Z",
     "start_time": "2024-07-02T18:26:06.252466Z"
    }
   },
   "id": "276b1762d8d7f23",
   "outputs": [],
   "execution_count": 16
  }
 ],
 "metadata": {
  "kernelspec": {
   "display_name": "Python 3",
   "language": "python",
   "name": "python3"
  },
  "language_info": {
   "codemirror_mode": {
    "name": "ipython",
    "version": 2
   },
   "file_extension": ".py",
   "mimetype": "text/x-python",
   "name": "python",
   "nbconvert_exporter": "python",
   "pygments_lexer": "ipython2",
   "version": "2.7.6"
  }
 },
 "nbformat": 4,
 "nbformat_minor": 5
}
