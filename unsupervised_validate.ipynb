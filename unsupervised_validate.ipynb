{
 "cells": [
  {
   "metadata": {
    "ExecuteTime": {
     "end_time": "2024-08-26T04:05:44.471583Z",
     "start_time": "2024-08-26T04:05:39.043715Z"
    }
   },
   "cell_type": "code",
   "source": [
    "import os\n",
    "import librosa\n",
    "from tqdm import tqdm\n",
    "import matplotlib.pyplot as plt\n",
    "import librosa.display\n",
    "import numpy as np\n",
    "from dotenv import load_dotenv"
   ],
   "id": "d4c0dea3230431ca",
   "outputs": [],
   "execution_count": 1
  },
  {
   "cell_type": "code",
   "source": [
    "# 指定 STFT 參數\n",
    "load_dotenv()\n",
    "sample_rate = int(os.getenv('sample_rate'))\n",
    "hop_length = int(os.getenv('hop_length'))\n",
    "n_mels = int(os.getenv('n_mels'))\n",
    "n_fft = int(os.getenv('n_fft'))\n",
    "threshold = float(os.getenv('threshold'))"
   ],
   "metadata": {
    "collapsed": false,
    "ExecuteTime": {
     "end_time": "2024-08-26T04:05:59.030677Z",
     "start_time": "2024-08-26T04:05:59.013853Z"
    }
   },
   "id": "cc8f75732226156a",
   "outputs": [],
   "execution_count": 2
  },
  {
   "metadata": {
    "ExecuteTime": {
     "end_time": "2024-08-26T04:05:59.912701Z",
     "start_time": "2024-08-26T04:05:59.896706Z"
    }
   },
   "cell_type": "code",
   "source": [
    "def load_segmented_files(directory):\n",
    "    wav_files = []\n",
    "    for file in tqdm(os.listdir(directory)):\n",
    "        if file.endswith(\".wav\"):\n",
    "            file_path = os.path.join(directory, file)\n",
    "            y, sr = librosa.load(file_path, sr=None)\n",
    "            path = file.split(os.path.sep)\n",
    "            filename = f'{path[-1]}'\n",
    "            wav_files.append((y, filename))\n",
    "    return wav_files"
   ],
   "id": "eeae01705d9a71a1",
   "outputs": [],
   "execution_count": 3
  },
  {
   "metadata": {
    "ExecuteTime": {
     "end_time": "2024-08-26T04:06:01.302559Z",
     "start_time": "2024-08-26T04:06:00.661736Z"
    }
   },
   "cell_type": "code",
   "source": [
    "loaded_files = load_segmented_files('0809_sound')"
   ],
   "id": "63d5444cc5d18a35",
   "outputs": [
    {
     "name": "stderr",
     "output_type": "stream",
     "text": [
      "100%|██████████| 49/49 [00:00<00:00, 77.43it/s]\n"
     ]
    }
   ],
   "execution_count": 4
  },
  {
   "metadata": {
    "ExecuteTime": {
     "end_time": "2024-08-26T04:06:02.513511Z",
     "start_time": "2024-08-26T04:06:02.498499Z"
    }
   },
   "cell_type": "code",
   "source": [
    "print(loaded_files[0])"
   ],
   "id": "762452a386216ce4",
   "outputs": [
    {
     "name": "stdout",
     "output_type": "stream",
     "text": [
      "(array([ 3.0517578e-05,  1.2207031e-04,  2.7465820e-04, ...,\n",
      "       -2.7160645e-03, -2.9602051e-03, -3.0822754e-03], dtype=float32), '_2024-0809-a2-10_segment_0.wav')\n"
     ]
    }
   ],
   "execution_count": 5
  },
  {
   "metadata": {
    "ExecuteTime": {
     "end_time": "2024-08-26T04:06:05.750975Z",
     "start_time": "2024-08-26T04:06:05.744975Z"
    }
   },
   "cell_type": "code",
   "source": [
    "def convert_to_mel_spectrogram(audio, sr, n_fft, hop_length, n_mels):\n",
    "    mel_spectrogram = librosa.feature.melspectrogram(y=audio, sr=sr, n_fft=n_fft, hop_length=hop_length,\n",
    "                                                     n_mels=n_mels)\n",
    "    mel_spectrogram_db = librosa.power_to_db(mel_spectrogram, ref=np.max)\n",
    "    return mel_spectrogram_db"
   ],
   "id": "e8568b3ceacbc31a",
   "outputs": [],
   "execution_count": 6
  },
  {
   "metadata": {
    "ExecuteTime": {
     "end_time": "2024-08-26T04:06:08.066232Z",
     "start_time": "2024-08-26T04:06:07.592162Z"
    }
   },
   "cell_type": "code",
   "source": [
    "test_data = [convert_to_mel_spectrogram(audio[0], sample_rate, n_fft, hop_length, n_mels) for audio in\n",
    "                           tqdm(loaded_files[:500])]\n",
    "# 將梅爾頻譜圖轉換為numpy數組\n",
    "test_data = np.array(test_data)\n",
    "# 調整數據的形狀\n",
    "test_data = test_data.reshape(test_data.shape[0], test_data.shape[1], test_data.shape[2], 1)\n",
    "\n",
    "# 數據歸一化到 [0, 1]\n",
    "test_data = (test_data - test_data.min()) / (test_data.max() - test_data.min())\n",
    "\n",
    "print(test_data.shape)"
   ],
   "id": "fe10e40e512a8835",
   "outputs": [
    {
     "name": "stderr",
     "output_type": "stream",
     "text": [
      "100%|██████████| 48/48 [00:00<00:00, 106.77it/s]"
     ]
    },
    {
     "name": "stdout",
     "output_type": "stream",
     "text": [
      "(48, 64, 1034, 1)\n"
     ]
    },
    {
     "name": "stderr",
     "output_type": "stream",
     "text": [
      "\n"
     ]
    }
   ],
   "execution_count": 7
  },
  {
   "metadata": {},
   "cell_type": "markdown",
   "source": [
    "# Load the trained autoencoder model"
   ],
   "id": "39bd709bb7dfe4cd"
  },
  {
   "metadata": {
    "ExecuteTime": {
     "end_time": "2024-08-26T04:06:23.331189Z",
     "start_time": "2024-08-26T04:06:10.039298Z"
    }
   },
   "cell_type": "code",
   "source": [
    "from tensorflow.keras.models import load_model\n",
    "\n",
    "import tensorflow as tf\n",
    "\n",
    "def combined_loss(y_true, y_pred):\n",
    "    mse_loss = tf.keras.losses.mean_squared_error(y_true, y_pred)\n",
    "    mae_loss = tf.keras.losses.mean_absolute_error(y_true, y_pred)\n",
    "    return mse_loss + mae_loss\n",
    "\n",
    "\n",
    "autoencoder = load_model('autoencoder.h5', custom_objects={'combined_loss': combined_loss})"
   ],
   "id": "9883beab255d35d8",
   "outputs": [],
   "execution_count": 8
  },
  {
   "metadata": {
    "ExecuteTime": {
     "end_time": "2024-08-26T04:06:25.283197Z",
     "start_time": "2024-08-26T04:06:25.235934Z"
    }
   },
   "cell_type": "code",
   "source": [
    "# 檢查模型結構\n",
    "autoencoder.summary()"
   ],
   "id": "1988a1684aaa7d87",
   "outputs": [
    {
     "name": "stdout",
     "output_type": "stream",
     "text": [
      "Model: \"model\"\n",
      "_________________________________________________________________\n",
      " Layer (type)                Output Shape              Param #   \n",
      "=================================================================\n",
      " input_1 (InputLayer)        [(None, 64, 1034, 1)]     0         \n",
      "                                                                 \n",
      " conv2d (Conv2D)             (None, 64, 1034, 128)     1280      \n",
      "                                                                 \n",
      " max_pooling2d (MaxPooling2D  (None, 32, 517, 128)     0         \n",
      " )                                                               \n",
      "                                                                 \n",
      " conv2d_1 (Conv2D)           (None, 32, 517, 64)       73792     \n",
      "                                                                 \n",
      " max_pooling2d_1 (MaxPooling  (None, 16, 259, 64)      0         \n",
      " 2D)                                                             \n",
      "                                                                 \n",
      " conv2d_2 (Conv2D)           (None, 16, 259, 32)       18464     \n",
      "                                                                 \n",
      " max_pooling2d_2 (MaxPooling  (None, 8, 130, 32)       0         \n",
      " 2D)                                                             \n",
      "                                                                 \n",
      " conv2d_3 (Conv2D)           (None, 8, 130, 16)        4624      \n",
      "                                                                 \n",
      " max_pooling2d_3 (MaxPooling  (None, 4, 65, 16)        0         \n",
      " 2D)                                                             \n",
      "                                                                 \n",
      " flatten (Flatten)           (None, 4160)              0         \n",
      "                                                                 \n",
      " dense (Dense)               (None, 256)               1065216   \n",
      "                                                                 \n",
      " dense_1 (Dense)             (None, 128)               32896     \n",
      "                                                                 \n",
      " dense_2 (Dense)             (None, 256)               33024     \n",
      "                                                                 \n",
      " batch_normalization (BatchN  (None, 256)              1024      \n",
      " ormalization)                                                   \n",
      "                                                                 \n",
      " dense_3 (Dense)             (None, 4160)              1069120   \n",
      "                                                                 \n",
      " reshape (Reshape)           (None, 4, 65, 16)         0         \n",
      "                                                                 \n",
      " conv2d_4 (Conv2D)           (None, 4, 65, 16)         2320      \n",
      "                                                                 \n",
      " up_sampling2d (UpSampling2D  (None, 8, 130, 16)       0         \n",
      " )                                                               \n",
      "                                                                 \n",
      " conv2d_5 (Conv2D)           (None, 8, 130, 32)        4640      \n",
      "                                                                 \n",
      " up_sampling2d_1 (UpSampling  (None, 16, 260, 32)      0         \n",
      " 2D)                                                             \n",
      "                                                                 \n",
      " conv2d_6 (Conv2D)           (None, 16, 260, 64)       18496     \n",
      "                                                                 \n",
      " up_sampling2d_2 (UpSampling  (None, 32, 520, 64)      0         \n",
      " 2D)                                                             \n",
      "                                                                 \n",
      " conv2d_7 (Conv2D)           (None, 32, 520, 128)      73856     \n",
      "                                                                 \n",
      " up_sampling2d_3 (UpSampling  (None, 64, 1040, 128)    0         \n",
      " 2D)                                                             \n",
      "                                                                 \n",
      " conv2d_8 (Conv2D)           (None, 64, 1040, 1)       1153      \n",
      "                                                                 \n",
      " lambda (Lambda)             (None, 64, 1034, 1)       0         \n",
      "                                                                 \n",
      "=================================================================\n",
      "Total params: 2,399,905\n",
      "Trainable params: 2,399,393\n",
      "Non-trainable params: 512\n",
      "_________________________________________________________________\n"
     ]
    }
   ],
   "execution_count": 9
  },
  {
   "metadata": {
    "ExecuteTime": {
     "end_time": "2024-08-26T04:06:36.209063Z",
     "start_time": "2024-08-26T04:06:28.239222Z"
    }
   },
   "cell_type": "code",
   "source": [
    "# 驗證異常數據\n",
    "reconstructed_test_data = autoencoder.predict(test_data)\n",
    "print(test_data.shape, reconstructed_test_data.shape)"
   ],
   "id": "45213c31e5402071",
   "outputs": [
    {
     "name": "stdout",
     "output_type": "stream",
     "text": [
      "2/2 [==============================] - 8s 722ms/step\n",
      "(48, 64, 1034, 1) (48, 64, 1034, 1)\n"
     ]
    }
   ],
   "execution_count": 10
  },
  {
   "metadata": {
    "ExecuteTime": {
     "end_time": "2024-08-26T04:06:37.683509Z",
     "start_time": "2024-08-26T04:06:37.676508Z"
    }
   },
   "cell_type": "code",
   "source": [
    "def calculate_reconstruction_error(original, reconstructed):\n",
    "    # 如果只有單個樣本，確保數據是 4D\n",
    "    if len(original.shape) == 3:\n",
    "        original = np.expand_dims(original, axis=0)\n",
    "        reconstructed = np.expand_dims(reconstructed, axis=0)\n",
    "    return np.mean(np.square(original - reconstructed), axis=(1, 2, 3))"
   ],
   "id": "405e9ba98d302d92",
   "outputs": [],
   "execution_count": 11
  },
  {
   "metadata": {
    "ExecuteTime": {
     "end_time": "2024-08-26T04:06:40.124256Z",
     "start_time": "2024-08-26T04:06:40.088489Z"
    }
   },
   "cell_type": "code",
   "source": [
    "test_reconstruction_errors = calculate_reconstruction_error(test_data, reconstructed_test_data)\n",
    "anomalies = test_reconstruction_errors > threshold\n",
    "normal = test_reconstruction_errors <= threshold\n",
    "print(f\"Number of anomalies detected: {np.sum(anomalies)}\")\n",
    "\n",
    "# 可視化一些異常樣本\n",
    "anomalous_data = test_data[anomalies]\n",
    "anomalous_reconstructed_data = reconstructed_test_data[anomalies]"
   ],
   "id": "9cdaca01721f981b",
   "outputs": [
    {
     "name": "stdout",
     "output_type": "stream",
     "text": [
      "Number of anomalies detected: 48\n"
     ]
    }
   ],
   "execution_count": 12
  },
  {
   "metadata": {
    "ExecuteTime": {
     "end_time": "2024-08-26T04:06:42.912034Z",
     "start_time": "2024-08-26T04:06:42.902035Z"
    }
   },
   "cell_type": "code",
   "source": [
    "def plot_comparison(input_mel_spectrogram, output_mel_spectrogram, input_title, output_title, threshold, loss, output_name='comparison', save_only=False):\n",
    "    plt.figure(figsize=(20, 5))\n",
    "    \n",
    "    # 繪製輸入梅爾頻譜圖\n",
    "    plt.subplot(1, 2, 1)\n",
    "    librosa.display.specshow(input_mel_spectrogram, x_axis='time', y_axis='mel', sr=sample_rate, hop_length=hop_length)\n",
    "    plt.colorbar(format='%+2.0f dB')\n",
    "    plt.title(input_title)\n",
    "    \n",
    "    # 繪製輸出梅爾頻譜圖\n",
    "    plt.subplot(1, 2, 2)\n",
    "    librosa.display.specshow(output_mel_spectrogram, x_axis='time', y_axis='mel', sr=sample_rate, hop_length=hop_length)\n",
    "    plt.colorbar(format='%+2.0f dB')\n",
    "    plt.title(output_title)\n",
    "    # plot mse if mse in red if mse > mse_threshold\n",
    "    plt.text(0, 0, f'loss: {loss}', fontsize=12, color='red' if loss > threshold else 'black', backgroundcolor='white')\n",
    "    \n",
    "    plt.tight_layout()\n",
    "    if save_only:\n",
    "        plt.savefig(f'{output_name}.png')\n",
    "        plt.close()\n",
    "    else:\n",
    "        plt.show()"
   ],
   "id": "4f5165505bb16b16",
   "outputs": [],
   "execution_count": 13
  },
  {
   "metadata": {
    "ExecuteTime": {
     "end_time": "2024-08-26T04:07:01.677998Z",
     "start_time": "2024-08-26T04:06:43.949163Z"
    }
   },
   "cell_type": "code",
   "source": [
    "anomalies_index = np.where(anomalies)[0]\n",
    "for i in tqdm(anomalies_index):\n",
    "    loss = calculate_reconstruction_error(test_data[i], reconstructed_test_data[i])\n",
    "    plot_comparison(test_data[i].reshape(test_data[i].shape[0], test_data[i].shape[1]),\n",
    "                    reconstructed_test_data[i].reshape(reconstructed_test_data[i].shape[0], reconstructed_test_data[i].shape[1]),\n",
    "                    'Original Mel Spectrogram', 'Reconstructed Mel Spectrogram', threshold=threshold, loss=loss, output_name=f'images/reconstruct/{loaded_files[i][1]}', save_only=True)"
   ],
   "id": "894d98ecb73c0516",
   "outputs": [
    {
     "name": "stderr",
     "output_type": "stream",
     "text": [
      "100%|██████████| 48/48 [00:17<00:00,  2.71it/s]\n"
     ]
    }
   ],
   "execution_count": 14
  },
  {
   "metadata": {
    "ExecuteTime": {
     "end_time": "2024-07-17T08:19:17.993546Z",
     "start_time": "2024-07-17T08:19:05.216857Z"
    }
   },
   "cell_type": "code",
   "source": [
    "normal_index = np.where(normal)[0]\n",
    "for i in tqdm(normal_index):\n",
    "    loss = calculate_reconstruction_error(test_data[i], reconstructed_test_data[i])\n",
    "    plot_comparison(test_data[i].reshape(test_data[i].shape[0], test_data[i].shape[1]),\n",
    "                    reconstructed_test_data[i].reshape(reconstructed_test_data[i].shape[0], reconstructed_test_data[i].shape[1]),\n",
    "                    'Original Mel Spectrogram', 'Reconstructed Mel Spectrogram', threshold=threshold, loss=loss, output_name=f'images/reconstruct_normal/{loaded_files[i][1]}', save_only=True)"
   ],
   "id": "68f8bbdc76b94e36",
   "outputs": [
    {
     "name": "stderr",
     "output_type": "stream",
     "text": [
      "100%|██████████| 32/32 [00:12<00:00,  2.51it/s]\n"
     ]
    }
   ],
   "execution_count": 15
  },
  {
   "metadata": {
    "ExecuteTime": {
     "end_time": "2024-08-26T04:07:49.409167Z",
     "start_time": "2024-08-26T04:07:49.234570Z"
    }
   },
   "cell_type": "code",
   "source": [
    "# plot anomalies scatter plot\n",
    "plt.figure(figsize=(20, 5))\n",
    "# use red color if mse > mse_threshold\n",
    "plt.scatter(range(0, len(test_reconstruction_errors)), test_reconstruction_errors, \n",
    "            color=['red' if loss > threshold else 'blue' for loss in test_reconstruction_errors])\n",
    "plt.axhline(y=threshold, color='r', linestyle='--')\n",
    "plt.title('MSE of Anomaly Data')\n",
    "plt.xlabel('Index')\n",
    "plt.xticks(range(0, len(test_reconstruction_errors), 20))\n",
    "plt.ylabel('MSE')\n",
    "plt.savefig('images/mse_anomaly.png')\n",
    "print(f'Failed reconstruction count is {len(anomalies_index)}, total test data is {len(test_data)}')\n",
    "print(f'Failed reconstruction rate is {len(anomalies_index) / len(test_data) * 100}%')\n"
   ],
   "id": "38101ed54dc9dd21",
   "outputs": [
    {
     "name": "stdout",
     "output_type": "stream",
     "text": [
      "Failed reconstruction count is 48, total test data is 48\n",
      "Failed reconstruction rate is 100.0%\n"
     ]
    },
    {
     "data": {
      "text/plain": "<Figure size 2000x500 with 1 Axes>",
      "image/png": "[encoded data removed]"
     },
     "metadata": {},
     "output_type": "display_data"
    }
   ],
   "execution_count": 15
  },
  {
   "cell_type": "code",
   "source": [],
   "metadata": {
    "collapsed": false,
    "ExecuteTime": {
     "end_time": "2024-07-17T08:19:18.596090Z",
     "start_time": "2024-07-17T08:19:18.583391Z"
    }
   },
   "id": "276b1762d8d7f23",
   "outputs": [],
   "execution_count": 16
  }
 ],
 "metadata": {
  "kernelspec": {
   "display_name": "Python 3",
   "language": "python",
   "name": "python3"
  },
  "language_info": {
   "codemirror_mode": {
    "name": "ipython",
    "version": 2
   },
   "file_extension": ".py",
   "mimetype": "text/x-python",
   "name": "python",
   "nbconvert_exporter": "python",
   "pygments_lexer": "ipython2",
   "version": "2.7.6"
  }
 },
 "nbformat": 4,
 "nbformat_minor": 5
}
