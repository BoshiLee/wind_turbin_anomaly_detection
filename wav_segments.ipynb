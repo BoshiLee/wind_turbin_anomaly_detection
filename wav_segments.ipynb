{
 "cells": [
  {
   "cell_type": "code",
   "outputs": [],
   "source": [
    "import librosa\n",
    "from tqdm import tqdm\n",
    "import numpy as np\n",
    "from scipy.signal import find_peaks\n",
    "import os\n",
    "import soundfile as sf\n",
    "import librosa.display"
   ],
   "metadata": {
    "collapsed": false,
    "ExecuteTime": {
     "end_time": "2024-06-27T01:28:11.090555Z",
     "start_time": "2024-06-27T01:28:04.509650Z"
    }
   },
   "id": "6e498da3e414640c",
   "execution_count": 1
  },
  {
   "cell_type": "code",
   "execution_count": 2,
   "id": "initial_id",
   "metadata": {
    "collapsed": true,
    "ExecuteTime": {
     "end_time": "2024-06-27T01:28:11.731683Z",
     "start_time": "2024-06-27T01:28:11.708685Z"
    }
   },
   "outputs": [],
   "source": [
    "def normalize_audio(wav):\n",
    "    # 標準化音頻信號\n",
    "    return wav / np.max(np.abs(wav))\n",
    "\n",
    "def amplify_audio(wav, factor):\n",
    "    # 放大音頻信號\n",
    "    return wav * factor\n",
    "\n",
    "def trim_audio(wav, sr, trim_duration=0.5):\n",
    "    # 移除前後 trim_duration 秒\n",
    "    trim_samples = int(trim_duration * sr)\n",
    "    if len(wav) > 2 * trim_samples:\n",
    "        return wav[trim_samples:-trim_samples]\n",
    "    else:\n",
    "        return wav  # 如果音頻長度不足以移除前後 trim_duration 秒，則不進行裁剪\n",
    "\n",
    "def load_wav_files(directory, target_sr=16000, amplification_factor=80, trim_duration=1):\n",
    "    wav_files = []\n",
    "    for root, dirs, files in os.walk(directory):\n",
    "        with tqdm(total=len(files), desc='Loading files', unit='file') as pbar:\n",
    "            for file in files:\n",
    "                if file.endswith(\".wav\") and file != 'all_channel.wav':\n",
    "                    file_path = os.path.join(root, file)\n",
    "                    y, sr = librosa.load(file_path, sr=None)\n",
    "                    if sr != target_sr:\n",
    "                        y = librosa.resample(y, orig_sr=sr, target_sr=target_sr)\n",
    "                    \n",
    "                    y = trim_audio(y, sr=target_sr, trim_duration=trim_duration)\n",
    "                    y = amplify_audio(y, amplification_factor)\n",
    "                    y = normalize_audio(y)\n",
    "                    \n",
    "                    # remove wav_directory from root\n",
    "                    path = root.split(os.path.sep)\n",
    "                    filename = f'{path[1]}_{file}'\n",
    "                    pbar.set_postfix(file=filename,)\n",
    "                    wav_files.append((y, filename))\n",
    "                pbar.update(1)\n",
    "    return wav_files"
   ]
  },
  {
   "cell_type": "code",
   "outputs": [
    {
     "name": "stderr",
     "output_type": "stream",
     "text": [
      "Loading files: 0file [00:00, ?file/s]\n",
      "Loading files: 100%|██████████| 20/20 [00:11<00:00,  1.78file/s, file=anomaly-0615-02-09_02-09-20.wav]\n",
      "Loading files: 100%|██████████| 20/20 [00:08<00:00,  2.33file/s, file=anomaly-0616-01-XX_01-XX-20.wav]\n",
      "Loading files: 100%|██████████| 20/20 [00:08<00:00,  2.46file/s, file=anomaly-0616-02-24_02-24-20.wav]\n",
      "Loading files: 100%|██████████| 20/20 [00:07<00:00,  2.66file/s, file=anomaly-0616-03-XX_03-XX-20.wav]\n",
      "Loading files: 100%|██████████| 9/9 [00:03<00:00,  2.73file/s, file=anomaly-08-15_08-15-09.wav]\n",
      "Loading files: 100%|██████████| 10/10 [00:03<00:00,  2.63file/s, file=anomaly-09-16_09-16-10.wav]\n",
      "Loading files: 100%|██████████| 10/10 [00:02<00:00,  3.85file/s, file=anomaly-wang-kong-08_9.wav]\n",
      "Loading files: 100%|██████████| 10/10 [00:02<00:00,  3.84file/s, file=anomaly-wang-kong-09_9.wav]\n",
      "Loading files: 100%|██████████| 21/21 [00:08<00:00,  2.46file/s, file=normal-0615-XX-18_XX-18-21.wav]\n",
      "Loading files: 100%|██████████| 20/20 [00:08<00:00,  2.49file/s, file=normal-0616-XX-04_XX-04-20.wav]\n",
      "Loading files: 100%|██████████| 20/20 [00:07<00:00,  2.61file/s, file=normal-0616-XX-08-1_XX-08-1-20.wav]\n",
      "Loading files: 100%|██████████| 20/20 [00:08<00:00,  2.35file/s, file=normal-0616-XX-22a_XX-22a-20.wav]\n",
      "Loading files: 100%|██████████| 10/10 [00:03<00:00,  2.59file/s, file=normal-10-17_10-17-10.wav]\n",
      "Loading files: 100%|██████████| 10/10 [00:03<00:00,  2.68file/s, file=normal-11-18_11-18-10.wav]\n",
      "Loading files: 100%|██████████| 10/10 [00:02<00:00,  3.97file/s, file=normal-wang-kong-10_9.wav]\n",
      "Loading files: 100%|██████████| 11/11 [00:04<00:00,  2.64file/s, file=normal-XX-10_XX-10-11.wav]\n",
      "Loading files: 0file [00:00, ?file/s]\n",
      "Loading files:  42%|████▏     | 48/113 [00:24<00:33,  1.96file/s, file=anomaly-34A-7-10-2_Mic046.wav]C:\\Users\\User\\AppData\\Local\\Temp\\ipykernel_17584\\100115968.py:3: RuntimeWarning: invalid value encountered in divide\n",
      "  return wav / np.max(np.abs(wav))\n",
      "Loading files: 100%|██████████| 113/113 [00:58<00:00,  1.94file/s, file=anomaly-34A-7-10-2_Mic111.wav]\n",
      "Loading files: 100%|██████████| 113/113 [00:58<00:00,  1.92file/s, file=anomaly-34A-7-25-2_Mic111.wav]\n",
      "Loading files: 100%|██████████| 114/114 [00:58<00:00,  1.96file/s, file=anomaly-34A-8-10-2_Mic111.wav]\n",
      "Loading files:  51%|█████▏    | 58/113 [00:30<00:29,  1.85file/s, file=anomaly-34A-8-25-2_Mic056.wav]"
     ]
    }
   ],
   "source": [
    "target_sample_rate = 44100\n",
    "\n",
    "# 指定存放 WAV 檔案的根目錄\n",
    "loaded_files = load_wav_files('one_microphone', target_sr=target_sample_rate, amplification_factor=80, trim_duration=1)\n",
    "loaded_files += load_wav_files('soundcam_dataset', target_sr=target_sample_rate, amplification_factor=80, trim_duration=1)"
   ],
   "metadata": {
    "collapsed": false,
    "is_executing": true,
    "ExecuteTime": {
     "start_time": "2024-06-27T01:28:15.337627Z"
    }
   },
   "id": "2ca1b1c06b0d0280",
   "execution_count": null
  },
  {
   "cell_type": "code",
   "outputs": [],
   "source": [
    "def segment(wav_file, duration):\n",
    "    "
   ],
   "metadata": {
    "collapsed": false
   },
   "id": "353209cebb1e4e4f"
  },
  {
   "cell_type": "code",
   "outputs": [],
   "source": [
    "def peak_detection(wav, n_fft=None, hop_length=None, height=None, distance=None, prominence=None, width=None, verbose=False):\n",
    "    window = np.hamming(len(wav))\n",
    "    wav = wav * window\n",
    "    \n",
    "    # 計算短時傅立葉變換 (STFT)\n",
    "    stft = librosa.stft(wav, n_fft=n_fft, hop_length=hop_length)\n",
    "    spectrogram = librosa.amplitude_to_db(np.abs(stft), ref=np.max)\n",
    "    \n",
    "    # 計算頻譜圖的列均值\n",
    "    mean_spectrogram = spectrogram.mean(axis=0)\n",
    "    \n",
    "    # 使用 scipy.signal.find_peaks 檢測峰值\n",
    "    peaks, properties = find_peaks(mean_spectrogram, height=height, distance=distance, prominence=prominence, width=width)\n",
    "    if verbose:\n",
    "        print(f'Peaks detected: {len(peaks)}')\n",
    "    return peaks, mean_spectrogram"
   ],
   "metadata": {
    "collapsed": false,
    "ExecuteTime": {
     "end_time": "2024-06-20T07:23:44.947161Z",
     "start_time": "2024-06-20T07:23:44.930122Z"
    }
   },
   "id": "25b57484086f19bf",
   "execution_count": 8
  },
  {
   "cell_type": "code",
   "outputs": [],
   "source": [
    "def segment_audio_in_time(wav_file, sr=None, segment_length=2, verbose=False):\n",
    "    \"\"\"\n",
    "    Segment audio into clips of a specified length.\n",
    "\n",
    "    :param wav_file: Tuple containing the audio time series and file name\n",
    "    :param sr: Sample rate\n",
    "    :param segment_length: The desired length of each audio segment in seconds (default: 2)\n",
    "    :param verbose: Print additional information (default: False)\n",
    "    :return: A list of audio segments\n",
    "    \"\"\"\n",
    "    # 載入音訊數據\n",
    "    y, name = wav_file\n",
    "    if sr is None:\n",
    "        sr = librosa.get_samplerate(name)\n",
    "        y, _ = librosa.load(name, sr=sr)\n",
    "    \n",
    "    # 計算每個片段的樣本數\n",
    "    segment_samples = int(segment_length * sr)\n",
    "    \n",
    "    # 切割音訊，每個片段長度固定為 segment_length 秒\n",
    "    segments = []\n",
    "    for start in range(0, len(y), segment_samples):\n",
    "        end = start + segment_samples\n",
    "        segment = y[start:end]\n",
    "        \n",
    "        # 如果片段長度不足 segment_length 秒，則補零\n",
    "        if len(segment) < segment_samples:\n",
    "            segment = np.pad(segment, (0, segment_samples - len(segment)), mode='constant')\n",
    "        \n",
    "        segments.append(segment)\n",
    "    \n",
    "    if verbose:\n",
    "        print(f\"Segmented audio into {len(segments)} clips of {segment_length} seconds each.\")\n",
    "    \n",
    "    return segments"
   ],
   "metadata": {
    "collapsed": false
   },
   "id": "a6b573c0320ff203"
  },
  {
   "cell_type": "code",
   "outputs": [],
   "source": [
    "def segment_audio(wav_file, sr=None, segment_length=None, hop_length=None, n_fft=None, height=None, distance=None, prominence=None, width=None, verbose=False):\n",
    "    \"\"\"\n",
    "    Segment audio into clips based on onset detection.\n",
    "\n",
    "    :param wav_file: Audio time series and file name tuple\n",
    "    :param sr: Sample rate\n",
    "    :param segment_length: The desired length of each audio segment in seconds (default: 2)\n",
    "    :param hop_length: Number of samples between successive frames (default: 512)\n",
    "    :param n_fft: Length of the FFT window (default: 2048)\n",
    "    :param height: Required height of peaks (default: None)\n",
    "    :param distance: Required minimal horizontal distance (in samples) between neighbouring peaks (default: None)\n",
    "    :param prominence: Required prominence of peaks (default: None)\n",
    "    :param width: Required width of peaks (default: None)\n",
    "    :param verbose: Print additional information (default: False)\n",
    "    :return: A tuple containing a list of audio segments and the sample rate (segments, sr)\n",
    "    \"\"\"\n",
    "    # 載入音訊數據\n",
    "    y, name = wav_file\n",
    "    \n",
    "    peaks, _ = peak_detection(y, n_fft=n_fft, hop_length=hop_length, height=height, distance=distance, prominence=prominence, width=width, verbose=verbose)\n",
    "    \n",
    "    # 將峰值位置轉換為時間戳\n",
    "    peak_times = librosa.frames_to_time(peaks, sr=sr, hop_length=hop_length, n_fft=n_fft)\n",
    "    \n",
    "    # 切割音訊,每個片段長度固定為 segment_length 秒\n",
    "    segments = []\n",
    "    for peak_time in peak_times:\n",
    "        # 根據 peak_time 和 segment_length 計算起始和結束時間\n",
    "        start_time = max(0, peak_time - segment_length / 2)\n",
    "        end_time = min(peak_time + segment_length / 2, len(y) / sr)\n",
    "        \n",
    "        start_sample = int(start_time * sr)\n",
    "        end_sample = int(end_time * sr)\n",
    "        segment = y[start_sample:end_sample]\n",
    "        \n",
    "        # 如果片段長度不足 segment_length 秒,則補零\n",
    "        if len(segment) < segment_length * sr:\n",
    "            padding_length = int(segment_length * sr) - len(segment)\n",
    "            segment = np.pad(segment, (0, padding_length), mode='constant')\n",
    "        \n",
    "        segments.append(segment)\n",
    "    \n",
    "    return segments"
   ],
   "metadata": {
    "collapsed": false,
    "ExecuteTime": {
     "end_time": "2024-06-20T07:23:55.989159Z",
     "start_time": "2024-06-20T07:23:55.976159Z"
    }
   },
   "id": "6429d3e171b12f61",
   "execution_count": 9
  },
  {
   "cell_type": "code",
   "outputs": [],
   "source": [
    "output_dir = \"segmented_audio\"\n",
    "output_anomaly_dir = \"segmented_audio_anomaly\"\n",
    "def segment_files_and_save(files, sr, segment_length=None, hop_length=None, n_fft=None, height=None, distance=None, prominence=None, width=None):\n",
    "    \"\"\"\n",
    "    :param files: List of audio time series and file name tuples\n",
    "    :param sr: Sample rate\n",
    "    :param segment_length: The desired length of each audio segment in seconds (default: 2)\n",
    "    :param hop_length: Number of samples between successive frames (default: 512)\n",
    "    :param n_fft: Length of the FFT window (default: 2048)\n",
    "    :param height: Required height of peaks (default: None)\n",
    "    :param distance: Required minimal horizontal distance (in samples) between neighbouring peaks (default: None)\n",
    "    :param prominence: Required prominence of peaks (default: None)\n",
    "    :param width: Required width of peaks (default: None)\n",
    "    :return: A tuple containing a list of audio segments and the sample rate (segments, sr)\n",
    "    \"\"\"\n",
    "    if not os.path.exists(output_dir):\n",
    "        os.makedirs(output_dir)\n",
    "    \n",
    "    total_files = len(files)\n",
    "    with tqdm(total=total_files, desc='Processing files', unit='file') as pbar:\n",
    "        for i, wav in enumerate(files):\n",
    "            segments = segment_audio(wav, sr=sr, segment_length=segment_length, hop_length=hop_length, n_fft=n_fft, height=height, distance=distance, prominence=prominence, width=width, verbose=False)\n",
    "            main_file_name = wav[1].split('.')[0]\n",
    "            pbar.set_postfix(file=f'{wav[1]}/{total_files}', segments=len(segments))\n",
    "            for j, segment in enumerate(segments):\n",
    "                file_name = f'{main_file_name}_segment_{j}.wav'\n",
    "                if 'anomaly' in wav[1]:\n",
    "                    sf.write(f'{output_anomaly_dir}/{file_name}', segment, target_sample_rate)\n",
    "                else:\n",
    "                    sf.write(f'{output_dir}/{file_name}', segment, target_sample_rate)\n",
    "            pbar.update(1)"
   ],
   "metadata": {
    "collapsed": false,
    "ExecuteTime": {
     "end_time": "2024-06-20T07:22:11.668266Z",
     "start_time": "2024-06-20T07:22:11.653810Z"
    }
   },
   "id": "507dd990810ee0f6",
   "execution_count": 6
  },
  {
   "cell_type": "code",
   "outputs": [
    {
     "name": "stderr",
     "output_type": "stream",
     "text": [
      "Processing files:  17%|█▋        | 127/752 [00:14<01:10,  8.90file/s, file=34A-12-10-2_Mic046.wav/752, segments=19]   \n"
     ]
    },
    {
     "ename": "ParameterError",
     "evalue": "Audio buffer is not finite everywhere",
     "output_type": "error",
     "traceback": [
      "\u001B[1;31m---------------------------------------------------------------------------\u001B[0m",
      "\u001B[1;31mParameterError\u001B[0m                            Traceback (most recent call last)",
      "Cell \u001B[1;32mIn[10], line 8\u001B[0m\n\u001B[0;32m      6\u001B[0m width\u001B[38;5;241m=\u001B[39m\u001B[38;5;241m5\u001B[39m\n\u001B[0;32m      7\u001B[0m segment_length\u001B[38;5;241m=\u001B[39m\u001B[38;5;241m2\u001B[39m\n\u001B[1;32m----> 8\u001B[0m \u001B[43msegment_files_and_save\u001B[49m\u001B[43m(\u001B[49m\u001B[43mfiles\u001B[49m\u001B[38;5;241;43m=\u001B[39;49m\u001B[43mloaded_files\u001B[49m\u001B[43m,\u001B[49m\u001B[43m \u001B[49m\u001B[43msr\u001B[49m\u001B[38;5;241;43m=\u001B[39;49m\u001B[43mtarget_sample_rate\u001B[49m\u001B[43m,\u001B[49m\u001B[43m \u001B[49m\u001B[43msegment_length\u001B[49m\u001B[38;5;241;43m=\u001B[39;49m\u001B[43msegment_length\u001B[49m\u001B[43m,\u001B[49m\u001B[43m \u001B[49m\u001B[43mhop_length\u001B[49m\u001B[38;5;241;43m=\u001B[39;49m\u001B[43mhop_length\u001B[49m\u001B[43m,\u001B[49m\u001B[43m \u001B[49m\u001B[43mn_fft\u001B[49m\u001B[38;5;241;43m=\u001B[39;49m\u001B[43mn_fft\u001B[49m\u001B[43m,\u001B[49m\u001B[43m \u001B[49m\u001B[43mheight\u001B[49m\u001B[38;5;241;43m=\u001B[39;49m\u001B[43mheight\u001B[49m\u001B[43m,\u001B[49m\u001B[43m \u001B[49m\u001B[43mdistance\u001B[49m\u001B[38;5;241;43m=\u001B[39;49m\u001B[43mdistance\u001B[49m\u001B[43m,\u001B[49m\u001B[43m \u001B[49m\u001B[43mprominence\u001B[49m\u001B[38;5;241;43m=\u001B[39;49m\u001B[43mprominence\u001B[49m\u001B[43m,\u001B[49m\u001B[43m \u001B[49m\u001B[43mwidth\u001B[49m\u001B[38;5;241;43m=\u001B[39;49m\u001B[43mwidth\u001B[49m\u001B[43m)\u001B[49m\n",
      "Cell \u001B[1;32mIn[6], line 21\u001B[0m, in \u001B[0;36msegment_files_and_save\u001B[1;34m(files, sr, segment_length, hop_length, n_fft, height, distance, prominence, width)\u001B[0m\n\u001B[0;32m     19\u001B[0m \u001B[38;5;28;01mwith\u001B[39;00m tqdm(total\u001B[38;5;241m=\u001B[39mtotal_files, desc\u001B[38;5;241m=\u001B[39m\u001B[38;5;124m'\u001B[39m\u001B[38;5;124mProcessing files\u001B[39m\u001B[38;5;124m'\u001B[39m, unit\u001B[38;5;241m=\u001B[39m\u001B[38;5;124m'\u001B[39m\u001B[38;5;124mfile\u001B[39m\u001B[38;5;124m'\u001B[39m) \u001B[38;5;28;01mas\u001B[39;00m pbar:\n\u001B[0;32m     20\u001B[0m     \u001B[38;5;28;01mfor\u001B[39;00m i, wav \u001B[38;5;129;01min\u001B[39;00m \u001B[38;5;28menumerate\u001B[39m(files):\n\u001B[1;32m---> 21\u001B[0m         segments \u001B[38;5;241m=\u001B[39m \u001B[43msegment_audio\u001B[49m\u001B[43m(\u001B[49m\u001B[43mwav\u001B[49m\u001B[43m,\u001B[49m\u001B[43m \u001B[49m\u001B[43msr\u001B[49m\u001B[38;5;241;43m=\u001B[39;49m\u001B[43msr\u001B[49m\u001B[43m,\u001B[49m\u001B[43m \u001B[49m\u001B[43msegment_length\u001B[49m\u001B[38;5;241;43m=\u001B[39;49m\u001B[43msegment_length\u001B[49m\u001B[43m,\u001B[49m\u001B[43m \u001B[49m\u001B[43mhop_length\u001B[49m\u001B[38;5;241;43m=\u001B[39;49m\u001B[43mhop_length\u001B[49m\u001B[43m,\u001B[49m\u001B[43m \u001B[49m\u001B[43mn_fft\u001B[49m\u001B[38;5;241;43m=\u001B[39;49m\u001B[43mn_fft\u001B[49m\u001B[43m,\u001B[49m\u001B[43m \u001B[49m\u001B[43mheight\u001B[49m\u001B[38;5;241;43m=\u001B[39;49m\u001B[43mheight\u001B[49m\u001B[43m,\u001B[49m\u001B[43m \u001B[49m\u001B[43mdistance\u001B[49m\u001B[38;5;241;43m=\u001B[39;49m\u001B[43mdistance\u001B[49m\u001B[43m,\u001B[49m\u001B[43m \u001B[49m\u001B[43mprominence\u001B[49m\u001B[38;5;241;43m=\u001B[39;49m\u001B[43mprominence\u001B[49m\u001B[43m,\u001B[49m\u001B[43m \u001B[49m\u001B[43mwidth\u001B[49m\u001B[38;5;241;43m=\u001B[39;49m\u001B[43mwidth\u001B[49m\u001B[43m,\u001B[49m\u001B[43m \u001B[49m\u001B[43mverbose\u001B[49m\u001B[38;5;241;43m=\u001B[39;49m\u001B[38;5;28;43;01mFalse\u001B[39;49;00m\u001B[43m)\u001B[49m\n\u001B[0;32m     22\u001B[0m         main_file_name \u001B[38;5;241m=\u001B[39m wav[\u001B[38;5;241m1\u001B[39m]\u001B[38;5;241m.\u001B[39msplit(\u001B[38;5;124m'\u001B[39m\u001B[38;5;124m.\u001B[39m\u001B[38;5;124m'\u001B[39m)[\u001B[38;5;241m0\u001B[39m]\n\u001B[0;32m     23\u001B[0m         pbar\u001B[38;5;241m.\u001B[39mset_postfix(file\u001B[38;5;241m=\u001B[39m\u001B[38;5;124mf\u001B[39m\u001B[38;5;124m'\u001B[39m\u001B[38;5;132;01m{\u001B[39;00mwav[\u001B[38;5;241m1\u001B[39m]\u001B[38;5;132;01m}\u001B[39;00m\u001B[38;5;124m/\u001B[39m\u001B[38;5;132;01m{\u001B[39;00mtotal_files\u001B[38;5;132;01m}\u001B[39;00m\u001B[38;5;124m'\u001B[39m, segments\u001B[38;5;241m=\u001B[39m\u001B[38;5;28mlen\u001B[39m(segments))\n",
      "Cell \u001B[1;32mIn[9], line 20\u001B[0m, in \u001B[0;36msegment_audio\u001B[1;34m(wav_file, sr, segment_length, hop_length, n_fft, height, distance, prominence, width, verbose)\u001B[0m\n\u001B[0;32m     17\u001B[0m \u001B[38;5;66;03m# 載入音訊數據\u001B[39;00m\n\u001B[0;32m     18\u001B[0m y, name \u001B[38;5;241m=\u001B[39m wav_file\n\u001B[1;32m---> 20\u001B[0m peaks, _ \u001B[38;5;241m=\u001B[39m \u001B[43mpeak_detection\u001B[49m\u001B[43m(\u001B[49m\u001B[43my\u001B[49m\u001B[43m,\u001B[49m\u001B[43m \u001B[49m\u001B[43mn_fft\u001B[49m\u001B[38;5;241;43m=\u001B[39;49m\u001B[43mn_fft\u001B[49m\u001B[43m,\u001B[49m\u001B[43m \u001B[49m\u001B[43mhop_length\u001B[49m\u001B[38;5;241;43m=\u001B[39;49m\u001B[43mhop_length\u001B[49m\u001B[43m,\u001B[49m\u001B[43m \u001B[49m\u001B[43mheight\u001B[49m\u001B[38;5;241;43m=\u001B[39;49m\u001B[43mheight\u001B[49m\u001B[43m,\u001B[49m\u001B[43m \u001B[49m\u001B[43mdistance\u001B[49m\u001B[38;5;241;43m=\u001B[39;49m\u001B[43mdistance\u001B[49m\u001B[43m,\u001B[49m\u001B[43m \u001B[49m\u001B[43mprominence\u001B[49m\u001B[38;5;241;43m=\u001B[39;49m\u001B[43mprominence\u001B[49m\u001B[43m,\u001B[49m\u001B[43m \u001B[49m\u001B[43mwidth\u001B[49m\u001B[38;5;241;43m=\u001B[39;49m\u001B[43mwidth\u001B[49m\u001B[43m,\u001B[49m\u001B[43m \u001B[49m\u001B[43mverbose\u001B[49m\u001B[38;5;241;43m=\u001B[39;49m\u001B[43mverbose\u001B[49m\u001B[43m)\u001B[49m\n\u001B[0;32m     22\u001B[0m \u001B[38;5;66;03m# 將峰值位置轉換為時間戳\u001B[39;00m\n\u001B[0;32m     23\u001B[0m peak_times \u001B[38;5;241m=\u001B[39m librosa\u001B[38;5;241m.\u001B[39mframes_to_time(peaks, sr\u001B[38;5;241m=\u001B[39msr, hop_length\u001B[38;5;241m=\u001B[39mhop_length, n_fft\u001B[38;5;241m=\u001B[39mn_fft)\n",
      "Cell \u001B[1;32mIn[8], line 6\u001B[0m, in \u001B[0;36mpeak_detection\u001B[1;34m(wav, n_fft, hop_length, height, distance, prominence, width, verbose)\u001B[0m\n\u001B[0;32m      3\u001B[0m wav \u001B[38;5;241m=\u001B[39m wav \u001B[38;5;241m*\u001B[39m window\n\u001B[0;32m      5\u001B[0m \u001B[38;5;66;03m# 計算短時傅立葉變換 (STFT)\u001B[39;00m\n\u001B[1;32m----> 6\u001B[0m stft \u001B[38;5;241m=\u001B[39m \u001B[43mlibrosa\u001B[49m\u001B[38;5;241;43m.\u001B[39;49m\u001B[43mstft\u001B[49m\u001B[43m(\u001B[49m\u001B[43mwav\u001B[49m\u001B[43m,\u001B[49m\u001B[43m \u001B[49m\u001B[43mn_fft\u001B[49m\u001B[38;5;241;43m=\u001B[39;49m\u001B[43mn_fft\u001B[49m\u001B[43m,\u001B[49m\u001B[43m \u001B[49m\u001B[43mhop_length\u001B[49m\u001B[38;5;241;43m=\u001B[39;49m\u001B[43mhop_length\u001B[49m\u001B[43m)\u001B[49m\n\u001B[0;32m      7\u001B[0m spectrogram \u001B[38;5;241m=\u001B[39m librosa\u001B[38;5;241m.\u001B[39mamplitude_to_db(np\u001B[38;5;241m.\u001B[39mabs(stft), ref\u001B[38;5;241m=\u001B[39mnp\u001B[38;5;241m.\u001B[39mmax)\n\u001B[0;32m      9\u001B[0m \u001B[38;5;66;03m# 計算頻譜圖的列均值\u001B[39;00m\n",
      "File \u001B[1;32m~\\miniconda3\\envs\\wind_turbine\\lib\\site-packages\\librosa\\util\\decorators.py:88\u001B[0m, in \u001B[0;36mdeprecate_positional_args.<locals>._inner_deprecate_positional_args.<locals>.inner_f\u001B[1;34m(*args, **kwargs)\u001B[0m\n\u001B[0;32m     86\u001B[0m extra_args \u001B[38;5;241m=\u001B[39m \u001B[38;5;28mlen\u001B[39m(args) \u001B[38;5;241m-\u001B[39m \u001B[38;5;28mlen\u001B[39m(all_args)\n\u001B[0;32m     87\u001B[0m \u001B[38;5;28;01mif\u001B[39;00m extra_args \u001B[38;5;241m<\u001B[39m\u001B[38;5;241m=\u001B[39m \u001B[38;5;241m0\u001B[39m:\n\u001B[1;32m---> 88\u001B[0m     \u001B[38;5;28;01mreturn\u001B[39;00m f(\u001B[38;5;241m*\u001B[39margs, \u001B[38;5;241m*\u001B[39m\u001B[38;5;241m*\u001B[39mkwargs)\n\u001B[0;32m     90\u001B[0m \u001B[38;5;66;03m# extra_args > 0\u001B[39;00m\n\u001B[0;32m     91\u001B[0m args_msg \u001B[38;5;241m=\u001B[39m [\n\u001B[0;32m     92\u001B[0m     \u001B[38;5;124m\"\u001B[39m\u001B[38;5;132;01m{}\u001B[39;00m\u001B[38;5;124m=\u001B[39m\u001B[38;5;132;01m{}\u001B[39;00m\u001B[38;5;124m\"\u001B[39m\u001B[38;5;241m.\u001B[39mformat(name, arg)\n\u001B[0;32m     93\u001B[0m     \u001B[38;5;28;01mfor\u001B[39;00m name, arg \u001B[38;5;129;01min\u001B[39;00m \u001B[38;5;28mzip\u001B[39m(kwonly_args[:extra_args], args[\u001B[38;5;241m-\u001B[39mextra_args:])\n\u001B[0;32m     94\u001B[0m ]\n",
      "File \u001B[1;32m~\\miniconda3\\envs\\wind_turbine\\lib\\site-packages\\librosa\\core\\spectrum.py:202\u001B[0m, in \u001B[0;36mstft\u001B[1;34m(y, n_fft, hop_length, win_length, window, center, dtype, pad_mode)\u001B[0m\n\u001B[0;32m    199\u001B[0m     hop_length \u001B[38;5;241m=\u001B[39m \u001B[38;5;28mint\u001B[39m(win_length \u001B[38;5;241m/\u001B[39m\u001B[38;5;241m/\u001B[39m \u001B[38;5;241m4\u001B[39m)\n\u001B[0;32m    201\u001B[0m \u001B[38;5;66;03m# Check audio is valid\u001B[39;00m\n\u001B[1;32m--> 202\u001B[0m \u001B[43mutil\u001B[49m\u001B[38;5;241;43m.\u001B[39;49m\u001B[43mvalid_audio\u001B[49m\u001B[43m(\u001B[49m\u001B[43my\u001B[49m\u001B[43m,\u001B[49m\u001B[43m \u001B[49m\u001B[43mmono\u001B[49m\u001B[38;5;241;43m=\u001B[39;49m\u001B[38;5;28;43;01mFalse\u001B[39;49;00m\u001B[43m)\u001B[49m\n\u001B[0;32m    204\u001B[0m fft_window \u001B[38;5;241m=\u001B[39m get_window(window, win_length, fftbins\u001B[38;5;241m=\u001B[39m\u001B[38;5;28;01mTrue\u001B[39;00m)\n\u001B[0;32m    206\u001B[0m \u001B[38;5;66;03m# Pad the window out to n_fft size\u001B[39;00m\n",
      "File \u001B[1;32m~\\miniconda3\\envs\\wind_turbine\\lib\\site-packages\\librosa\\util\\decorators.py:88\u001B[0m, in \u001B[0;36mdeprecate_positional_args.<locals>._inner_deprecate_positional_args.<locals>.inner_f\u001B[1;34m(*args, **kwargs)\u001B[0m\n\u001B[0;32m     86\u001B[0m extra_args \u001B[38;5;241m=\u001B[39m \u001B[38;5;28mlen\u001B[39m(args) \u001B[38;5;241m-\u001B[39m \u001B[38;5;28mlen\u001B[39m(all_args)\n\u001B[0;32m     87\u001B[0m \u001B[38;5;28;01mif\u001B[39;00m extra_args \u001B[38;5;241m<\u001B[39m\u001B[38;5;241m=\u001B[39m \u001B[38;5;241m0\u001B[39m:\n\u001B[1;32m---> 88\u001B[0m     \u001B[38;5;28;01mreturn\u001B[39;00m f(\u001B[38;5;241m*\u001B[39margs, \u001B[38;5;241m*\u001B[39m\u001B[38;5;241m*\u001B[39mkwargs)\n\u001B[0;32m     90\u001B[0m \u001B[38;5;66;03m# extra_args > 0\u001B[39;00m\n\u001B[0;32m     91\u001B[0m args_msg \u001B[38;5;241m=\u001B[39m [\n\u001B[0;32m     92\u001B[0m     \u001B[38;5;124m\"\u001B[39m\u001B[38;5;132;01m{}\u001B[39;00m\u001B[38;5;124m=\u001B[39m\u001B[38;5;132;01m{}\u001B[39;00m\u001B[38;5;124m\"\u001B[39m\u001B[38;5;241m.\u001B[39mformat(name, arg)\n\u001B[0;32m     93\u001B[0m     \u001B[38;5;28;01mfor\u001B[39;00m name, arg \u001B[38;5;129;01min\u001B[39;00m \u001B[38;5;28mzip\u001B[39m(kwonly_args[:extra_args], args[\u001B[38;5;241m-\u001B[39mextra_args:])\n\u001B[0;32m     94\u001B[0m ]\n",
      "File \u001B[1;32m~\\miniconda3\\envs\\wind_turbine\\lib\\site-packages\\librosa\\util\\utils.py:294\u001B[0m, in \u001B[0;36mvalid_audio\u001B[1;34m(y, mono)\u001B[0m\n\u001B[0;32m    288\u001B[0m     \u001B[38;5;28;01mraise\u001B[39;00m ParameterError(\n\u001B[0;32m    289\u001B[0m         \u001B[38;5;124m\"\u001B[39m\u001B[38;5;124mInvalid shape for monophonic audio: \u001B[39m\u001B[38;5;124m\"\u001B[39m\n\u001B[0;32m    290\u001B[0m         \u001B[38;5;124m\"\u001B[39m\u001B[38;5;124mndim=\u001B[39m\u001B[38;5;132;01m{:d}\u001B[39;00m\u001B[38;5;124m, shape=\u001B[39m\u001B[38;5;132;01m{}\u001B[39;00m\u001B[38;5;124m\"\u001B[39m\u001B[38;5;241m.\u001B[39mformat(y\u001B[38;5;241m.\u001B[39mndim, y\u001B[38;5;241m.\u001B[39mshape)\n\u001B[0;32m    291\u001B[0m     )\n\u001B[0;32m    293\u001B[0m \u001B[38;5;28;01mif\u001B[39;00m \u001B[38;5;129;01mnot\u001B[39;00m np\u001B[38;5;241m.\u001B[39misfinite(y)\u001B[38;5;241m.\u001B[39mall():\n\u001B[1;32m--> 294\u001B[0m     \u001B[38;5;28;01mraise\u001B[39;00m ParameterError(\u001B[38;5;124m\"\u001B[39m\u001B[38;5;124mAudio buffer is not finite everywhere\u001B[39m\u001B[38;5;124m\"\u001B[39m)\n\u001B[0;32m    296\u001B[0m \u001B[38;5;28;01mreturn\u001B[39;00m \u001B[38;5;28;01mTrue\u001B[39;00m\n",
      "\u001B[1;31mParameterError\u001B[0m: Audio buffer is not finite everywhere"
     ]
    }
   ],
   "source": [
    "n_fft=2048\n",
    "hop_length=512\n",
    "height=-64\n",
    "distance=30\n",
    "prominence=1\n",
    "width=5\n",
    "segment_length=2\n",
    "segment_files_and_save(files=loaded_files, sr=target_sample_rate, segment_length=segment_length, hop_length=hop_length, n_fft=n_fft, height=height, distance=distance, prominence=prominence, width=width)"
   ],
   "metadata": {
    "collapsed": false,
    "ExecuteTime": {
     "end_time": "2024-06-20T07:26:45.975868Z",
     "start_time": "2024-06-20T07:26:31.516817Z"
    }
   },
   "id": "c3072ede662f71d",
   "execution_count": 10
  },
  {
   "cell_type": "code",
   "outputs": [],
   "source": [],
   "metadata": {
    "collapsed": false,
    "ExecuteTime": {
     "end_time": "2024-06-20T07:22:12.157645Z",
     "start_time": "2024-06-20T07:22:12.157645Z"
    }
   },
   "id": "7930c907fd561b5b",
   "execution_count": null
  }
 ],
 "metadata": {
  "kernelspec": {
   "display_name": "Python 3",
   "language": "python",
   "name": "python3"
  },
  "language_info": {
   "codemirror_mode": {
    "name": "ipython",
    "version": 2
   },
   "file_extension": ".py",
   "mimetype": "text/x-python",
   "name": "python",
   "nbconvert_exporter": "python",
   "pygments_lexer": "ipython2",
   "version": "2.7.6"
  }
 },
 "nbformat": 4,
 "nbformat_minor": 5
}
